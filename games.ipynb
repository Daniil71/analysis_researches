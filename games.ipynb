{
  "nbformat": 4,
  "nbformat_minor": 0,
  "metadata": {
    "colab": {
      "provenance": [],
      "collapsed_sections": [],
      "authorship_tag": "ABX9TyMjiOczoq2gNrt1fLoQzL+q",
      "include_colab_link": true
    },
    "kernelspec": {
      "name": "python3",
      "display_name": "Python 3"
    },
    "language_info": {
      "name": "python"
    }
  },
  "cells": [
    {
      "cell_type": "markdown",
      "metadata": {
        "id": "view-in-github",
        "colab_type": "text"
      },
      "source": [
        "<a href=\"https://colab.research.google.com/github/Daniil71/analysis_researches/blob/main/games.ipynb\" target=\"_parent\"><img src=\"https://colab.research.google.com/assets/colab-badge.svg\" alt=\"Open In Colab\"/></a>"
      ]
    },
    {
      "cell_type": "code",
      "execution_count": null,
      "metadata": {
        "id": "Yd_-BE-ezVnE"
      },
      "outputs": [],
      "source": [
        "import pandas as pd\n",
        "import numpy as np\n",
        "import matplotlib.pyplot as plt\n",
        "import seaborn as sns\n",
        "from scipy import stats"
      ]
    },
    {
      "cell_type": "markdown",
      "source": [
        "Задание 1"
      ],
      "metadata": {
        "id": "MR3AZtMCkt08"
      }
    },
    {
      "cell_type": "code",
      "source": [
        "\"\"\"\n",
        "1) Как критики относятся к спортивным играм?\n",
        "2) Критикам нравятся больше игры на PC или на PS4?\n",
        "3) Критикам больше нравятся стрелялки или стратегии?\n",
        "\n",
        "Для каждого вопроса:\n",
        "\n",
        "сформулируйте нулевую и альтернативную гипотезы;\n",
        "выберите пороговый уровень статистической значимости;\n",
        "опишите полученные результаты статистического теста.\n",
        "\"\"\""
      ],
      "metadata": {
        "id": "fW8U11fKCpfp"
      },
      "execution_count": null,
      "outputs": []
    },
    {
      "cell_type": "code",
      "source": [
        "df = pd.read_csv('https://raw.githubusercontent.com/obulygin/pyda_homeworks/master/stat_case_study/vgsales.csv')"
      ],
      "metadata": {
        "id": "Pj-diXtJz27K"
      },
      "execution_count": null,
      "outputs": []
    },
    {
      "cell_type": "code",
      "source": [
        "df.info()"
      ],
      "metadata": {
        "id": "XlFanlDyH1WP",
        "colab": {
          "base_uri": "https://localhost:8080/"
        },
        "outputId": "ba2994b9-7235-40a8-a393-5f77275eaca7"
      },
      "execution_count": null,
      "outputs": [
        {
          "output_type": "stream",
          "name": "stdout",
          "text": [
            "<class 'pandas.core.frame.DataFrame'>\n",
            "RangeIndex: 16719 entries, 0 to 16718\n",
            "Data columns (total 16 columns):\n",
            " #   Column           Non-Null Count  Dtype  \n",
            "---  ------           --------------  -----  \n",
            " 0   Name             16717 non-null  object \n",
            " 1   Platform         16719 non-null  object \n",
            " 2   Year_of_Release  16450 non-null  float64\n",
            " 3   Genre            16717 non-null  object \n",
            " 4   Publisher        16665 non-null  object \n",
            " 5   NA_Sales         16719 non-null  float64\n",
            " 6   EU_Sales         16719 non-null  float64\n",
            " 7   JP_Sales         16719 non-null  float64\n",
            " 8   Other_Sales      16719 non-null  float64\n",
            " 9   Global_Sales     16719 non-null  float64\n",
            " 10  Critic_Score     8137 non-null   float64\n",
            " 11  Critic_Count     8137 non-null   float64\n",
            " 12  User_Score       10015 non-null  object \n",
            " 13  User_Count       7590 non-null   float64\n",
            " 14  Developer        10096 non-null  object \n",
            " 15  Rating           9950 non-null   object \n",
            "dtypes: float64(9), object(7)\n",
            "memory usage: 2.0+ MB\n"
          ]
        }
      ]
    },
    {
      "cell_type": "code",
      "source": [
        "df['Genre'].value_counts()"
      ],
      "metadata": {
        "colab": {
          "base_uri": "https://localhost:8080/"
        },
        "id": "LcbM0zq7098W",
        "outputId": "1406824c-743f-45b1-a5dc-cfc1b26b0bda"
      },
      "execution_count": null,
      "outputs": [
        {
          "output_type": "execute_result",
          "data": {
            "text/plain": [
              "Action          3370\n",
              "Sports          2348\n",
              "Misc            1750\n",
              "Role-Playing    1500\n",
              "Shooter         1323\n",
              "Adventure       1303\n",
              "Racing          1249\n",
              "Platform         888\n",
              "Simulation       874\n",
              "Fighting         849\n",
              "Strategy         683\n",
              "Puzzle           580\n",
              "Name: Genre, dtype: int64"
            ]
          },
          "metadata": {},
          "execution_count": 16
        }
      ]
    },
    {
      "cell_type": "code",
      "source": [
        "# Спортивные игры\n",
        "# сперва посмотрим основные статистики и гистограммы всех оценок критиков и оценок спортивных игр\n",
        "print(df['Critic_Score'].dropna().describe())\n",
        "print('--'*10)\n",
        "print(df[df['Genre'] == 'Sports']['Critic_Score'].dropna().describe())\n",
        "sns.histplot(df['Critic_Score'], alpha = 0.3)\n",
        "sns.histplot(df[df['Genre'] == 'Sports']['Critic_Score'], color = 'r')"
      ],
      "metadata": {
        "colab": {
          "base_uri": "https://localhost:8080/",
          "height": 645
        },
        "id": "Y6INhTwN0RZ1",
        "outputId": "56e0e4d2-4f48-45cc-b17d-86a6a6990559"
      },
      "execution_count": null,
      "outputs": [
        {
          "output_type": "stream",
          "name": "stdout",
          "text": [
            "count    8137.000000\n",
            "mean       68.967679\n",
            "std        13.938165\n",
            "min        13.000000\n",
            "25%        60.000000\n",
            "50%        71.000000\n",
            "75%        79.000000\n",
            "max        98.000000\n",
            "Name: Critic_Score, dtype: float64\n",
            "--------------------\n",
            "count    1194.000000\n",
            "mean       71.968174\n",
            "std        13.878433\n",
            "min        19.000000\n",
            "25%        64.000000\n",
            "50%        75.000000\n",
            "75%        82.000000\n",
            "max        98.000000\n",
            "Name: Critic_Score, dtype: float64\n"
          ]
        },
        {
          "output_type": "execute_result",
          "data": {
            "text/plain": [
              "<matplotlib.axes._subplots.AxesSubplot at 0x7ff1be2030d0>"
            ]
          },
          "metadata": {},
          "execution_count": 59
        },
        {
          "output_type": "display_data",
          "data": {
            "image/png": "[encoded data removed]",
            "text/plain": [
              "<Figure size 432x288 with 1 Axes>"
            ]
          },
          "metadata": {
            "needs_background": "light"
          }
        }
      ]
    },
    {
      "cell_type": "code",
      "source": [
        "# видим, что распределения похо тожи на нормальные и подобны друг другу, средние и дисперсии практически не отличаются. Можно сформировать гипотезу:\n",
        "# Н0: критики относятся к спортивным играм так же, как и к остальным - оценки в среднем не отличаются, порог значимости = 0.05\n",
        "# H1: разница в отношении есть.\n",
        "sport_scores = df[df['Genre'] == 'Sports']['Critic_Score'].dropna()\n",
        "all_scores = df['Critic_Score'].dropna()\n",
        "tstat, pvalue = stats.ttest_1samp( a = sport_scores, popmean = all_scores.mean() )\n",
        "tstat, pvalue"
      ],
      "metadata": {
        "colab": {
          "base_uri": "https://localhost:8080/"
        },
        "id": "TtqYZPHL3TLu",
        "outputId": "e71c4206-8434-4fb5-a134-ea09b100e036"
      },
      "execution_count": null,
      "outputs": [
        {
          "output_type": "execute_result",
          "data": {
            "text/plain": [
              "(7.470587451672033, 1.538088875231057e-13)"
            ]
          },
          "metadata": {},
          "execution_count": 49
        }
      ]
    },
    {
      "cell_type": "code",
      "source": [
        "# интересно. Н0 должна быть отвергнута и исходя из t-статистики должно быть сильное отклонение между оценками спортивных игр\n",
        "# и просто всех игр с перевесом спортивных. Значит, первая визуализация была неверна. Посмотрим в процентном соотношении.\n",
        "sns.histplot(all_scores,  stat = 'percent', color = 'g')\n",
        "sns.histplot(sport_scores, alpha = 0.3, color = 'r', stat = 'percent' )"
      ],
      "metadata": {
        "colab": {
          "base_uri": "https://localhost:8080/",
          "height": 298
        },
        "id": "HyZRSouh6dAf",
        "outputId": "c958f7cb-286c-4dbf-d579-dc9653bea70e"
      },
      "execution_count": null,
      "outputs": [
        {
          "output_type": "execute_result",
          "data": {
            "text/plain": [
              "<matplotlib.axes._subplots.AxesSubplot at 0x7ff1bd492550>"
            ]
          },
          "metadata": {},
          "execution_count": 72
        },
        {
          "output_type": "display_data",
          "data": {
            "image/png": "[encoded data removed]",
            "text/plain": [
              "<Figure size 432x288 with 1 Axes>"
            ]
          },
          "metadata": {
            "needs_background": "light"
          }
        }
      ]
    },
    {
      "cell_type": "code",
      "source": [
        "# теперь видно, что среди ~1200 спротивных игр доля с высокой оценкой сильно выше, чем среди ~8000 игр вообще.\n",
        "# в гипотезе мы не учитывали атрибут \"количество оценок\". Посмотрим, насколько отличаются у спортивных и всех.\n",
        "print(df['Critic_Count'].describe())\n",
        "print('--'*10)\n",
        "print(df[df['Genre'] == 'Sports']['Critic_Count'].describe())"
      ],
      "metadata": {
        "colab": {
          "base_uri": "https://localhost:8080/"
        },
        "id": "uUqDMOTiA6bw",
        "outputId": "ab3600b1-2c6e-4030-c832-dbf68891b0f6"
      },
      "execution_count": null,
      "outputs": [
        {
          "output_type": "stream",
          "name": "stdout",
          "text": [
            "count    8137.000000\n",
            "mean       26.360821\n",
            "std        18.980495\n",
            "min         3.000000\n",
            "25%        12.000000\n",
            "50%        21.000000\n",
            "75%        36.000000\n",
            "max       113.000000\n",
            "Name: Critic_Count, dtype: float64\n",
            "--------------------\n",
            "count    1194.000000\n",
            "mean       21.030151\n",
            "std        13.663692\n",
            "min         4.000000\n",
            "25%        10.000000\n",
            "50%        18.000000\n",
            "75%        29.000000\n",
            "max        75.000000\n",
            "Name: Critic_Count, dtype: float64\n"
          ]
        }
      ]
    },
    {
      "cell_type": "code",
      "source": [
        "# У спортивных меньше в среднем оценок, но также меньше вариация. Проверим результаты выше с учётом только тех игр, которые получили\n",
        "# оценок выше среднего количества.Н0: отличий нет, Н1: обратная. Порог 0.05.\n",
        "all = df['Critic_Score'].loc[df['Critic_Count'] > 25]\n",
        "sport = df[df['Genre'] == 'Sports']['Critic_Score'].loc[df['Critic_Count'] > 25]\n",
        "tstat, pvalue = stats.ttest_1samp( a = sport, popmean = all.mean() )\n",
        "print(tstat, pvalue)\n",
        "sns.histplot(all,  stat = 'percent', color = 'g')\n",
        "sns.histplot(sport, alpha = 0.3, color = 'r', stat = 'percent' )"
      ],
      "metadata": {
        "colab": {
          "base_uri": "https://localhost:8080/",
          "height": 317
        },
        "id": "SmmtJ6XZAwrG",
        "outputId": "0237dafb-c45f-4c57-d2fc-7320deabcd2e"
      },
      "execution_count": null,
      "outputs": [
        {
          "output_type": "stream",
          "name": "stdout",
          "text": [
            "6.288660520006862 9.384927417112147e-10\n"
          ]
        },
        {
          "output_type": "execute_result",
          "data": {
            "text/plain": [
              "<matplotlib.axes._subplots.AxesSubplot at 0x7f2254d17c90>"
            ]
          },
          "metadata": {},
          "execution_count": 9
        },
        {
          "output_type": "display_data",
          "data": {
            "image/png": "[encoded data removed]",
            "text/plain": [
              "<Figure size 432x288 with 1 Axes>"
            ]
          },
          "metadata": {
            "needs_background": "light"
          }
        }
      ]
    },
    {
      "cell_type": "code",
      "source": [
        "# Подтверждение предыдушего.Н0 отвергнута, спортивные игры действительно выделяются более высокими оценками из генеральной совокупности игр."
      ],
      "metadata": {
        "id": "j4b7wNWkLGw_"
      },
      "execution_count": null,
      "outputs": []
    },
    {
      "cell_type": "code",
      "source": [
        "# платформы, сперва статистики\n",
        "\n",
        "pc = df[df['Platform'] == 'PC']['Critic_Score'].dropna()\n",
        "ps4 = df[df['Platform'] == 'PS4']['Critic_Score'].dropna()\n",
        "print(pc.describe())\n",
        "print('--'*10)\n",
        "print(ps4.describe())"
      ],
      "metadata": {
        "id": "wuMRJxozLuK5",
        "colab": {
          "base_uri": "https://localhost:8080/"
        },
        "outputId": "da947a59-254a-4f68-a821-0a519f29079a"
      },
      "execution_count": null,
      "outputs": [
        {
          "output_type": "stream",
          "name": "stdout",
          "text": [
            "count    715.000000\n",
            "mean      75.928671\n",
            "std       11.170775\n",
            "min       33.000000\n",
            "25%       70.000000\n",
            "50%       78.000000\n",
            "75%       84.000000\n",
            "max       96.000000\n",
            "Name: Critic_Score, dtype: float64\n",
            "--------------------\n",
            "count    252.000000\n",
            "mean      72.091270\n",
            "std       12.485992\n",
            "min       19.000000\n",
            "25%       66.000000\n",
            "50%       73.000000\n",
            "75%       80.000000\n",
            "max       97.000000\n",
            "Name: Critic_Score, dtype: float64\n"
          ]
        }
      ]
    },
    {
      "cell_type": "code",
      "source": [
        "sns.histplot(pc,  stat = 'percent', color = 'g')\n",
        "sns.histplot(ps4, alpha = 0.3, color = 'r', stat = 'percent' )"
      ],
      "metadata": {
        "colab": {
          "base_uri": "https://localhost:8080/",
          "height": 233
        },
        "id": "WG6c5FxEdsiP",
        "outputId": "401c0f87-f1a7-4b2c-d99c-cc998b9f834c"
      },
      "execution_count": null,
      "outputs": [
        {
          "output_type": "execute_result",
          "data": {
            "text/plain": [
              "<matplotlib.axes._subplots.AxesSubplot at 0x7f4db5eb91d0>"
            ]
          },
          "metadata": {},
          "execution_count": 10
        },
        {
          "output_type": "display_data",
          "data": {
            "image/png": "[encoded data removed]",
            "text/plain": [
              "<Figure size 432x288 with 1 Axes>"
            ]
          },
          "metadata": {
            "needs_background": "light"
          }
        }
      ]
    },
    {
      "cell_type": "code",
      "source": [
        "# интересная ситуация: ps4 превосходит в процентах pc\n",
        "# в первых трёх квартилях. У ps4 есть игры с крайне низкими оценками и при этом игр с действительно высокими значительно больше у pc.\n",
        "# у нас две независимые выборки. Н0: критики равны в своих оценках Н1: неравны.\n",
        "# уровень значимости - 0.05. Вариации столь близки, что можно счесть равными\n",
        "tstat, pvalue = stats.ttest_ind( ps4, pc)\n",
        "tstat, pvalue"
      ],
      "metadata": {
        "colab": {
          "base_uri": "https://localhost:8080/"
        },
        "id": "-htpv0PheAYA",
        "outputId": "c1fb7b4b-250f-48d4-fe93-94a63a51c1f8"
      },
      "execution_count": null,
      "outputs": [
        {
          "output_type": "execute_result",
          "data": {
            "text/plain": [
              "(-4.544112457929973, 6.215797831285281e-06)"
            ]
          },
          "metadata": {},
          "execution_count": 29
        }
      ]
    },
    {
      "cell_type": "code",
      "source": [
        "# Отвергаем Н0,  и по значению т-статистики можем утверждать, что\n",
        "# критики в среднем оценивают pc выше."
      ],
      "metadata": {
        "id": "CvqmDKrIf1kY"
      },
      "execution_count": null,
      "outputs": []
    },
    {
      "cell_type": "code",
      "source": [
        "#стратегии/стрелялки\n",
        "\n",
        "shooters = df[df['Genre'] == 'Shooter']['Critic_Score'].dropna()\n",
        "strategies = df[df['Genre'] == 'Strategy']['Critic_Score'].dropna()\n",
        "print(shooters.describe())\n",
        "print('--'*10)\n",
        "print(strategies.describe())"
      ],
      "metadata": {
        "colab": {
          "base_uri": "https://localhost:8080/"
        },
        "id": "VIWjpDV6hjio",
        "outputId": "f5b66113-c91c-4972-8048-305a2218697c"
      },
      "execution_count": null,
      "outputs": [
        {
          "output_type": "stream",
          "name": "stdout",
          "text": [
            "count    944.000000\n",
            "mean      70.181144\n",
            "std       14.552571\n",
            "min       22.000000\n",
            "25%       61.000000\n",
            "50%       73.000000\n",
            "75%       81.000000\n",
            "max       97.000000\n",
            "Name: Critic_Score, dtype: float64\n",
            "--------------------\n",
            "count    302.000000\n",
            "mean      72.086093\n",
            "std       11.828475\n",
            "min       35.000000\n",
            "25%       65.000000\n",
            "50%       73.000000\n",
            "75%       80.000000\n",
            "max       94.000000\n",
            "Name: Critic_Score, dtype: float64\n"
          ]
        }
      ]
    },
    {
      "cell_type": "code",
      "source": [
        "# потеряли половину стратегий после удаления nan\n",
        "# видим одинаковые медианы, близкие средние и разные СКО.\n",
        "sns.histplot(shooters,  stat = 'percent', color = 'g')\n",
        "sns.histplot(strategies, alpha = 0.3, color = 'r', stat = 'percent' )"
      ],
      "metadata": {
        "colab": {
          "base_uri": "https://localhost:8080/",
          "height": 237
        },
        "id": "Q5yic_cdiU7p",
        "outputId": "14f2e654-2795-4b3c-8d72-f6a859e3fe0c"
      },
      "execution_count": null,
      "outputs": [
        {
          "output_type": "execute_result",
          "data": {
            "text/plain": [
              "<matplotlib.axes._subplots.AxesSubplot at 0x7f4db57ff610>"
            ]
          },
          "metadata": {},
          "execution_count": 18
        },
        {
          "output_type": "display_data",
          "data": {
            "image/png": "[encoded data removed]",
            "text/plain": [
              "<Figure size 432x288 with 1 Axes>"
            ]
          },
          "metadata": {
            "needs_background": "light"
          }
        }
      ]
    },
    {
      "cell_type": "code",
      "source": [
        "# гистограмма показывает большую дисперсию шутеров. Кажется, что к стратегиям критики благосклонней.\n",
        "# но нужно помнить, что шутеров в три раза больше.\n",
        "# Н0: критики равны в оценках Н1: неравны. Уровень 0.05\n",
        "tstat, pvalue = stats.ttest_ind(shooters, strategies, equal_var = False)\n",
        "tstat, pvalue"
      ],
      "metadata": {
        "colab": {
          "base_uri": "https://localhost:8080/"
        },
        "id": "G6QABAIki8el",
        "outputId": "7851c71e-4e17-4724-c8c9-874a0389a4e8"
      },
      "execution_count": null,
      "outputs": [
        {
          "output_type": "execute_result",
          "data": {
            "text/plain": [
              "(-2.2972408230640315, 0.021938989522304823)"
            ]
          },
          "metadata": {},
          "execution_count": 20
        }
      ]
    },
    {
      "cell_type": "code",
      "source": [
        "# тест показывает, что критики неравны и оценивают стратегии в среднем выше, чем стрелялки."
      ],
      "metadata": {
        "id": "wLZjL_xbkFj8"
      },
      "execution_count": null,
      "outputs": []
    },
    {
      "cell_type": "markdown",
      "source": [
        "Задание 2"
      ],
      "metadata": {
        "id": "6HD7_iJbkqwm"
      }
    },
    {
      "cell_type": "code",
      "source": [
        "import re\n",
        "import nltk\n",
        "from nltk.corpus import stopwords\n",
        "nltk.download('stopwords') \n",
        "from nltk.stem import WordNetLemmatizer\n",
        "nltk.download('wordnet')\n",
        "\n",
        "\n",
        "from sklearn.model_selection import train_test_split\n",
        "from sklearn.feature_extraction.text import TfidfVectorizer\n",
        "from sklearn.linear_model import LogisticRegression\n",
        "from sklearn.metrics import accuracy_score\n",
        "from sklearn.metrics import confusion_matrix\n",
        "\n",
        "spam_df= pd.read_csv('https://raw.githubusercontent.com/obulygin/pyda_homeworks/master/stat_case_study/spam.csv')\n",
        "spam_df.info()"
      ],
      "metadata": {
        "colab": {
          "base_uri": "https://localhost:8080/"
        },
        "id": "PYjILNXF5S8A",
        "outputId": "39437f3c-ffa9-4197-9e38-1cd929d0a2ef"
      },
      "execution_count": null,
      "outputs": [
        {
          "output_type": "stream",
          "name": "stdout",
          "text": [
            "[nltk_data] Downloading package stopwords to /root/nltk_data...\n",
            "[nltk_data]   Unzipping corpora/stopwords.zip.\n",
            "[nltk_data] Downloading package wordnet to /root/nltk_data...\n",
            "[nltk_data]   Unzipping corpora/wordnet.zip.\n",
            "<class 'pandas.core.frame.DataFrame'>\n",
            "RangeIndex: 5572 entries, 0 to 5571\n",
            "Data columns (total 2 columns):\n",
            " #   Column    Non-Null Count  Dtype \n",
            "---  ------    --------------  ----- \n",
            " 0   Category  5572 non-null   object\n",
            " 1   Message   5572 non-null   object\n",
            "dtypes: object(2)\n",
            "memory usage: 87.2+ KB\n"
          ]
        }
      ]
    },
    {
      "cell_type": "code",
      "source": [
        "spam_df.head(20)"
      ],
      "metadata": {
        "id": "jmPjbLl5ktkH"
      },
      "execution_count": null,
      "outputs": []
    },
    {
      "cell_type": "code",
      "source": [
        "# посморим количество строк со спамом\n",
        "spam_df['Category'].value_counts()"
      ],
      "metadata": {
        "colab": {
          "base_uri": "https://localhost:8080/"
        },
        "id": "C31Kt6V-52-r",
        "outputId": "df13a2e1-3ffc-47c9-c178-0137e7bb9f69"
      },
      "execution_count": null,
      "outputs": [
        {
          "output_type": "execute_result",
          "data": {
            "text/plain": [
              "ham     4825\n",
              "spam     747\n",
              "Name: Category, dtype: int64"
            ]
          },
          "metadata": {},
          "execution_count": 4
        }
      ]
    },
    {
      "cell_type": "code",
      "source": [
        "# уберём служебные символы\n",
        "spam_df['Message']=spam_df['Message'].replace(to_replace='[\\W_]+', regex=True, value = ' ')"
      ],
      "metadata": {
        "id": "l-z4Mc4FSa_4"
      },
      "execution_count": null,
      "outputs": []
    },
    {
      "cell_type": "code",
      "source": [
        "def purifier(line):\n",
        "    \"\"\"\n",
        "        функция возвращает строку в ниж.рег., без стопслов и в лемматизированной форме\n",
        "    \"\"\"\n",
        "    stopwords_set = set(stopwords.words('english'))\n",
        "    lemmatizer = WordNetLemmatizer()\n",
        "    line = line.lower().split()\n",
        "    for word in line:\n",
        "        if word in stopwords_set:\n",
        "            line.remove(word)\n",
        "        word = lemmatizer.lemmatize(word)\n",
        "    return ' '.join(line)\n",
        "\n",
        "spam_df['Message'] = spam_df['Message'].apply(purifier)"
      ],
      "metadata": {
        "id": "XYhXUXCymbEN"
      },
      "execution_count": null,
      "outputs": []
    },
    {
      "cell_type": "code",
      "source": [
        "spam_df.head()"
      ],
      "metadata": {
        "colab": {
          "base_uri": "https://localhost:8080/",
          "height": 206
        },
        "id": "iLlWyE8HoBK0",
        "outputId": "8f2a9b3a-34f7-4b32-fbe5-6b51acbe4c18"
      },
      "execution_count": null,
      "outputs": [
        {
          "output_type": "execute_result",
          "data": {
            "text/html": [
              "\n",
              "  <div id=\"df-81e83752-0f87-433c-9937-172db39506aa\">\n",
              "    <div class=\"colab-df-container\">\n",
              "      <div>\n",
              "<style scoped>\n",
              "    .dataframe tbody tr th:only-of-type {\n",
              "        vertical-align: middle;\n",
              "    }\n",
              "\n",
              "    .dataframe tbody tr th {\n",
              "        vertical-align: top;\n",
              "    }\n",
              "\n",
              "    .dataframe thead th {\n",
              "        text-align: right;\n",
              "    }\n",
              "</style>\n",
              "<table border=\"1\" class=\"dataframe\">\n",
              "  <thead>\n",
              "    <tr style=\"text-align: right;\">\n",
              "      <th></th>\n",
              "      <th>Category</th>\n",
              "      <th>Message</th>\n",
              "    </tr>\n",
              "  </thead>\n",
              "  <tbody>\n",
              "    <tr>\n",
              "      <th>0</th>\n",
              "      <td>ham</td>\n",
              "      <td>go jurong point crazy available in bugis n gre...</td>\n",
              "    </tr>\n",
              "    <tr>\n",
              "      <th>1</th>\n",
              "      <td>ham</td>\n",
              "      <td>ok lar joking wif u oni</td>\n",
              "    </tr>\n",
              "    <tr>\n",
              "      <th>2</th>\n",
              "      <td>spam</td>\n",
              "      <td>free entry 2 wkly comp win fa cup final tkts 2...</td>\n",
              "    </tr>\n",
              "    <tr>\n",
              "      <th>3</th>\n",
              "      <td>ham</td>\n",
              "      <td>u dun say early hor u c already say</td>\n",
              "    </tr>\n",
              "    <tr>\n",
              "      <th>4</th>\n",
              "      <td>ham</td>\n",
              "      <td>nah don think goes usf lives around though</td>\n",
              "    </tr>\n",
              "  </tbody>\n",
              "</table>\n",
              "</div>\n",
              "      <button class=\"colab-df-convert\" onclick=\"convertToInteractive('df-81e83752-0f87-433c-9937-172db39506aa')\"\n",
              "              title=\"Convert this dataframe to an interactive table.\"\n",
              "              style=\"display:none;\">\n",
              "        \n",
              "  <svg xmlns=\"http://www.w3.org/2000/svg\" height=\"24px\"viewBox=\"0 0 24 24\"\n",
              "       width=\"24px\">\n",
              "    <path d=\"M0 0h24v24H0V0z\" fill=\"none\"/>\n",
              "    <path d=\"M18.56 5.44l.94 2.06.94-2.06 2.06-.94-2.06-.94-.94-2.06-.94 2.06-2.06.94zm-11 1L8.5 8.5l.94-2.06 2.06-.94-2.06-.94L8.5 2.5l-.94 2.06-2.06.94zm10 10l.94 2.06.94-2.06 2.06-.94-2.06-.94-.94-2.06-.94 2.06-2.06.94z\"/><path d=\"M17.41 7.96l-1.37-1.37c-.4-.4-.92-.59-1.43-.59-.52 0-1.04.2-1.43.59L10.3 9.45l-7.72 7.72c-.78.78-.78 2.05 0 2.83L4 21.41c.39.39.9.59 1.41.59.51 0 1.02-.2 1.41-.59l7.78-7.78 2.81-2.81c.8-.78.8-2.07 0-2.86zM5.41 20L4 18.59l7.72-7.72 1.47 1.35L5.41 20z\"/>\n",
              "  </svg>\n",
              "      </button>\n",
              "      \n",
              "  <style>\n",
              "    .colab-df-container {\n",
              "      display:flex;\n",
              "      flex-wrap:wrap;\n",
              "      gap: 12px;\n",
              "    }\n",
              "\n",
              "    .colab-df-convert {\n",
              "      background-color: #E8F0FE;\n",
              "      border: none;\n",
              "      border-radius: 50%;\n",
              "      cursor: pointer;\n",
              "      display: none;\n",
              "      fill: #1967D2;\n",
              "      height: 32px;\n",
              "      padding: 0 0 0 0;\n",
              "      width: 32px;\n",
              "    }\n",
              "\n",
              "    .colab-df-convert:hover {\n",
              "      background-color: #E2EBFA;\n",
              "      box-shadow: 0px 1px 2px rgba(60, 64, 67, 0.3), 0px 1px 3px 1px rgba(60, 64, 67, 0.15);\n",
              "      fill: #174EA6;\n",
              "    }\n",
              "\n",
              "    [theme=dark] .colab-df-convert {\n",
              "      background-color: #3B4455;\n",
              "      fill: #D2E3FC;\n",
              "    }\n",
              "\n",
              "    [theme=dark] .colab-df-convert:hover {\n",
              "      background-color: #434B5C;\n",
              "      box-shadow: 0px 1px 3px 1px rgba(0, 0, 0, 0.15);\n",
              "      filter: drop-shadow(0px 1px 2px rgba(0, 0, 0, 0.3));\n",
              "      fill: #FFFFFF;\n",
              "    }\n",
              "  </style>\n",
              "\n",
              "      <script>\n",
              "        const buttonEl =\n",
              "          document.querySelector('#df-81e83752-0f87-433c-9937-172db39506aa button.colab-df-convert');\n",
              "        buttonEl.style.display =\n",
              "          google.colab.kernel.accessAllowed ? 'block' : 'none';\n",
              "\n",
              "        async function convertToInteractive(key) {\n",
              "          const element = document.querySelector('#df-81e83752-0f87-433c-9937-172db39506aa');\n",
              "          const dataTable =\n",
              "            await google.colab.kernel.invokeFunction('convertToInteractive',\n",
              "                                                     [key], {});\n",
              "          if (!dataTable) return;\n",
              "\n",
              "          const docLinkHtml = 'Like what you see? Visit the ' +\n",
              "            '<a target=\"_blank\" href=https://colab.research.google.com/notebooks/data_table.ipynb>data table notebook</a>'\n",
              "            + ' to learn more about interactive tables.';\n",
              "          element.innerHTML = '';\n",
              "          dataTable['output_type'] = 'display_data';\n",
              "          await google.colab.output.renderOutput(dataTable, element);\n",
              "          const docLink = document.createElement('div');\n",
              "          docLink.innerHTML = docLinkHtml;\n",
              "          element.appendChild(docLink);\n",
              "        }\n",
              "      </script>\n",
              "    </div>\n",
              "  </div>\n",
              "  "
            ],
            "text/plain": [
              "  Category                                            Message\n",
              "0      ham  go jurong point crazy available in bugis n gre...\n",
              "1      ham                            ok lar joking wif u oni\n",
              "2     spam  free entry 2 wkly comp win fa cup final tkts 2...\n",
              "3      ham                u dun say early hor u c already say\n",
              "4      ham         nah don think goes usf lives around though"
            ]
          },
          "metadata": {},
          "execution_count": 6
        }
      ]
    },
    {
      "cell_type": "code",
      "source": [
        "# в принципе, при создании объекта tfidf можно было сделать и стоп-слова, и нижний регистр(с лемматизацией не разобрался - можно ли, нет),\n",
        "# но в итоге не стал вносить доп.параметры\n",
        "tfidf = TfidfVectorizer()\n",
        "tfidf_matrix = tfidf.fit_transform(spam_df['Message'])\n",
        "names = tfidf.get_feature_names()\n",
        "tfidf_matrix = pd.DataFrame(tfidf_matrix.toarray(), columns=names)"
      ],
      "metadata": {
        "colab": {
          "base_uri": "https://localhost:8080/"
        },
        "id": "B4an7Oyw9aff",
        "outputId": "12f8e56c-66ef-4432-a8dc-a4acfe02c594"
      },
      "execution_count": null,
      "outputs": [
        {
          "output_type": "stream",
          "name": "stderr",
          "text": [
            "/usr/local/lib/python3.7/dist-packages/sklearn/utils/deprecation.py:87: FutureWarning: Function get_feature_names is deprecated; get_feature_names is deprecated in 1.0 and will be removed in 1.2. Please use get_feature_names_out instead.\n",
            "  warnings.warn(msg, category=FutureWarning)\n"
          ]
        }
      ]
    },
    {
      "cell_type": "code",
      "source": [
        "tfidf_matrix.head()"
      ],
      "metadata": {
        "id": "Xr1UhPrtAPSb"
      },
      "execution_count": null,
      "outputs": []
    },
    {
      "cell_type": "code",
      "source": [
        "# ради примера посмотрим на частотность слова \"free\"\n",
        "tfidf_matrix['free'].value_counts()"
      ],
      "metadata": {
        "colab": {
          "base_uri": "https://localhost:8080/"
        },
        "id": "l3FdRmxfiJnm",
        "outputId": "f20a6416-f170-42e1-8bc3-d77081c47c59"
      },
      "execution_count": null,
      "outputs": [
        {
          "output_type": "execute_result",
          "data": {
            "text/plain": [
              "0.000000    5343\n",
              "0.184106       3\n",
              "0.278788       3\n",
              "0.139587       3\n",
              "0.121285       3\n",
              "            ... \n",
              "0.145897       1\n",
              "0.160241       1\n",
              "0.129567       1\n",
              "0.301018       1\n",
              "0.167189       1\n",
              "Name: free, Length: 196, dtype: int64"
            ]
          },
          "metadata": {},
          "execution_count": 75
        }
      ]
    },
    {
      "cell_type": "code",
      "source": [
        "# разделим данные, создадим логистическую регрессию, натренируем\n",
        "X_train, X_test, y_train, y_test = train_test_split(tfidf_matrix, spam_df['Category'], random_state = 42, test_size = 0.3)\n",
        "lr = LogisticRegression()\n",
        "lr.fit(X_train, y_train)"
      ],
      "metadata": {
        "id": "CSbJ6XQ2DHHT",
        "colab": {
          "base_uri": "https://localhost:8080/"
        },
        "outputId": "e4398eb0-671f-401c-fa16-d921a78b1965"
      },
      "execution_count": null,
      "outputs": [
        {
          "output_type": "execute_result",
          "data": {
            "text/plain": [
              "LogisticRegression()"
            ]
          },
          "metadata": {},
          "execution_count": 7
        }
      ]
    },
    {
      "cell_type": "code",
      "source": [
        "lr.predict(X_test)"
      ],
      "metadata": {
        "colab": {
          "base_uri": "https://localhost:8080/"
        },
        "id": "IpWLmksaD3Ov",
        "outputId": "190b01d9-8f12-4d4c-9761-078ccd04353d"
      },
      "execution_count": null,
      "outputs": [
        {
          "output_type": "execute_result",
          "data": {
            "text/plain": [
              "array(['ham', 'ham', 'ham', ..., 'ham', 'spam', 'ham'], dtype=object)"
            ]
          },
          "metadata": {},
          "execution_count": 41
        }
      ]
    },
    {
      "cell_type": "code",
      "source": [
        "# проверим точность и создадим матрицу ошибок\n",
        "print(accuracy_score(y_test, lr.predict(X_test)))\n",
        "print()\n",
        "print(confusion_matrix(y_test, lr.predict(X_test)))"
      ],
      "metadata": {
        "colab": {
          "base_uri": "https://localhost:8080/"
        },
        "id": "RvJjPJq2Fd1T",
        "outputId": "7d250287-20dd-420d-a67c-f7ff2eae64a1"
      },
      "execution_count": null,
      "outputs": [
        {
          "output_type": "stream",
          "name": "stdout",
          "text": [
            "0.9599282296650717\n",
            "\n",
            "[[1446    2]\n",
            " [  65  159]]\n"
          ]
        }
      ]
    },
    {
      "cell_type": "code",
      "source": [
        "# Всего 67 ошибок, из них 65 ошибки первого рода\n",
        "y_test"
      ],
      "metadata": {
        "id": "pHyNgMTaI7OO"
      },
      "execution_count": null,
      "outputs": []
    },
    {
      "cell_type": "code",
      "source": [
        "y_pred = lr.predict(X_test)"
      ],
      "metadata": {
        "id": "aRcnhFlRJ8kp"
      },
      "execution_count": null,
      "outputs": []
    },
    {
      "cell_type": "code",
      "source": [
        "y_pred"
      ],
      "metadata": {
        "colab": {
          "base_uri": "https://localhost:8080/"
        },
        "id": "vwPf21W5mic4",
        "outputId": "66afc967-99f6-4520-bfed-9a50d750951b"
      },
      "execution_count": null,
      "outputs": [
        {
          "output_type": "execute_result",
          "data": {
            "text/plain": [
              "array(['ham', 'ham', 'ham', ..., 'ham', 'spam', 'ham'], dtype=object)"
            ]
          },
          "metadata": {},
          "execution_count": 27
        }
      ]
    },
    {
      "cell_type": "code",
      "source": [
        "# создадим df с реальными и предсказанными ответами\n",
        "check_df = pd.merge(pd.DataFrame(y_test).reset_index(), pd.DataFrame(lr.predict(X_test)), left_index = True, right_index = True)\n",
        "check_df.info()"
      ],
      "metadata": {
        "id": "mLeFEzBJqeBs",
        "colab": {
          "base_uri": "https://localhost:8080/"
        },
        "outputId": "1e49656c-925f-47ff-b430-a2a91f7af04c"
      },
      "execution_count": null,
      "outputs": [
        {
          "output_type": "stream",
          "name": "stdout",
          "text": [
            "<class 'pandas.core.frame.DataFrame'>\n",
            "RangeIndex: 1672 entries, 0 to 1671\n",
            "Data columns (total 3 columns):\n",
            " #   Column    Non-Null Count  Dtype \n",
            "---  ------    --------------  ----- \n",
            " 0   index     1672 non-null   int64 \n",
            " 1   Category  1672 non-null   object\n",
            " 2   0         1672 non-null   object\n",
            "dtypes: int64(1), object(2)\n",
            "memory usage: 39.3+ KB\n"
          ]
        }
      ]
    },
    {
      "cell_type": "code",
      "source": [
        "# отберём только несовпавшие, объединим с исходным spam_df, выведем сообщения\n",
        "check_df = check_df.loc[check_df['Category'] != check_df[0]]\n",
        "mistakes_df = pd.merge(check_df, spam_df, left_on = check_df['index'], right_index = True, how = 'left')\n",
        "mistakes_df = mistakes_df[['Category_x',0,'Message']]\n",
        "mistakes_df  = mistakes_df.rename(columns = {'Category_x':'Real_category',0:'Pred_category'})\n",
        "mistakes_df"
      ],
      "metadata": {
        "id": "O3H-8ZnPrDT2",
        "colab": {
          "base_uri": "https://localhost:8080/",
          "height": 424
        },
        "outputId": "59609dc0-8b8a-4baa-8e92-da73020fbf7d"
      },
      "execution_count": null,
      "outputs": [
        {
          "output_type": "execute_result",
          "data": {
            "text/plain": [
              "     Real_category Pred_category  \\\n",
              "40            spam           ham   \n",
              "74            spam           ham   \n",
              "84            spam           ham   \n",
              "119           spam           ham   \n",
              "160           spam           ham   \n",
              "...            ...           ...   \n",
              "1525          spam           ham   \n",
              "1567          spam           ham   \n",
              "1569          spam           ham   \n",
              "1576           ham          spam   \n",
              "1586          spam           ham   \n",
              "\n",
              "                                                Message  \n",
              "40    reminder have downloaded content have already ...  \n",
              "74    oh god ve found number i so glad text back xaf...  \n",
              "84    next amazing xxx picsfree1 video be sent you e...  \n",
              "119   rock yr chik get 100 of filthy films xxx pics ...  \n",
              "160   babe u want dont u baby im nasty have thing 4 ...  \n",
              "...                                                 ...  \n",
              "1525  freemsg hi baby wow got new cam moby wanna c h...  \n",
              "1567  have important customer service announcement p...  \n",
              "1569  themob check our newest selection content game...  \n",
              "1576                                  you free can call  \n",
              "1586  sms ac blind date 4u rodds1 21 from aberdeen u...  \n",
              "\n",
              "[67 rows x 3 columns]"
            ],
            "text/html": [
              "\n",
              "  <div id=\"df-71d7110d-5582-4917-8d3f-c815d04bdda2\">\n",
              "    <div class=\"colab-df-container\">\n",
              "      <div>\n",
              "<style scoped>\n",
              "    .dataframe tbody tr th:only-of-type {\n",
              "        vertical-align: middle;\n",
              "    }\n",
              "\n",
              "    .dataframe tbody tr th {\n",
              "        vertical-align: top;\n",
              "    }\n",
              "\n",
              "    .dataframe thead th {\n",
              "        text-align: right;\n",
              "    }\n",
              "</style>\n",
              "<table border=\"1\" class=\"dataframe\">\n",
              "  <thead>\n",
              "    <tr style=\"text-align: right;\">\n",
              "      <th></th>\n",
              "      <th>Real_category</th>\n",
              "      <th>Pred_category</th>\n",
              "      <th>Message</th>\n",
              "    </tr>\n",
              "  </thead>\n",
              "  <tbody>\n",
              "    <tr>\n",
              "      <th>40</th>\n",
              "      <td>spam</td>\n",
              "      <td>ham</td>\n",
              "      <td>reminder have downloaded content have already ...</td>\n",
              "    </tr>\n",
              "    <tr>\n",
              "      <th>74</th>\n",
              "      <td>spam</td>\n",
              "      <td>ham</td>\n",
              "      <td>oh god ve found number i so glad text back xaf...</td>\n",
              "    </tr>\n",
              "    <tr>\n",
              "      <th>84</th>\n",
              "      <td>spam</td>\n",
              "      <td>ham</td>\n",
              "      <td>next amazing xxx picsfree1 video be sent you e...</td>\n",
              "    </tr>\n",
              "    <tr>\n",
              "      <th>119</th>\n",
              "      <td>spam</td>\n",
              "      <td>ham</td>\n",
              "      <td>rock yr chik get 100 of filthy films xxx pics ...</td>\n",
              "    </tr>\n",
              "    <tr>\n",
              "      <th>160</th>\n",
              "      <td>spam</td>\n",
              "      <td>ham</td>\n",
              "      <td>babe u want dont u baby im nasty have thing 4 ...</td>\n",
              "    </tr>\n",
              "    <tr>\n",
              "      <th>...</th>\n",
              "      <td>...</td>\n",
              "      <td>...</td>\n",
              "      <td>...</td>\n",
              "    </tr>\n",
              "    <tr>\n",
              "      <th>1525</th>\n",
              "      <td>spam</td>\n",
              "      <td>ham</td>\n",
              "      <td>freemsg hi baby wow got new cam moby wanna c h...</td>\n",
              "    </tr>\n",
              "    <tr>\n",
              "      <th>1567</th>\n",
              "      <td>spam</td>\n",
              "      <td>ham</td>\n",
              "      <td>have important customer service announcement p...</td>\n",
              "    </tr>\n",
              "    <tr>\n",
              "      <th>1569</th>\n",
              "      <td>spam</td>\n",
              "      <td>ham</td>\n",
              "      <td>themob check our newest selection content game...</td>\n",
              "    </tr>\n",
              "    <tr>\n",
              "      <th>1576</th>\n",
              "      <td>ham</td>\n",
              "      <td>spam</td>\n",
              "      <td>you free can call</td>\n",
              "    </tr>\n",
              "    <tr>\n",
              "      <th>1586</th>\n",
              "      <td>spam</td>\n",
              "      <td>ham</td>\n",
              "      <td>sms ac blind date 4u rodds1 21 from aberdeen u...</td>\n",
              "    </tr>\n",
              "  </tbody>\n",
              "</table>\n",
              "<p>67 rows × 3 columns</p>\n",
              "</div>\n",
              "      <button class=\"colab-df-convert\" onclick=\"convertToInteractive('df-71d7110d-5582-4917-8d3f-c815d04bdda2')\"\n",
              "              title=\"Convert this dataframe to an interactive table.\"\n",
              "              style=\"display:none;\">\n",
              "        \n",
              "  <svg xmlns=\"http://www.w3.org/2000/svg\" height=\"24px\"viewBox=\"0 0 24 24\"\n",
              "       width=\"24px\">\n",
              "    <path d=\"M0 0h24v24H0V0z\" fill=\"none\"/>\n",
              "    <path d=\"M18.56 5.44l.94 2.06.94-2.06 2.06-.94-2.06-.94-.94-2.06-.94 2.06-2.06.94zm-11 1L8.5 8.5l.94-2.06 2.06-.94-2.06-.94L8.5 2.5l-.94 2.06-2.06.94zm10 10l.94 2.06.94-2.06 2.06-.94-2.06-.94-.94-2.06-.94 2.06-2.06.94z\"/><path d=\"M17.41 7.96l-1.37-1.37c-.4-.4-.92-.59-1.43-.59-.52 0-1.04.2-1.43.59L10.3 9.45l-7.72 7.72c-.78.78-.78 2.05 0 2.83L4 21.41c.39.39.9.59 1.41.59.51 0 1.02-.2 1.41-.59l7.78-7.78 2.81-2.81c.8-.78.8-2.07 0-2.86zM5.41 20L4 18.59l7.72-7.72 1.47 1.35L5.41 20z\"/>\n",
              "  </svg>\n",
              "      </button>\n",
              "      \n",
              "  <style>\n",
              "    .colab-df-container {\n",
              "      display:flex;\n",
              "      flex-wrap:wrap;\n",
              "      gap: 12px;\n",
              "    }\n",
              "\n",
              "    .colab-df-convert {\n",
              "      background-color: #E8F0FE;\n",
              "      border: none;\n",
              "      border-radius: 50%;\n",
              "      cursor: pointer;\n",
              "      display: none;\n",
              "      fill: #1967D2;\n",
              "      height: 32px;\n",
              "      padding: 0 0 0 0;\n",
              "      width: 32px;\n",
              "    }\n",
              "\n",
              "    .colab-df-convert:hover {\n",
              "      background-color: #E2EBFA;\n",
              "      box-shadow: 0px 1px 2px rgba(60, 64, 67, 0.3), 0px 1px 3px 1px rgba(60, 64, 67, 0.15);\n",
              "      fill: #174EA6;\n",
              "    }\n",
              "\n",
              "    [theme=dark] .colab-df-convert {\n",
              "      background-color: #3B4455;\n",
              "      fill: #D2E3FC;\n",
              "    }\n",
              "\n",
              "    [theme=dark] .colab-df-convert:hover {\n",
              "      background-color: #434B5C;\n",
              "      box-shadow: 0px 1px 3px 1px rgba(0, 0, 0, 0.15);\n",
              "      filter: drop-shadow(0px 1px 2px rgba(0, 0, 0, 0.3));\n",
              "      fill: #FFFFFF;\n",
              "    }\n",
              "  </style>\n",
              "\n",
              "      <script>\n",
              "        const buttonEl =\n",
              "          document.querySelector('#df-71d7110d-5582-4917-8d3f-c815d04bdda2 button.colab-df-convert');\n",
              "        buttonEl.style.display =\n",
              "          google.colab.kernel.accessAllowed ? 'block' : 'none';\n",
              "\n",
              "        async function convertToInteractive(key) {\n",
              "          const element = document.querySelector('#df-71d7110d-5582-4917-8d3f-c815d04bdda2');\n",
              "          const dataTable =\n",
              "            await google.colab.kernel.invokeFunction('convertToInteractive',\n",
              "                                                     [key], {});\n",
              "          if (!dataTable) return;\n",
              "\n",
              "          const docLinkHtml = 'Like what you see? Visit the ' +\n",
              "            '<a target=\"_blank\" href=https://colab.research.google.com/notebooks/data_table.ipynb>data table notebook</a>'\n",
              "            + ' to learn more about interactive tables.';\n",
              "          element.innerHTML = '';\n",
              "          dataTable['output_type'] = 'display_data';\n",
              "          await google.colab.output.renderOutput(dataTable, element);\n",
              "          const docLink = document.createElement('div');\n",
              "          docLink.innerHTML = docLinkHtml;\n",
              "          element.appendChild(docLink);\n",
              "        }\n",
              "      </script>\n",
              "    </div>\n",
              "  </div>\n",
              "  "
            ]
          },
          "metadata": {},
          "execution_count": 9
        }
      ]
    },
    {
      "cell_type": "code",
      "source": [
        "# в итоге наша модель сочла спамом два сообщения с очевидно спамовыми сочетаниями free и call.\n",
        "mistakes_df[(mistakes_df['Pred_category'] == 'spam') & (mistakes_df['Real_category'] == 'ham')]"
      ],
      "metadata": {
        "id": "W1Y_t2Vmwkfn",
        "colab": {
          "base_uri": "https://localhost:8080/",
          "height": 112
        },
        "outputId": "63c7e46f-99e8-47db-c838-64e713bbf3a7"
      },
      "execution_count": null,
      "outputs": [
        {
          "output_type": "execute_result",
          "data": {
            "text/plain": [
              "     Real_category Pred_category                                    Message\n",
              "1471           ham          spam  sir am waiting your call free please call\n",
              "1576           ham          spam                          you free can call"
            ],
            "text/html": [
              "\n",
              "  <div id=\"df-162e8f9f-c1f4-4d0e-ab42-954c5dd6609e\">\n",
              "    <div class=\"colab-df-container\">\n",
              "      <div>\n",
              "<style scoped>\n",
              "    .dataframe tbody tr th:only-of-type {\n",
              "        vertical-align: middle;\n",
              "    }\n",
              "\n",
              "    .dataframe tbody tr th {\n",
              "        vertical-align: top;\n",
              "    }\n",
              "\n",
              "    .dataframe thead th {\n",
              "        text-align: right;\n",
              "    }\n",
              "</style>\n",
              "<table border=\"1\" class=\"dataframe\">\n",
              "  <thead>\n",
              "    <tr style=\"text-align: right;\">\n",
              "      <th></th>\n",
              "      <th>Real_category</th>\n",
              "      <th>Pred_category</th>\n",
              "      <th>Message</th>\n",
              "    </tr>\n",
              "  </thead>\n",
              "  <tbody>\n",
              "    <tr>\n",
              "      <th>1471</th>\n",
              "      <td>ham</td>\n",
              "      <td>spam</td>\n",
              "      <td>sir am waiting your call free please call</td>\n",
              "    </tr>\n",
              "    <tr>\n",
              "      <th>1576</th>\n",
              "      <td>ham</td>\n",
              "      <td>spam</td>\n",
              "      <td>you free can call</td>\n",
              "    </tr>\n",
              "  </tbody>\n",
              "</table>\n",
              "</div>\n",
              "      <button class=\"colab-df-convert\" onclick=\"convertToInteractive('df-162e8f9f-c1f4-4d0e-ab42-954c5dd6609e')\"\n",
              "              title=\"Convert this dataframe to an interactive table.\"\n",
              "              style=\"display:none;\">\n",
              "        \n",
              "  <svg xmlns=\"http://www.w3.org/2000/svg\" height=\"24px\"viewBox=\"0 0 24 24\"\n",
              "       width=\"24px\">\n",
              "    <path d=\"M0 0h24v24H0V0z\" fill=\"none\"/>\n",
              "    <path d=\"M18.56 5.44l.94 2.06.94-2.06 2.06-.94-2.06-.94-.94-2.06-.94 2.06-2.06.94zm-11 1L8.5 8.5l.94-2.06 2.06-.94-2.06-.94L8.5 2.5l-.94 2.06-2.06.94zm10 10l.94 2.06.94-2.06 2.06-.94-2.06-.94-.94-2.06-.94 2.06-2.06.94z\"/><path d=\"M17.41 7.96l-1.37-1.37c-.4-.4-.92-.59-1.43-.59-.52 0-1.04.2-1.43.59L10.3 9.45l-7.72 7.72c-.78.78-.78 2.05 0 2.83L4 21.41c.39.39.9.59 1.41.59.51 0 1.02-.2 1.41-.59l7.78-7.78 2.81-2.81c.8-.78.8-2.07 0-2.86zM5.41 20L4 18.59l7.72-7.72 1.47 1.35L5.41 20z\"/>\n",
              "  </svg>\n",
              "      </button>\n",
              "      \n",
              "  <style>\n",
              "    .colab-df-container {\n",
              "      display:flex;\n",
              "      flex-wrap:wrap;\n",
              "      gap: 12px;\n",
              "    }\n",
              "\n",
              "    .colab-df-convert {\n",
              "      background-color: #E8F0FE;\n",
              "      border: none;\n",
              "      border-radius: 50%;\n",
              "      cursor: pointer;\n",
              "      display: none;\n",
              "      fill: #1967D2;\n",
              "      height: 32px;\n",
              "      padding: 0 0 0 0;\n",
              "      width: 32px;\n",
              "    }\n",
              "\n",
              "    .colab-df-convert:hover {\n",
              "      background-color: #E2EBFA;\n",
              "      box-shadow: 0px 1px 2px rgba(60, 64, 67, 0.3), 0px 1px 3px 1px rgba(60, 64, 67, 0.15);\n",
              "      fill: #174EA6;\n",
              "    }\n",
              "\n",
              "    [theme=dark] .colab-df-convert {\n",
              "      background-color: #3B4455;\n",
              "      fill: #D2E3FC;\n",
              "    }\n",
              "\n",
              "    [theme=dark] .colab-df-convert:hover {\n",
              "      background-color: #434B5C;\n",
              "      box-shadow: 0px 1px 3px 1px rgba(0, 0, 0, 0.15);\n",
              "      filter: drop-shadow(0px 1px 2px rgba(0, 0, 0, 0.3));\n",
              "      fill: #FFFFFF;\n",
              "    }\n",
              "  </style>\n",
              "\n",
              "      <script>\n",
              "        const buttonEl =\n",
              "          document.querySelector('#df-162e8f9f-c1f4-4d0e-ab42-954c5dd6609e button.colab-df-convert');\n",
              "        buttonEl.style.display =\n",
              "          google.colab.kernel.accessAllowed ? 'block' : 'none';\n",
              "\n",
              "        async function convertToInteractive(key) {\n",
              "          const element = document.querySelector('#df-162e8f9f-c1f4-4d0e-ab42-954c5dd6609e');\n",
              "          const dataTable =\n",
              "            await google.colab.kernel.invokeFunction('convertToInteractive',\n",
              "                                                     [key], {});\n",
              "          if (!dataTable) return;\n",
              "\n",
              "          const docLinkHtml = 'Like what you see? Visit the ' +\n",
              "            '<a target=\"_blank\" href=https://colab.research.google.com/notebooks/data_table.ipynb>data table notebook</a>'\n",
              "            + ' to learn more about interactive tables.';\n",
              "          element.innerHTML = '';\n",
              "          dataTable['output_type'] = 'display_data';\n",
              "          await google.colab.output.renderOutput(dataTable, element);\n",
              "          const docLink = document.createElement('div');\n",
              "          docLink.innerHTML = docLinkHtml;\n",
              "          element.appendChild(docLink);\n",
              "        }\n",
              "      </script>\n",
              "    </div>\n",
              "  </div>\n",
              "  "
            ]
          },
          "metadata": {},
          "execution_count": 19
        }
      ]
    },
    {
      "cell_type": "code",
      "source": [
        "mistakes_df[(mistakes_df['Pred_category'] == 'ham') & (mistakes_df['Real_category'] == 'spam')]"
      ],
      "metadata": {
        "id": "VJumNFczycS3"
      },
      "execution_count": null,
      "outputs": []
    },
    {
      "cell_type": "code",
      "source": [
        "# Ещё раз благодарю за курс! Было очень интересно."
      ],
      "metadata": {
        "id": "b6g5efKixIiy"
      },
      "execution_count": null,
      "outputs": []
    },
    {
      "cell_type": "code",
      "source": [
        "y_test"
      ],
      "metadata": {
        "colab": {
          "base_uri": "https://localhost:8080/"
        },
        "id": "DAj3j2tiYav5",
        "outputId": "612c02b1-03ef-4736-ca72-97264afbe303"
      },
      "execution_count": null,
      "outputs": [
        {
          "output_type": "execute_result",
          "data": {
            "text/plain": [
              "3245     ham\n",
              "944      ham\n",
              "1044     ham\n",
              "2484     ham\n",
              "812      ham\n",
              "        ... \n",
              "2505     ham\n",
              "2525    spam\n",
              "4975     ham\n",
              "650     spam\n",
              "4463     ham\n",
              "Name: Category, Length: 1672, dtype: object"
            ]
          },
          "metadata": {},
          "execution_count": 18
        }
      ]
    },
    {
      "cell_type": "code",
      "source": [
        "\n",
        "one_more = y_test.map(dict(ham=0, spam=1))"
      ],
      "metadata": {
        "id": "FgegdmYSY17I"
      },
      "execution_count": null,
      "outputs": []
    },
    {
      "cell_type": "code",
      "source": [
        "one_more"
      ],
      "metadata": {
        "colab": {
          "base_uri": "https://localhost:8080/"
        },
        "id": "keO-fTgOZpZE",
        "outputId": "1bbbe6f3-7a40-418f-86cc-a23b0a714c19"
      },
      "execution_count": null,
      "outputs": [
        {
          "output_type": "execute_result",
          "data": {
            "text/plain": [
              "3245    0\n",
              "944     0\n",
              "1044    0\n",
              "2484    0\n",
              "812     0\n",
              "       ..\n",
              "2505    0\n",
              "2525    1\n",
              "4975    0\n",
              "650     1\n",
              "4463    0\n",
              "Name: Category, Length: 1672, dtype: int64"
            ]
          },
          "metadata": {},
          "execution_count": 23
        }
      ]
    },
    {
      "cell_type": "code",
      "source": [
        "from sklearn import metrics\n",
        "# ROC\n",
        "y_pred_proba = lr.predict_proba(X_test)[::,1]\n",
        "fpr, tpr, _ = metrics.roc_curve(one_more,  y_pred_proba)\n",
        "auc = metrics.roc_auc_score(y_test, y_pred_proba)\n",
        "plt.plot(fpr,tpr,label=\"data 1, auc=\"+str(auc))\n",
        "plt.legend(loc=4)\n",
        "plt.show()"
      ],
      "metadata": {
        "colab": {
          "base_uri": "https://localhost:8080/",
          "height": 265
        },
        "id": "NCFbQjWrX4PZ",
        "outputId": "0483edc9-9cec-49fd-c6a5-e7c107d15e7a"
      },
      "execution_count": null,
      "outputs": [
        {
          "output_type": "display_data",
          "data": {
            "image/png": "[encoded data removed]",
            "text/plain": [
              "<Figure size 432x288 with 1 Axes>"
            ]
          },
          "metadata": {
            "needs_background": "light"
          }
        }
      ]
    },
    {
      "cell_type": "code",
      "source": [
        "pd.Series(lr.predict(X_test),index = y_test.index, name = 'predict')"
      ],
      "metadata": {
        "colab": {
          "base_uri": "https://localhost:8080/"
        },
        "id": "6kzaSEKEu0YV",
        "outputId": "14e61433-7844-4adb-b384-806b00e369c0"
      },
      "execution_count": null,
      "outputs": [
        {
          "output_type": "execute_result",
          "data": {
            "text/plain": [
              "3245     ham\n",
              "944      ham\n",
              "1044     ham\n",
              "2484     ham\n",
              "812      ham\n",
              "        ... \n",
              "2505     ham\n",
              "2525    spam\n",
              "4975     ham\n",
              "650     spam\n",
              "4463     ham\n",
              "Name: predict, Length: 1672, dtype: object"
            ]
          },
          "metadata": {},
          "execution_count": 14
        }
      ]
    },
    {
      "cell_type": "code",
      "source": [
        "# вариант с конкатенацией - проще и элегантней моего мёрджа.\n",
        "df_bad = pd.concat([spam_df[spam_df.index.isin(y_test.index)],\n",
        "pd.Series(lr.predict(X_test),index = y_test.index, name = 'predict')],axis=1, join = 'inner')\n",
        "\n",
        "df_bad = df_bad[df_bad['Category'] != df_bad['predict']]\n",
        "df_bad"
      ],
      "metadata": {
        "colab": {
          "base_uri": "https://localhost:8080/",
          "height": 424
        },
        "id": "dt7YIUnvqIbX",
        "outputId": "1c521a31-567f-43a9-c173-54b37a001181"
      },
      "execution_count": null,
      "outputs": [
        {
          "output_type": "execute_result",
          "data": {
            "text/plain": [
              "     Category                                            Message predict\n",
              "15       spam  xxxmobilemovieclub use credit click wap link t...     ham\n",
              "19       spam  england v macedonia dont miss goals team news ...     ham\n",
              "68       spam  you hear the new divorce barbie comes all ken ...     ham\n",
              "95       spam  free ringtone waiting be collected simply text...     ham\n",
              "135      spam  want 2 get laid tonight want real dogging loca...     ham\n",
              "...       ...                                                ...     ...\n",
              "4652     spam  400 xmas reward waiting computer randomly pick...     ham\n",
              "5037     spam  won believe but s true s incredible txts reply...     ham\n",
              "5120     spam                 private 2003 account statement 078     ham\n",
              "5366     spam  400 xmas reward waiting computer randomly pick...     ham\n",
              "5377     spam  current leading bid 151 pause auction send cus...     ham\n",
              "\n",
              "[67 rows x 3 columns]"
            ],
            "text/html": [
              "\n",
              "  <div id=\"df-eb2ebaa6-23f6-4fc6-9f1e-5882f012f529\">\n",
              "    <div class=\"colab-df-container\">\n",
              "      <div>\n",
              "<style scoped>\n",
              "    .dataframe tbody tr th:only-of-type {\n",
              "        vertical-align: middle;\n",
              "    }\n",
              "\n",
              "    .dataframe tbody tr th {\n",
              "        vertical-align: top;\n",
              "    }\n",
              "\n",
              "    .dataframe thead th {\n",
              "        text-align: right;\n",
              "    }\n",
              "</style>\n",
              "<table border=\"1\" class=\"dataframe\">\n",
              "  <thead>\n",
              "    <tr style=\"text-align: right;\">\n",
              "      <th></th>\n",
              "      <th>Category</th>\n",
              "      <th>Message</th>\n",
              "      <th>predict</th>\n",
              "    </tr>\n",
              "  </thead>\n",
              "  <tbody>\n",
              "    <tr>\n",
              "      <th>15</th>\n",
              "      <td>spam</td>\n",
              "      <td>xxxmobilemovieclub use credit click wap link t...</td>\n",
              "      <td>ham</td>\n",
              "    </tr>\n",
              "    <tr>\n",
              "      <th>19</th>\n",
              "      <td>spam</td>\n",
              "      <td>england v macedonia dont miss goals team news ...</td>\n",
              "      <td>ham</td>\n",
              "    </tr>\n",
              "    <tr>\n",
              "      <th>68</th>\n",
              "      <td>spam</td>\n",
              "      <td>you hear the new divorce barbie comes all ken ...</td>\n",
              "      <td>ham</td>\n",
              "    </tr>\n",
              "    <tr>\n",
              "      <th>95</th>\n",
              "      <td>spam</td>\n",
              "      <td>free ringtone waiting be collected simply text...</td>\n",
              "      <td>ham</td>\n",
              "    </tr>\n",
              "    <tr>\n",
              "      <th>135</th>\n",
              "      <td>spam</td>\n",
              "      <td>want 2 get laid tonight want real dogging loca...</td>\n",
              "      <td>ham</td>\n",
              "    </tr>\n",
              "    <tr>\n",
              "      <th>...</th>\n",
              "      <td>...</td>\n",
              "      <td>...</td>\n",
              "      <td>...</td>\n",
              "    </tr>\n",
              "    <tr>\n",
              "      <th>4652</th>\n",
              "      <td>spam</td>\n",
              "      <td>400 xmas reward waiting computer randomly pick...</td>\n",
              "      <td>ham</td>\n",
              "    </tr>\n",
              "    <tr>\n",
              "      <th>5037</th>\n",
              "      <td>spam</td>\n",
              "      <td>won believe but s true s incredible txts reply...</td>\n",
              "      <td>ham</td>\n",
              "    </tr>\n",
              "    <tr>\n",
              "      <th>5120</th>\n",
              "      <td>spam</td>\n",
              "      <td>private 2003 account statement 078</td>\n",
              "      <td>ham</td>\n",
              "    </tr>\n",
              "    <tr>\n",
              "      <th>5366</th>\n",
              "      <td>spam</td>\n",
              "      <td>400 xmas reward waiting computer randomly pick...</td>\n",
              "      <td>ham</td>\n",
              "    </tr>\n",
              "    <tr>\n",
              "      <th>5377</th>\n",
              "      <td>spam</td>\n",
              "      <td>current leading bid 151 pause auction send cus...</td>\n",
              "      <td>ham</td>\n",
              "    </tr>\n",
              "  </tbody>\n",
              "</table>\n",
              "<p>67 rows × 3 columns</p>\n",
              "</div>\n",
              "      <button class=\"colab-df-convert\" onclick=\"convertToInteractive('df-eb2ebaa6-23f6-4fc6-9f1e-5882f012f529')\"\n",
              "              title=\"Convert this dataframe to an interactive table.\"\n",
              "              style=\"display:none;\">\n",
              "        \n",
              "  <svg xmlns=\"http://www.w3.org/2000/svg\" height=\"24px\"viewBox=\"0 0 24 24\"\n",
              "       width=\"24px\">\n",
              "    <path d=\"M0 0h24v24H0V0z\" fill=\"none\"/>\n",
              "    <path d=\"M18.56 5.44l.94 2.06.94-2.06 2.06-.94-2.06-.94-.94-2.06-.94 2.06-2.06.94zm-11 1L8.5 8.5l.94-2.06 2.06-.94-2.06-.94L8.5 2.5l-.94 2.06-2.06.94zm10 10l.94 2.06.94-2.06 2.06-.94-2.06-.94-.94-2.06-.94 2.06-2.06.94z\"/><path d=\"M17.41 7.96l-1.37-1.37c-.4-.4-.92-.59-1.43-.59-.52 0-1.04.2-1.43.59L10.3 9.45l-7.72 7.72c-.78.78-.78 2.05 0 2.83L4 21.41c.39.39.9.59 1.41.59.51 0 1.02-.2 1.41-.59l7.78-7.78 2.81-2.81c.8-.78.8-2.07 0-2.86zM5.41 20L4 18.59l7.72-7.72 1.47 1.35L5.41 20z\"/>\n",
              "  </svg>\n",
              "      </button>\n",
              "      \n",
              "  <style>\n",
              "    .colab-df-container {\n",
              "      display:flex;\n",
              "      flex-wrap:wrap;\n",
              "      gap: 12px;\n",
              "    }\n",
              "\n",
              "    .colab-df-convert {\n",
              "      background-color: #E8F0FE;\n",
              "      border: none;\n",
              "      border-radius: 50%;\n",
              "      cursor: pointer;\n",
              "      display: none;\n",
              "      fill: #1967D2;\n",
              "      height: 32px;\n",
              "      padding: 0 0 0 0;\n",
              "      width: 32px;\n",
              "    }\n",
              "\n",
              "    .colab-df-convert:hover {\n",
              "      background-color: #E2EBFA;\n",
              "      box-shadow: 0px 1px 2px rgba(60, 64, 67, 0.3), 0px 1px 3px 1px rgba(60, 64, 67, 0.15);\n",
              "      fill: #174EA6;\n",
              "    }\n",
              "\n",
              "    [theme=dark] .colab-df-convert {\n",
              "      background-color: #3B4455;\n",
              "      fill: #D2E3FC;\n",
              "    }\n",
              "\n",
              "    [theme=dark] .colab-df-convert:hover {\n",
              "      background-color: #434B5C;\n",
              "      box-shadow: 0px 1px 3px 1px rgba(0, 0, 0, 0.15);\n",
              "      filter: drop-shadow(0px 1px 2px rgba(0, 0, 0, 0.3));\n",
              "      fill: #FFFFFF;\n",
              "    }\n",
              "  </style>\n",
              "\n",
              "      <script>\n",
              "        const buttonEl =\n",
              "          document.querySelector('#df-eb2ebaa6-23f6-4fc6-9f1e-5882f012f529 button.colab-df-convert');\n",
              "        buttonEl.style.display =\n",
              "          google.colab.kernel.accessAllowed ? 'block' : 'none';\n",
              "\n",
              "        async function convertToInteractive(key) {\n",
              "          const element = document.querySelector('#df-eb2ebaa6-23f6-4fc6-9f1e-5882f012f529');\n",
              "          const dataTable =\n",
              "            await google.colab.kernel.invokeFunction('convertToInteractive',\n",
              "                                                     [key], {});\n",
              "          if (!dataTable) return;\n",
              "\n",
              "          const docLinkHtml = 'Like what you see? Visit the ' +\n",
              "            '<a target=\"_blank\" href=https://colab.research.google.com/notebooks/data_table.ipynb>data table notebook</a>'\n",
              "            + ' to learn more about interactive tables.';\n",
              "          element.innerHTML = '';\n",
              "          dataTable['output_type'] = 'display_data';\n",
              "          await google.colab.output.renderOutput(dataTable, element);\n",
              "          const docLink = document.createElement('div');\n",
              "          docLink.innerHTML = docLinkHtml;\n",
              "          element.appendChild(docLink);\n",
              "        }\n",
              "      </script>\n",
              "    </div>\n",
              "  </div>\n",
              "  "
            ]
          },
          "metadata": {},
          "execution_count": 20
        }
      ]
    },
    {
      "cell_type": "code",
      "source": [
        "df_bad[(df_bad['Category'] == 'ham') & (df_bad['predict'] == 'spam')]"
      ],
      "metadata": {
        "colab": {
          "base_uri": "https://localhost:8080/",
          "height": 112
        },
        "id": "QBziBaN5xwTr",
        "outputId": "988d4f64-1d95-4b55-a377-5db85dd23016"
      },
      "execution_count": null,
      "outputs": [
        {
          "output_type": "execute_result",
          "data": {
            "text/plain": [
              "     Category                                    Message predict\n",
              "495       ham                          you free can call    spam\n",
              "3692      ham  sir am waiting your call free please call    spam"
            ],
            "text/html": [
              "\n",
              "  <div id=\"df-50fd3cb8-1607-4a83-8862-43be1834ca3c\">\n",
              "    <div class=\"colab-df-container\">\n",
              "      <div>\n",
              "<style scoped>\n",
              "    .dataframe tbody tr th:only-of-type {\n",
              "        vertical-align: middle;\n",
              "    }\n",
              "\n",
              "    .dataframe tbody tr th {\n",
              "        vertical-align: top;\n",
              "    }\n",
              "\n",
              "    .dataframe thead th {\n",
              "        text-align: right;\n",
              "    }\n",
              "</style>\n",
              "<table border=\"1\" class=\"dataframe\">\n",
              "  <thead>\n",
              "    <tr style=\"text-align: right;\">\n",
              "      <th></th>\n",
              "      <th>Category</th>\n",
              "      <th>Message</th>\n",
              "      <th>predict</th>\n",
              "    </tr>\n",
              "  </thead>\n",
              "  <tbody>\n",
              "    <tr>\n",
              "      <th>495</th>\n",
              "      <td>ham</td>\n",
              "      <td>you free can call</td>\n",
              "      <td>spam</td>\n",
              "    </tr>\n",
              "    <tr>\n",
              "      <th>3692</th>\n",
              "      <td>ham</td>\n",
              "      <td>sir am waiting your call free please call</td>\n",
              "      <td>spam</td>\n",
              "    </tr>\n",
              "  </tbody>\n",
              "</table>\n",
              "</div>\n",
              "      <button class=\"colab-df-convert\" onclick=\"convertToInteractive('df-50fd3cb8-1607-4a83-8862-43be1834ca3c')\"\n",
              "              title=\"Convert this dataframe to an interactive table.\"\n",
              "              style=\"display:none;\">\n",
              "        \n",
              "  <svg xmlns=\"http://www.w3.org/2000/svg\" height=\"24px\"viewBox=\"0 0 24 24\"\n",
              "       width=\"24px\">\n",
              "    <path d=\"M0 0h24v24H0V0z\" fill=\"none\"/>\n",
              "    <path d=\"M18.56 5.44l.94 2.06.94-2.06 2.06-.94-2.06-.94-.94-2.06-.94 2.06-2.06.94zm-11 1L8.5 8.5l.94-2.06 2.06-.94-2.06-.94L8.5 2.5l-.94 2.06-2.06.94zm10 10l.94 2.06.94-2.06 2.06-.94-2.06-.94-.94-2.06-.94 2.06-2.06.94z\"/><path d=\"M17.41 7.96l-1.37-1.37c-.4-.4-.92-.59-1.43-.59-.52 0-1.04.2-1.43.59L10.3 9.45l-7.72 7.72c-.78.78-.78 2.05 0 2.83L4 21.41c.39.39.9.59 1.41.59.51 0 1.02-.2 1.41-.59l7.78-7.78 2.81-2.81c.8-.78.8-2.07 0-2.86zM5.41 20L4 18.59l7.72-7.72 1.47 1.35L5.41 20z\"/>\n",
              "  </svg>\n",
              "      </button>\n",
              "      \n",
              "  <style>\n",
              "    .colab-df-container {\n",
              "      display:flex;\n",
              "      flex-wrap:wrap;\n",
              "      gap: 12px;\n",
              "    }\n",
              "\n",
              "    .colab-df-convert {\n",
              "      background-color: #E8F0FE;\n",
              "      border: none;\n",
              "      border-radius: 50%;\n",
              "      cursor: pointer;\n",
              "      display: none;\n",
              "      fill: #1967D2;\n",
              "      height: 32px;\n",
              "      padding: 0 0 0 0;\n",
              "      width: 32px;\n",
              "    }\n",
              "\n",
              "    .colab-df-convert:hover {\n",
              "      background-color: #E2EBFA;\n",
              "      box-shadow: 0px 1px 2px rgba(60, 64, 67, 0.3), 0px 1px 3px 1px rgba(60, 64, 67, 0.15);\n",
              "      fill: #174EA6;\n",
              "    }\n",
              "\n",
              "    [theme=dark] .colab-df-convert {\n",
              "      background-color: #3B4455;\n",
              "      fill: #D2E3FC;\n",
              "    }\n",
              "\n",
              "    [theme=dark] .colab-df-convert:hover {\n",
              "      background-color: #434B5C;\n",
              "      box-shadow: 0px 1px 3px 1px rgba(0, 0, 0, 0.15);\n",
              "      filter: drop-shadow(0px 1px 2px rgba(0, 0, 0, 0.3));\n",
              "      fill: #FFFFFF;\n",
              "    }\n",
              "  </style>\n",
              "\n",
              "      <script>\n",
              "        const buttonEl =\n",
              "          document.querySelector('#df-50fd3cb8-1607-4a83-8862-43be1834ca3c button.colab-df-convert');\n",
              "        buttonEl.style.display =\n",
              "          google.colab.kernel.accessAllowed ? 'block' : 'none';\n",
              "\n",
              "        async function convertToInteractive(key) {\n",
              "          const element = document.querySelector('#df-50fd3cb8-1607-4a83-8862-43be1834ca3c');\n",
              "          const dataTable =\n",
              "            await google.colab.kernel.invokeFunction('convertToInteractive',\n",
              "                                                     [key], {});\n",
              "          if (!dataTable) return;\n",
              "\n",
              "          const docLinkHtml = 'Like what you see? Visit the ' +\n",
              "            '<a target=\"_blank\" href=https://colab.research.google.com/notebooks/data_table.ipynb>data table notebook</a>'\n",
              "            + ' to learn more about interactive tables.';\n",
              "          element.innerHTML = '';\n",
              "          dataTable['output_type'] = 'display_data';\n",
              "          await google.colab.output.renderOutput(dataTable, element);\n",
              "          const docLink = document.createElement('div');\n",
              "          docLink.innerHTML = docLinkHtml;\n",
              "          element.appendChild(docLink);\n",
              "        }\n",
              "      </script>\n",
              "    </div>\n",
              "  </div>\n",
              "  "
            ]
          },
          "metadata": {},
          "execution_count": 23
        }
      ]
    }
  ]
}
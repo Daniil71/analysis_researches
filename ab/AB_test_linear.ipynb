{
 "cells": [
  {
   "cell_type": "code",
   "execution_count": 26,
   "id": "fb3d9525-28ab-481b-baad-ca6030ea2990",
   "metadata": {},
   "outputs": [],
   "source": [
    "# подключим нужные библиотеки, сразу зададим размер визуализаций\n",
    "\n",
    "import pandahouse\n",
    "import pandas as pd\n",
    "import numpy as np\n",
    "import seaborn as sns\n",
    "from scipy import stats\n",
    "import matplotlib.pyplot as plt\n",
    "\n",
    "sns.set(rc={'figure.figsize':(11,8)})"
   ]
  },
  {
   "cell_type": "code",
   "execution_count": 27,
   "id": "3fada82c-0675-43db-9e6f-2713dea95342",
   "metadata": {},
   "outputs": [
    {
     "data": {
      "text/html": [
       "<div>\n",
       "<style scoped>\n",
       "    .dataframe tbody tr th:only-of-type {\n",
       "        vertical-align: middle;\n",
       "    }\n",
       "\n",
       "    .dataframe tbody tr th {\n",
       "        vertical-align: top;\n",
       "    }\n",
       "\n",
       "    .dataframe thead th {\n",
       "        text-align: right;\n",
       "    }\n",
       "</style>\n",
       "<table border=\"1\" class=\"dataframe\">\n",
       "  <thead>\n",
       "    <tr style=\"text-align: right;\">\n",
       "      <th></th>\n",
       "      <th>exp_group</th>\n",
       "      <th>user_id</th>\n",
       "      <th>views</th>\n",
       "      <th>likes</th>\n",
       "      <th>ctr</th>\n",
       "    </tr>\n",
       "  </thead>\n",
       "  <tbody>\n",
       "    <tr>\n",
       "      <th>0</th>\n",
       "      <td>3</td>\n",
       "      <td>115383</td>\n",
       "      <td>30</td>\n",
       "      <td>9</td>\n",
       "      <td>0.300000</td>\n",
       "    </tr>\n",
       "    <tr>\n",
       "      <th>1</th>\n",
       "      <td>1</td>\n",
       "      <td>18392</td>\n",
       "      <td>32</td>\n",
       "      <td>7</td>\n",
       "      <td>0.218750</td>\n",
       "    </tr>\n",
       "    <tr>\n",
       "      <th>2</th>\n",
       "      <td>2</td>\n",
       "      <td>131473</td>\n",
       "      <td>134</td>\n",
       "      <td>14</td>\n",
       "      <td>0.104478</td>\n",
       "    </tr>\n",
       "    <tr>\n",
       "      <th>3</th>\n",
       "      <td>3</td>\n",
       "      <td>123580</td>\n",
       "      <td>48</td>\n",
       "      <td>13</td>\n",
       "      <td>0.270833</td>\n",
       "    </tr>\n",
       "    <tr>\n",
       "      <th>4</th>\n",
       "      <td>2</td>\n",
       "      <td>32420</td>\n",
       "      <td>128</td>\n",
       "      <td>26</td>\n",
       "      <td>0.203125</td>\n",
       "    </tr>\n",
       "  </tbody>\n",
       "</table>\n",
       "</div>"
      ],
      "text/plain": [
       "   exp_group  user_id  views  likes       ctr\n",
       "0          3   115383     30      9  0.300000\n",
       "1          1    18392     32      7  0.218750\n",
       "2          2   131473    134     14  0.104478\n",
       "3          3   123580     48     13  0.270833\n",
       "4          2    32420    128     26  0.203125"
      ]
     },
     "execution_count": 27,
     "metadata": {},
     "output_type": "execute_result"
    }
   ],
   "source": [
    "# подключимся к базе и сформируем нужный нам запрос: вытащим данные по 4 группам за период АB-теста \n",
    "\n",
    "connection = {\n",
    "    'host': 'https://clickhouse.lab.karpov.courses',\n",
    "    'password': 'dpo_python_2020',\n",
    "    'user': 'student',\n",
    "    'database': 'simulator_20220720'\n",
    "}\n",
    "\n",
    "q = '''\n",
    "    SELECT exp_group, user_id, sum(if(action = 'view', 1, 0)) as views,\n",
    "            sum(if(action = 'like', 1, 0)) as likes,\n",
    "            likes/views as ctr\n",
    "    from simulator_20220720.feed_actions\n",
    "    where toDate(time) between '2022-06-13' and '2022-06-19' and exp_group in (0, 1, 2, 3)\n",
    "    group by exp_group, user_id\n",
    "    \n",
    "    '''\n",
    "    \n",
    "df = pandahouse.read_clickhouse(q, connection=connection)\n",
    "\n",
    "df.head()"
   ]
  },
  {
   "cell_type": "markdown",
   "id": "d3486f5d-543a-4dba-bda4-d484eb82e824",
   "metadata": {},
   "source": [
    "Группы 1 и 2"
   ]
  },
  {
   "cell_type": "code",
   "execution_count": 49,
   "id": "6b6ca955-0b5a-4246-b827-95d7b433ef71",
   "metadata": {},
   "outputs": [
    {
     "name": "stdout",
     "output_type": "stream",
     "text": [
      "0.20802680490126244\n"
     ]
    }
   ],
   "source": [
    "# создадим отдельный df и посчитаем общий ctr в контрольной sum(likes)/sum(views)\n",
    "df_1 = df[(df['exp_group'] == 1) | (df['exp_group'] == 2)] \n",
    "ctr_control_1 = df_1[df_1['exp_group'] == 1]['likes'].sum()/ df_1[df_1['exp_group'] == 1]['views'].sum()\n",
    "print(ctr_control_1)"
   ]
  },
  {
   "cell_type": "code",
   "execution_count": 51,
   "id": "96bc150d-a1b1-453c-b8fc-f89278314245",
   "metadata": {},
   "outputs": [
    {
     "name": "stderr",
     "output_type": "stream",
     "text": [
      "/tmp/ipykernel_115/1226529317.py:3: SettingWithCopyWarning: \n",
      "A value is trying to be set on a copy of a slice from a DataFrame.\n",
      "Try using .loc[row_indexer,col_indexer] = value instead\n",
      "\n",
      "See the caveats in the documentation: https://pandas.pydata.org/pandas-docs/stable/user_guide/indexing.html#returning-a-view-versus-a-copy\n",
      "  df_1['linearazied_likes'] = df_1['likes'] - ctr_control_1 * df_1['views']\n"
     ]
    },
    {
     "data": {
      "text/html": [
       "<div>\n",
       "<style scoped>\n",
       "    .dataframe tbody tr th:only-of-type {\n",
       "        vertical-align: middle;\n",
       "    }\n",
       "\n",
       "    .dataframe tbody tr th {\n",
       "        vertical-align: top;\n",
       "    }\n",
       "\n",
       "    .dataframe thead th {\n",
       "        text-align: right;\n",
       "    }\n",
       "</style>\n",
       "<table border=\"1\" class=\"dataframe\">\n",
       "  <thead>\n",
       "    <tr style=\"text-align: right;\">\n",
       "      <th></th>\n",
       "      <th>exp_group</th>\n",
       "      <th>user_id</th>\n",
       "      <th>views</th>\n",
       "      <th>likes</th>\n",
       "      <th>ctr</th>\n",
       "      <th>linearazied_likes</th>\n",
       "    </tr>\n",
       "  </thead>\n",
       "  <tbody>\n",
       "    <tr>\n",
       "      <th>1</th>\n",
       "      <td>1</td>\n",
       "      <td>18392</td>\n",
       "      <td>32</td>\n",
       "      <td>7</td>\n",
       "      <td>0.218750</td>\n",
       "      <td>0.343142</td>\n",
       "    </tr>\n",
       "    <tr>\n",
       "      <th>2</th>\n",
       "      <td>2</td>\n",
       "      <td>131473</td>\n",
       "      <td>134</td>\n",
       "      <td>14</td>\n",
       "      <td>0.104478</td>\n",
       "      <td>-13.875592</td>\n",
       "    </tr>\n",
       "    <tr>\n",
       "      <th>4</th>\n",
       "      <td>2</td>\n",
       "      <td>32420</td>\n",
       "      <td>128</td>\n",
       "      <td>26</td>\n",
       "      <td>0.203125</td>\n",
       "      <td>-0.627431</td>\n",
       "    </tr>\n",
       "    <tr>\n",
       "      <th>5</th>\n",
       "      <td>2</td>\n",
       "      <td>24239</td>\n",
       "      <td>90</td>\n",
       "      <td>40</td>\n",
       "      <td>0.444444</td>\n",
       "      <td>21.277588</td>\n",
       "    </tr>\n",
       "    <tr>\n",
       "      <th>7</th>\n",
       "      <td>1</td>\n",
       "      <td>27443</td>\n",
       "      <td>29</td>\n",
       "      <td>2</td>\n",
       "      <td>0.068966</td>\n",
       "      <td>-4.032777</td>\n",
       "    </tr>\n",
       "  </tbody>\n",
       "</table>\n",
       "</div>"
      ],
      "text/plain": [
       "   exp_group  user_id  views  likes       ctr  linearazied_likes\n",
       "1          1    18392     32      7  0.218750           0.343142\n",
       "2          2   131473    134     14  0.104478         -13.875592\n",
       "4          2    32420    128     26  0.203125          -0.627431\n",
       "5          2    24239     90     40  0.444444          21.277588\n",
       "7          1    27443     29      2  0.068966          -4.032777"
      ]
     },
     "execution_count": 51,
     "metadata": {},
     "output_type": "execute_result"
    }
   ],
   "source": [
    "# считаме поюзерную метрику linearazied_likes\n",
    "\n",
    "df_1['linearazied_likes'] = df_1['likes'] - ctr_control_1 * df_1['views']\n",
    "df_1.head()"
   ]
  },
  {
   "cell_type": "markdown",
   "id": "4635dd2e-df26-4243-8519-a5b91eb606e8",
   "metadata": {},
   "source": [
    "Из предыдущего задания помним, что группы имеют статистически значимые отличия и при этом мы не пользовались t-тестом в связи с сильной ненормальностью тестовой группы. Посмотрим на результаты сравнения лин.лайков t-тестом и сравнения обычного ctr тем же t-тестом "
   ]
  },
  {
   "cell_type": "code",
   "execution_count": 52,
   "id": "5837bca1-bf0b-449f-a1b0-680b03e7b6be",
   "metadata": {},
   "outputs": [
    {
     "name": "stdout",
     "output_type": "stream",
     "text": [
      "Результаты для лин.лайков: Ttest_indResult(statistic=6.122579994775974, pvalue=9.439432187037644e-10)\n",
      "Результаты для обычного ctr: Ttest_indResult(statistic=0.7094392041270485, pvalue=0.4780623130874935)\n"
     ]
    }
   ],
   "source": [
    "# t-test для групп по линаеризированным лайкам\n",
    "cont = df_1[df_1['exp_group'] == 1]['linearazied_likes']\n",
    "test = df_1[df_1['exp_group'] == 2]['linearazied_likes']\n",
    "print('Результаты для лин.лайков:', stats.ttest_ind(cont, test, equal_var = False))\n",
    "\n",
    "cont_simple = df_1[df_1['exp_group'] == 1]['ctr']\n",
    "test_simple = df_1[df_1['exp_group'] == 2]['ctr']\n",
    "print('Результаты для обычного ctr:', stats.ttest_ind(cont_simple, test_simple, equal_var = False))"
   ]
  },
  {
   "cell_type": "markdown",
   "id": "809b46cb-be1d-468f-a921-808b64919d47",
   "metadata": {},
   "source": [
    "Круто."
   ]
  },
  {
   "cell_type": "code",
   "execution_count": null,
   "id": "45bd0dfe-0040-4438-bb1d-ae90b9bc5276",
   "metadata": {},
   "outputs": [],
   "source": [
    "Группы 0 и 3"
   ]
  },
  {
   "cell_type": "code",
   "execution_count": 53,
   "id": "ddfe9479-6bd7-41f4-82a3-3a70bf07fbd8",
   "metadata": {},
   "outputs": [
    {
     "name": "stdout",
     "output_type": "stream",
     "text": [
      "0.2086371501879587\n"
     ]
    }
   ],
   "source": [
    "df_2 = df[(df['exp_group'] == 0) | (df['exp_group'] == 3)] \n",
    "ctr_control_2 = df_2[df_2['exp_group'] == 0]['likes'].sum()/ df_2[df_2['exp_group'] == 3]['views'].sum()\n",
    "print(ctr_control_2)"
   ]
  },
  {
   "cell_type": "markdown",
   "id": "def0787e-c3b7-4879-b91c-b9e20914ea27",
   "metadata": {},
   "source": [
    "Так как в предыдущем задании мы не смотрели эти группы, интересно посмотреть гистограмму и основнвые статистики"
   ]
  },
  {
   "cell_type": "code",
   "execution_count": 41,
   "id": "b530c950-7598-4bad-be16-4ff919dc07dc",
   "metadata": {},
   "outputs": [
    {
     "data": {
      "text/plain": [
       "<AxesSubplot:xlabel='ctr', ylabel='Count'>"
      ]
     },
     "execution_count": 41,
     "metadata": {},
     "output_type": "execute_result"
    },
    {
     "data": {
      "image/png": "[encoded data removed]",
      "text/plain": [
       "<Figure size 792x576 with 1 Axes>"
      ]
     },
     "metadata": {},
     "output_type": "display_data"
    }
   ],
   "source": [
    "sns.histplot(df_2, x = df_2['ctr'], hue = df_2['exp_group'], alpha = 0.5, bins = 70)"
   ]
  },
  {
   "cell_type": "code",
   "execution_count": 45,
   "id": "118dc899-94e2-499e-95fc-0df3f604af8b",
   "metadata": {},
   "outputs": [
    {
     "data": {
      "text/html": [
       "<div>\n",
       "<style scoped>\n",
       "    .dataframe tbody tr th:only-of-type {\n",
       "        vertical-align: middle;\n",
       "    }\n",
       "\n",
       "    .dataframe tbody tr th {\n",
       "        vertical-align: top;\n",
       "    }\n",
       "\n",
       "    .dataframe thead th {\n",
       "        text-align: right;\n",
       "    }\n",
       "</style>\n",
       "<table border=\"1\" class=\"dataframe\">\n",
       "  <thead>\n",
       "    <tr style=\"text-align: right;\">\n",
       "      <th></th>\n",
       "      <th>count</th>\n",
       "      <th>mean</th>\n",
       "      <th>std</th>\n",
       "      <th>min</th>\n",
       "      <th>25%</th>\n",
       "      <th>50%</th>\n",
       "      <th>75%</th>\n",
       "      <th>max</th>\n",
       "    </tr>\n",
       "    <tr>\n",
       "      <th>exp_group</th>\n",
       "      <th></th>\n",
       "      <th></th>\n",
       "      <th></th>\n",
       "      <th></th>\n",
       "      <th></th>\n",
       "      <th></th>\n",
       "      <th></th>\n",
       "      <th></th>\n",
       "    </tr>\n",
       "  </thead>\n",
       "  <tbody>\n",
       "    <tr>\n",
       "      <th>0</th>\n",
       "      <td>9999.0</td>\n",
       "      <td>0.215950</td>\n",
       "      <td>0.083628</td>\n",
       "      <td>0.0</td>\n",
       "      <td>0.162162</td>\n",
       "      <td>0.202899</td>\n",
       "      <td>0.257143</td>\n",
       "      <td>0.777778</td>\n",
       "    </tr>\n",
       "    <tr>\n",
       "      <th>3</th>\n",
       "      <td>10049.0</td>\n",
       "      <td>0.232624</td>\n",
       "      <td>0.086247</td>\n",
       "      <td>0.0</td>\n",
       "      <td>0.176471</td>\n",
       "      <td>0.220339</td>\n",
       "      <td>0.276786</td>\n",
       "      <td>0.818182</td>\n",
       "    </tr>\n",
       "  </tbody>\n",
       "</table>\n",
       "</div>"
      ],
      "text/plain": [
       "             count      mean       std  min       25%       50%       75%  \\\n",
       "exp_group                                                                   \n",
       "0           9999.0  0.215950  0.083628  0.0  0.162162  0.202899  0.257143   \n",
       "3          10049.0  0.232624  0.086247  0.0  0.176471  0.220339  0.276786   \n",
       "\n",
       "                max  \n",
       "exp_group            \n",
       "0          0.777778  \n",
       "3          0.818182  "
      ]
     },
     "execution_count": 45,
     "metadata": {},
     "output_type": "execute_result"
    }
   ],
   "source": [
    "# а вот в этом AB-тесте видим и сохранившуюся 'околонормальность' групп и увеличение показателей по во всех статистиках.\n",
    "\n",
    "df_2.groupby('exp_group')['ctr'].describe()"
   ]
  },
  {
   "cell_type": "code",
   "execution_count": 55,
   "id": "4d86aa2c-2814-4332-9fb3-882951eed480",
   "metadata": {},
   "outputs": [
    {
     "name": "stderr",
     "output_type": "stream",
     "text": [
      "/tmp/ipykernel_115/3950248337.py:1: SettingWithCopyWarning: \n",
      "A value is trying to be set on a copy of a slice from a DataFrame.\n",
      "Try using .loc[row_indexer,col_indexer] = value instead\n",
      "\n",
      "See the caveats in the documentation: https://pandas.pydata.org/pandas-docs/stable/user_guide/indexing.html#returning-a-view-versus-a-copy\n",
      "  df_2['linearazied_likes'] = df_2['likes'] - ctr_control_2 * df_2['views']\n"
     ]
    },
    {
     "data": {
      "text/html": [
       "<div>\n",
       "<style scoped>\n",
       "    .dataframe tbody tr th:only-of-type {\n",
       "        vertical-align: middle;\n",
       "    }\n",
       "\n",
       "    .dataframe tbody tr th {\n",
       "        vertical-align: top;\n",
       "    }\n",
       "\n",
       "    .dataframe thead th {\n",
       "        text-align: right;\n",
       "    }\n",
       "</style>\n",
       "<table border=\"1\" class=\"dataframe\">\n",
       "  <thead>\n",
       "    <tr style=\"text-align: right;\">\n",
       "      <th></th>\n",
       "      <th>exp_group</th>\n",
       "      <th>user_id</th>\n",
       "      <th>views</th>\n",
       "      <th>likes</th>\n",
       "      <th>ctr</th>\n",
       "      <th>linearazied_likes</th>\n",
       "    </tr>\n",
       "  </thead>\n",
       "  <tbody>\n",
       "    <tr>\n",
       "      <th>0</th>\n",
       "      <td>3</td>\n",
       "      <td>115383</td>\n",
       "      <td>30</td>\n",
       "      <td>9</td>\n",
       "      <td>0.300000</td>\n",
       "      <td>2.740885</td>\n",
       "    </tr>\n",
       "    <tr>\n",
       "      <th>3</th>\n",
       "      <td>3</td>\n",
       "      <td>123580</td>\n",
       "      <td>48</td>\n",
       "      <td>13</td>\n",
       "      <td>0.270833</td>\n",
       "      <td>2.985417</td>\n",
       "    </tr>\n",
       "    <tr>\n",
       "      <th>6</th>\n",
       "      <td>0</td>\n",
       "      <td>30319</td>\n",
       "      <td>110</td>\n",
       "      <td>21</td>\n",
       "      <td>0.190909</td>\n",
       "      <td>-1.950087</td>\n",
       "    </tr>\n",
       "    <tr>\n",
       "      <th>8</th>\n",
       "      <td>3</td>\n",
       "      <td>118359</td>\n",
       "      <td>38</td>\n",
       "      <td>7</td>\n",
       "      <td>0.184211</td>\n",
       "      <td>-0.928212</td>\n",
       "    </tr>\n",
       "    <tr>\n",
       "      <th>10</th>\n",
       "      <td>0</td>\n",
       "      <td>7626</td>\n",
       "      <td>39</td>\n",
       "      <td>14</td>\n",
       "      <td>0.358974</td>\n",
       "      <td>5.863151</td>\n",
       "    </tr>\n",
       "  </tbody>\n",
       "</table>\n",
       "</div>"
      ],
      "text/plain": [
       "    exp_group  user_id  views  likes       ctr  linearazied_likes\n",
       "0           3   115383     30      9  0.300000           2.740885\n",
       "3           3   123580     48     13  0.270833           2.985417\n",
       "6           0    30319    110     21  0.190909          -1.950087\n",
       "8           3   118359     38      7  0.184211          -0.928212\n",
       "10          0     7626     39     14  0.358974           5.863151"
      ]
     },
     "execution_count": 55,
     "metadata": {},
     "output_type": "execute_result"
    }
   ],
   "source": [
    "df_2['linearazied_likes'] = df_2['likes'] - ctr_control_2 * df_2['views']\n",
    "df_2.head()"
   ]
  },
  {
   "cell_type": "code",
   "execution_count": 57,
   "id": "99875bbd-90f9-40c8-8edd-bc2045058244",
   "metadata": {},
   "outputs": [
    {
     "name": "stdout",
     "output_type": "stream",
     "text": [
      "Результаты для лин.лайков: Ttest_indResult(statistic=-15.211973865941879, pvalue=5.747910624133018e-52)\n",
      "Результаты для обычного ctr: Ttest_indResult(statistic=-13.896870721904069, pvalue=1.055849414662529e-43)\n"
     ]
    }
   ],
   "source": [
    "# t-test для групп по линаеризированным лайкам\n",
    "# Здесь видим, что t-test сработал и на обычном ctr, но на лин.лайках pvalue \n",
    "\n",
    "cont = df_2[df_2['exp_group'] == 0]['linearazied_likes']\n",
    "test = df_2[df_2['exp_group'] == 3]['linearazied_likes']\n",
    "print('Результаты для лин.лайков:', stats.ttest_ind(cont, test, equal_var = False))\n",
    "\n",
    "cont_simple = df_2[df_2['exp_group'] == 0]['ctr']\n",
    "test_simple = df_2[df_2['exp_group'] == 3]['ctr']\n",
    "print('Результаты для обычного ctr:', stats.ttest_ind(cont_simple, test_simple, equal_var = False))"
   ]
  }
 ],
 "metadata": {
  "kernelspec": {
   "display_name": "Python 3 (ipykernel)",
   "language": "python",
   "name": "python3"
  },
  "language_info": {
   "codemirror_mode": {
    "name": "ipython",
    "version": 3
   },
   "file_extension": ".py",
   "mimetype": "text/x-python",
   "name": "python",
   "nbconvert_exporter": "python",
   "pygments_lexer": "ipython3",
   "version": "3.8.10"
  }
 },
 "nbformat": 4,
 "nbformat_minor": 5
}

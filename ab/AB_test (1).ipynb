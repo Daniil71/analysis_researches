{
 "cells": [
  {
   "cell_type": "code",
   "execution_count": 14,
   "id": "8749b2c1-e3c8-49ea-9449-dcb60314a8f3",
   "metadata": {},
   "outputs": [],
   "source": [
    "# подключим нужные библиотеки, сразу зададим размер визуализаций\n",
    "\n",
    "import pandahouse\n",
    "import pandas as pd\n",
    "import numpy as np\n",
    "import seaborn as sns\n",
    "from scipy import stats\n",
    "import matplotlib.pyplot as plt\n",
    "\n",
    "sns.set(rc={'figure.figsize':(11,8)})"
   ]
  },
  {
   "cell_type": "code",
   "execution_count": 77,
   "id": "74c9d0dc-7833-40fa-89cd-9aeb8144e345",
   "metadata": {},
   "outputs": [
    {
     "data": {
      "text/html": [
       "<div>\n",
       "<style scoped>\n",
       "    .dataframe tbody tr th:only-of-type {\n",
       "        vertical-align: middle;\n",
       "    }\n",
       "\n",
       "    .dataframe tbody tr th {\n",
       "        vertical-align: top;\n",
       "    }\n",
       "\n",
       "    .dataframe thead th {\n",
       "        text-align: right;\n",
       "    }\n",
       "</style>\n",
       "<table border=\"1\" class=\"dataframe\">\n",
       "  <thead>\n",
       "    <tr style=\"text-align: right;\">\n",
       "      <th></th>\n",
       "      <th>exp_group</th>\n",
       "      <th>user_id</th>\n",
       "      <th>views</th>\n",
       "      <th>likes</th>\n",
       "      <th>ctr</th>\n",
       "    </tr>\n",
       "  </thead>\n",
       "  <tbody>\n",
       "    <tr>\n",
       "      <th>0</th>\n",
       "      <td>1</td>\n",
       "      <td>109963</td>\n",
       "      <td>15</td>\n",
       "      <td>3</td>\n",
       "      <td>0.200000</td>\n",
       "    </tr>\n",
       "    <tr>\n",
       "      <th>1</th>\n",
       "      <td>1</td>\n",
       "      <td>26117</td>\n",
       "      <td>141</td>\n",
       "      <td>32</td>\n",
       "      <td>0.226950</td>\n",
       "    </tr>\n",
       "    <tr>\n",
       "      <th>2</th>\n",
       "      <td>1</td>\n",
       "      <td>138232</td>\n",
       "      <td>73</td>\n",
       "      <td>18</td>\n",
       "      <td>0.246575</td>\n",
       "    </tr>\n",
       "    <tr>\n",
       "      <th>3</th>\n",
       "      <td>1</td>\n",
       "      <td>26295</td>\n",
       "      <td>122</td>\n",
       "      <td>33</td>\n",
       "      <td>0.270492</td>\n",
       "    </tr>\n",
       "    <tr>\n",
       "      <th>4</th>\n",
       "      <td>1</td>\n",
       "      <td>18392</td>\n",
       "      <td>32</td>\n",
       "      <td>7</td>\n",
       "      <td>0.218750</td>\n",
       "    </tr>\n",
       "  </tbody>\n",
       "</table>\n",
       "</div>"
      ],
      "text/plain": [
       "   exp_group  user_id  views  likes       ctr\n",
       "0          1   109963     15      3  0.200000\n",
       "1          1    26117    141     32  0.226950\n",
       "2          1   138232     73     18  0.246575\n",
       "3          1    26295    122     33  0.270492\n",
       "4          1    18392     32      7  0.218750"
      ]
     },
     "execution_count": 77,
     "metadata": {},
     "output_type": "execute_result"
    }
   ],
   "source": [
    "# подключимся к базе и сформируем нужный нам запрос: вытащим данные по 2 группам за период АB-теста \n",
    "\n",
    "connection = {\n",
    "    'host': 'https://clickhouse.lab.karpov.courses',\n",
    "    'password': 'dpo_python_2020',\n",
    "    'user': 'student',\n",
    "    'database': 'simulator_20220720'\n",
    "}\n",
    "\n",
    "q = '''\n",
    "    SELECT exp_group, user_id, sum(if(action = 'view', 1, 0)) as views,\n",
    "            sum(if(action = 'like', 1, 0)) as likes,\n",
    "            likes/views as ctr\n",
    "    from simulator_20220720.feed_actions\n",
    "    where toDate(time) between '2022-06-13' and '2022-06-19' and exp_group in (1, 2)\n",
    "    group by exp_group, user_id\n",
    "    \n",
    "    '''\n",
    "    \n",
    "df = pandahouse.read_clickhouse(q, connection=connection)\n",
    "\n",
    "df.head()"
   ]
  },
  {
   "cell_type": "code",
   "execution_count": 78,
   "id": "c5780c94-892e-4d95-a764-8ca683f48656",
   "metadata": {},
   "outputs": [
    {
     "data": {
      "text/plain": [
       "exp_group\n",
       "control    10079\n",
       "test        9952\n",
       "Name: ctr, dtype: int64"
      ]
     },
     "execution_count": 78,
     "metadata": {},
     "output_type": "execute_result"
    }
   ],
   "source": [
    "# переименуем группы и подсчитаем кол-во записей по группам. Примерно равны.\n",
    "\n",
    "df['exp_group'] = df['exp_group'].map({1 : 'control', 2 : 'test'})\n",
    "df.groupby('exp_group')['ctr'].count()"
   ]
  },
  {
   "cell_type": "code",
   "execution_count": 81,
   "id": "833d9fe3-2bb9-4adc-98cd-7f251d376c00",
   "metadata": {},
   "outputs": [
    {
     "data": {
      "text/plain": [
       "<AxesSubplot:xlabel='ctr', ylabel='Count'>"
      ]
     },
     "execution_count": 81,
     "metadata": {},
     "output_type": "execute_result"
    },
    {
     "data": {
      "image/png": "[encoded data removed]",
      "text/plain": [
       "<Figure size 792x576 with 1 Axes>"
      ]
     },
     "metadata": {},
     "output_type": "display_data"
    }
   ],
   "source": [
    "# Видим интересную картину. Тестовая группа стала резко ненормальной. ctr значительной части юзеров упал на ~ 10%,\n",
    "# но при этом довольно большое количество юзеров стало лайкать больше. \n",
    "# Средняя контрольой группы неочевидна.\n",
    "\n",
    "sns.histplot(df, x = df['ctr'], hue = df['exp_group'], alpha = 0.5, palette = ['r', 'g'], bins = 70)"
   ]
  },
  {
   "cell_type": "code",
   "execution_count": 82,
   "id": "19e4bb97-9df4-4144-8635-3ea4e69bb312",
   "metadata": {},
   "outputs": [
    {
     "name": "stdout",
     "output_type": "stream",
     "text": [
      "Кол-во юзеров с сtr около нуля:  контроль: 91 , тест:  226\n"
     ]
    }
   ],
   "source": [
    "# На гистограмме непонятно, какое количество юзеров имеет околонулевой ctr в тестовой группе.\n",
    "# Кажется, будто в контрольной есть, а в тестовой нет. Проверим. Удостоверимся, что это не так.\n",
    "\n",
    "zero_test = df[(df['exp_group'] == 'test') & ((df['ctr'] >= 0) & (df['ctr'] <= 0.05))]['ctr'].count()\n",
    "zero_control = df[(df['exp_group'] == 'control') & ((df['ctr'] >= 0) & (df['ctr'] <= 0.05))]['ctr'].count()\n",
    "print('Кол-во юзеров с сtr около нуля:  контроль:', zero_control, ', тест: ', zero_test)"
   ]
  },
  {
   "cell_type": "code",
   "execution_count": 83,
   "id": "330d8792-9868-43f5-924c-4220ac302355",
   "metadata": {},
   "outputs": [
    {
     "data": {
      "text/plain": [
       "count    9952.000000\n",
       "mean        0.214419\n",
       "std         0.144180\n",
       "min         0.000000\n",
       "25%         0.095238\n",
       "50%         0.142857\n",
       "75%         0.325000\n",
       "max         0.923077\n",
       "Name: ctr, dtype: float64"
      ]
     },
     "execution_count": 83,
     "metadata": {},
     "output_type": "execute_result"
    }
   ],
   "source": [
    "# показатели тестовой группы\n",
    "df[df['exp_group'] == 'test']['ctr'].describe()"
   ]
  },
  {
   "cell_type": "code",
   "execution_count": 84,
   "id": "d1f3db0a-f247-465d-89da-54508ba39101",
   "metadata": {},
   "outputs": [
    {
     "data": {
      "text/plain": [
       "count    10079.000000\n",
       "mean         0.215605\n",
       "std          0.084160\n",
       "min          0.000000\n",
       "25%          0.160097\n",
       "50%          0.203125\n",
       "75%          0.257654\n",
       "max          0.722222\n",
       "Name: ctr, dtype: float64"
      ]
     },
     "execution_count": 84,
     "metadata": {},
     "output_type": "execute_result"
    }
   ],
   "source": [
    "# показатели контрольной группы\n",
    "df[df['exp_group'] == 'control']['ctr'].describe()"
   ]
  },
  {
   "cell_type": "markdown",
   "id": "72ed5f07-e832-449c-a405-e6576a96e05c",
   "metadata": {},
   "source": [
    "В итоге ещё до любых тестов имеем интересную ситуацию:\n",
    "Средние групп близки, СКО у тестовой гораздо выше, медиана гораздо ниже. Только на 75 процентиле и на максимальных значениях тестовая превышает контрольную.\n",
    "Новый алгоритм разделил нашу аудиторию."
   ]
  },
  {
   "cell_type": "markdown",
   "id": "f407eee8-eb91-4f02-918b-f928dbcde1d0",
   "metadata": {},
   "source": [
    "Перед бустрэпом хочется провести какой-нибудь классический тест. Т-тест отметаем - тестовая точно ненормальна и дисперсии у нас различны. Посмотрим Манна-Уитни. "
   ]
  },
  {
   "cell_type": "code",
   "execution_count": 85,
   "id": "81210d25-c92b-4755-9d38-4d435e51c9f0",
   "metadata": {},
   "outputs": [
    {
     "data": {
      "text/plain": [
       "MannwhitneyuResult(statistic=43704947.5, pvalue=3.0188242308889518e-56)"
      ]
     },
     "execution_count": 85,
     "metadata": {},
     "output_type": "execute_result"
    }
   ],
   "source": [
    "# Н0 - средние рангов групп равны. Н1 -средний ранг тестовой  группы ниже среднего ранга контрольной.\n",
    "# Итог: Есть основания  отвергнуть Н0.\n",
    "stats.mannwhitneyu(df[df['exp_group'] == 'test']['ctr'],\n",
    "                df[df['exp_group'] == 'control']['ctr'], alternative = 'less')"
   ]
  },
  {
   "cell_type": "code",
   "execution_count": 50,
   "id": "16df9833-0315-4d47-846f-dc2475abac46",
   "metadata": {},
   "outputs": [
    {
     "name": "stdout",
     "output_type": "stream",
     "text": [
      "В 42.76 % случаев тестовая > контрольной.\n"
     ]
    }
   ],
   "source": [
    "num = 0\n",
    "for _ in range(10000):\n",
    "    num += df[df['exp_group'] == 'test']['ctr'].sample().values[0] > df[df['exp_group'] == 'control']['ctr'].sample().values[0]\n",
    "    \n",
    "print('В', num/100, '% случаев тестовая > контрольной.')"
   ]
  },
  {
   "cell_type": "markdown",
   "id": "3e1047bf-8380-47e6-b207-b785bbada006",
   "metadata": {},
   "source": [
    "Итак, Манна-Уитни говорит, что средние рангов неравны. Симуляция показывает, что ctr тестовых чаще ниже контрольной.\n",
    "Теперь попробуем пуассоновский бутстрэп. Потому что идея гениальная."
   ]
  },
  {
   "cell_type": "code",
   "execution_count": 95,
   "id": "158df7c5-89e7-41d8-a615-844f545c6854",
   "metadata": {},
   "outputs": [
    {
     "data": {
      "text/plain": [
       "<AxesSubplot:ylabel='Count'>"
      ]
     },
     "execution_count": 95,
     "metadata": {},
     "output_type": "execute_result"
    },
    {
     "data": {
      "image/png": "[encoded data removed]",
      "text/plain": [
       "<Figure size 792x576 with 1 Axes>"
      ]
     },
     "metadata": {},
     "output_type": "display_data"
    }
   ],
   "source": [
    "def poisson_bootstrap(likes1, views1, likes2, views2, n_bootstrap):\n",
    "\n",
    "    poisson_bootstraps1 = stats.poisson(1).rvs(\n",
    "        (n_bootstrap, len(likes1))).astype(np.int64)\n",
    "\n",
    "    poisson_bootstraps2 = stats.poisson(1).rvs(\n",
    "            (n_bootstrap, len(likes2))).astype(np.int64)\n",
    "    \n",
    "    globalCTR1 = (poisson_bootstraps1*likes1).sum(axis=1)/(poisson_bootstraps1*views1).sum(axis=1)\n",
    "    \n",
    "    globalCTR2 = (poisson_bootstraps2*likes2).sum(axis=1)/(poisson_bootstraps2*views2).sum(axis=1)\n",
    "\n",
    "    return globalCTR1, globalCTR2\n",
    "\n",
    "likes_cont = df[df['exp_group'] == 'control']['likes'].to_numpy()\n",
    "views_cont = df[df['exp_group']== 'control']['views'].to_numpy()\n",
    "likes_test = df[df['exp_group'] == 'test']['likes'].to_numpy()\n",
    "views_test = df[df['exp_group'] == 'test']['views'].to_numpy()\n",
    "\n",
    "control_group, test_group = poisson_bootstrap(likes_cont, views_cont, likes_test, views_test, 3000)\n",
    "\n",
    "sns.histplot(control_group, color = 'r')\n",
    "sns.histplot(test_group, color = 'g')"
   ]
  },
  {
   "cell_type": "markdown",
   "id": "f8cd47e4-717e-463d-9c4e-a9c168e96208",
   "metadata": {},
   "source": [
    "Выводы:\n",
    "\n",
    "Неодинаковость групп была видна уже на первой гистограмме и основных статистиках. Тест Манна-Уитни и пуассоновский бутстрэп подтвердили статистически значимую разницу в группах и тот факт, что ctr тестовой ниже ctr контрольной.\n",
    "В задаче не указано, какой именно алгоритм мы проверяли, но очевидно, что он разделил нашу аудиторию на тех, кому новый вариант понравился и тех, кому не понравился (судим об этом по количеству лайков на просмотр), и тех, кому он не понравился, оказалось больше.\n",
    "Алгоритм может быть недостаточно хорош. То есть, выдаёт не те посты, которые действительно 'сделают юзера счастливее'. Может быть, у нас не очень хорошие ml-щики, и не все необходимые признаки были учтены в модели, или же нормальной кросс-валидации не было ( раз уж они нам принесли модель, то train-test то должен был быть).\n",
    "А может быть совсем другой вариант. И ctr, выбранный в качестве метрики, плохо оценивает счастье юзера от взаимодействия с постами.\n",
    "\n",
    "В любом случае, раскатывать алгоритм на всех юзеров не будем. "
   ]
  }
 ],
 "metadata": {
  "kernelspec": {
   "display_name": "Python 3 (ipykernel)",
   "language": "python",
   "name": "python3"
  },
  "language_info": {
   "codemirror_mode": {
    "name": "ipython",
    "version": 3
   },
   "file_extension": ".py",
   "mimetype": "text/x-python",
   "name": "python",
   "nbconvert_exporter": "python",
   "pygments_lexer": "ipython3",
   "version": "3.8.10"
  }
 },
 "nbformat": 4,
 "nbformat_minor": 5
}

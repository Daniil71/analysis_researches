{
  "cells": [
    {
      "cell_type": "markdown",
      "metadata": {
        "id": "view-in-github",
        "colab_type": "text"
      },
      "source": [
        "<a href=\"https://colab.research.google.com/github/Daniil71/analysis_researches/blob/main/Protests.ipynb\" target=\"_parent\"><img src=\"https://colab.research.google.com/assets/colab-badge.svg\" alt=\"Open In Colab\"/></a>"
      ]
    },
    {
      "cell_type": "code",
      "execution_count": 70,
      "metadata": {
        "id": "rhNOa1KAxVSQ",
        "colab": {
          "base_uri": "https://localhost:8080/",
          "height": 733
        },
        "outputId": "54e770d8-e5fb-4225-b597-93d824d36acf"
      },
      "outputs": [
        {
          "output_type": "execute_result",
          "data": {
            "text/plain": [
              "     Country                       Protest Name Start Date  \\\n",
              "0  Argentina       Agricultural policy protests     Apr-22   \n",
              "1    Armenia                Peace plan protests     Nov-20   \n",
              "2     Brazil    Indigenous land rights protests     Jun-21   \n",
              "3     Canada  Coronavirus restrictions protests     Apr-20   \n",
              "4       Iran   Public sector employees protests     Jan-22   \n",
              "\n",
              "  Freedom Rating (Status)                                           Triggers  \\\n",
              "0                    Free  The government's adoption of interventionist p...   \n",
              "1             Partly free  Announcement of a Russian-brokered peace deal ...   \n",
              "2                    Free  President Jair Bolsonaro's administration's su...   \n",
              "3                    Free  Enactment of coronavirus restrictions, includi...   \n",
              "4                Not free  Rising costs of living and stagnating salaries...   \n",
              "\n",
              "                                         Motivations Peak Size  \\\n",
              "0  Frustration with high tax rates and persistent...    >1,000   \n",
              "1  Nationalist sentiment and a belief in Armenian...    >1,000   \n",
              "2  Anger over economic exploitation of Indigenous...    >4,000   \n",
              "3  Skepticism of coronavirus, vaccines, and conce...    >1,000   \n",
              "4  Frustration with the government's slow impleme...     >1000   \n",
              "\n",
              "                                    Key Participants  \\\n",
              "0                                           Farmers.   \n",
              "1  Coalition of seventeen opposition parties and ...   \n",
              "2                                 Indigenous groups.   \n",
              "3                          General public; truckers.   \n",
              "4  Public sector employees, including nurses and ...   \n",
              "\n",
              "                                       Duration  \\\n",
              "0                                        Active   \n",
              "1  6 months in 2020–2021; Active as of May 2022   \n",
              "2                                        Active   \n",
              "3                                        Active   \n",
              "4                                        Active   \n",
              "\n",
              "                                            Outcomes  ...  \\\n",
              "0  No policy/leadership change in response to pro...  ...   \n",
              "1  No policy or leadership change in response to ...  ...   \n",
              "2  The Brazilian Supreme Court suspended the land...  ...   \n",
              "3  No policy/leadership change in response to the...  ...   \n",
              "4  No policy/leadership change in response to pro...  ...   \n",
              "\n",
              "  Economic motivation? Political motivation? Corruption motivation?  \\\n",
              "0                    X                     X                    NaN   \n",
              "1                  NaN                     X                    NaN   \n",
              "2                  NaN                     X                    NaN   \n",
              "3                    X                   NaN                      X   \n",
              "4                    X                   NaN                    NaN   \n",
              "\n",
              "  Size category Protests with a significant outcome  \\\n",
              "0     Thousands                                 NaN   \n",
              "1     Thousands                                 NaN   \n",
              "2     Thousands                                   X   \n",
              "3     Thousands                                 NaN   \n",
              "4     Thousands                                 NaN   \n",
              "\n",
              "  Large protests (Over 100,000 protesting) Violent government response  \\\n",
              "0                                      NaN                         NaN   \n",
              "1                                      NaN                         NaN   \n",
              "2                                      NaN                         NaN   \n",
              "3                                      NaN                           X   \n",
              "4                                      NaN                         NaN   \n",
              "\n",
              "  Long protests (more than 3 months) Coronavirus-related protests  \\\n",
              "0                                NaN                          NaN   \n",
              "1                                  X                          NaN   \n",
              "2                                NaN                          NaN   \n",
              "3                                NaN                            X   \n",
              "4                                NaN                          NaN   \n",
              "\n",
              "   Capital city  \n",
              "0  Buenos Aires  \n",
              "1       Yerevan  \n",
              "2      Brasilia  \n",
              "3        Ottawa  \n",
              "4        Tehran  \n",
              "\n",
              "[5 rows x 21 columns]"
            ],
            "text/html": [
              "\n",
              "  <div id=\"df-2886fcde-fe56-4016-ba97-8cb3d6370f01\">\n",
              "    <div class=\"colab-df-container\">\n",
              "      <div>\n",
              "<style scoped>\n",
              "    .dataframe tbody tr th:only-of-type {\n",
              "        vertical-align: middle;\n",
              "    }\n",
              "\n",
              "    .dataframe tbody tr th {\n",
              "        vertical-align: top;\n",
              "    }\n",
              "\n",
              "    .dataframe thead th {\n",
              "        text-align: right;\n",
              "    }\n",
              "</style>\n",
              "<table border=\"1\" class=\"dataframe\">\n",
              "  <thead>\n",
              "    <tr style=\"text-align: right;\">\n",
              "      <th></th>\n",
              "      <th>Country</th>\n",
              "      <th>Protest Name</th>\n",
              "      <th>Start Date</th>\n",
              "      <th>Freedom Rating (Status)</th>\n",
              "      <th>Triggers</th>\n",
              "      <th>Motivations</th>\n",
              "      <th>Peak Size</th>\n",
              "      <th>Key Participants</th>\n",
              "      <th>Duration</th>\n",
              "      <th>Outcomes</th>\n",
              "      <th>...</th>\n",
              "      <th>Economic motivation?</th>\n",
              "      <th>Political motivation?</th>\n",
              "      <th>Corruption motivation?</th>\n",
              "      <th>Size category</th>\n",
              "      <th>Protests with a significant outcome</th>\n",
              "      <th>Large protests (Over 100,000 protesting)</th>\n",
              "      <th>Violent government response</th>\n",
              "      <th>Long protests (more than 3 months)</th>\n",
              "      <th>Coronavirus-related protests</th>\n",
              "      <th>Capital city</th>\n",
              "    </tr>\n",
              "  </thead>\n",
              "  <tbody>\n",
              "    <tr>\n",
              "      <th>0</th>\n",
              "      <td>Argentina</td>\n",
              "      <td>Agricultural policy protests</td>\n",
              "      <td>Apr-22</td>\n",
              "      <td>Free</td>\n",
              "      <td>The government's adoption of interventionist p...</td>\n",
              "      <td>Frustration with high tax rates and persistent...</td>\n",
              "      <td>&gt;1,000</td>\n",
              "      <td>Farmers.</td>\n",
              "      <td>Active</td>\n",
              "      <td>No policy/leadership change in response to pro...</td>\n",
              "      <td>...</td>\n",
              "      <td>X</td>\n",
              "      <td>X</td>\n",
              "      <td>NaN</td>\n",
              "      <td>Thousands</td>\n",
              "      <td>NaN</td>\n",
              "      <td>NaN</td>\n",
              "      <td>NaN</td>\n",
              "      <td>NaN</td>\n",
              "      <td>NaN</td>\n",
              "      <td>Buenos Aires</td>\n",
              "    </tr>\n",
              "    <tr>\n",
              "      <th>1</th>\n",
              "      <td>Armenia</td>\n",
              "      <td>Peace plan protests</td>\n",
              "      <td>Nov-20</td>\n",
              "      <td>Partly free</td>\n",
              "      <td>Announcement of a Russian-brokered peace deal ...</td>\n",
              "      <td>Nationalist sentiment and a belief in Armenian...</td>\n",
              "      <td>&gt;1,000</td>\n",
              "      <td>Coalition of seventeen opposition parties and ...</td>\n",
              "      <td>6 months in 2020–2021; Active as of May 2022</td>\n",
              "      <td>No policy or leadership change in response to ...</td>\n",
              "      <td>...</td>\n",
              "      <td>NaN</td>\n",
              "      <td>X</td>\n",
              "      <td>NaN</td>\n",
              "      <td>Thousands</td>\n",
              "      <td>NaN</td>\n",
              "      <td>NaN</td>\n",
              "      <td>NaN</td>\n",
              "      <td>X</td>\n",
              "      <td>NaN</td>\n",
              "      <td>Yerevan</td>\n",
              "    </tr>\n",
              "    <tr>\n",
              "      <th>2</th>\n",
              "      <td>Brazil</td>\n",
              "      <td>Indigenous land rights protests</td>\n",
              "      <td>Jun-21</td>\n",
              "      <td>Free</td>\n",
              "      <td>President Jair Bolsonaro's administration's su...</td>\n",
              "      <td>Anger over economic exploitation of Indigenous...</td>\n",
              "      <td>&gt;4,000</td>\n",
              "      <td>Indigenous groups.</td>\n",
              "      <td>Active</td>\n",
              "      <td>The Brazilian Supreme Court suspended the land...</td>\n",
              "      <td>...</td>\n",
              "      <td>NaN</td>\n",
              "      <td>X</td>\n",
              "      <td>NaN</td>\n",
              "      <td>Thousands</td>\n",
              "      <td>X</td>\n",
              "      <td>NaN</td>\n",
              "      <td>NaN</td>\n",
              "      <td>NaN</td>\n",
              "      <td>NaN</td>\n",
              "      <td>Brasilia</td>\n",
              "    </tr>\n",
              "    <tr>\n",
              "      <th>3</th>\n",
              "      <td>Canada</td>\n",
              "      <td>Coronavirus restrictions protests</td>\n",
              "      <td>Apr-20</td>\n",
              "      <td>Free</td>\n",
              "      <td>Enactment of coronavirus restrictions, includi...</td>\n",
              "      <td>Skepticism of coronavirus, vaccines, and conce...</td>\n",
              "      <td>&gt;1,000</td>\n",
              "      <td>General public; truckers.</td>\n",
              "      <td>Active</td>\n",
              "      <td>No policy/leadership change in response to the...</td>\n",
              "      <td>...</td>\n",
              "      <td>X</td>\n",
              "      <td>NaN</td>\n",
              "      <td>X</td>\n",
              "      <td>Thousands</td>\n",
              "      <td>NaN</td>\n",
              "      <td>NaN</td>\n",
              "      <td>X</td>\n",
              "      <td>NaN</td>\n",
              "      <td>X</td>\n",
              "      <td>Ottawa</td>\n",
              "    </tr>\n",
              "    <tr>\n",
              "      <th>4</th>\n",
              "      <td>Iran</td>\n",
              "      <td>Public sector employees protests</td>\n",
              "      <td>Jan-22</td>\n",
              "      <td>Not free</td>\n",
              "      <td>Rising costs of living and stagnating salaries...</td>\n",
              "      <td>Frustration with the government's slow impleme...</td>\n",
              "      <td>&gt;1000</td>\n",
              "      <td>Public sector employees, including nurses and ...</td>\n",
              "      <td>Active</td>\n",
              "      <td>No policy/leadership change in response to pro...</td>\n",
              "      <td>...</td>\n",
              "      <td>X</td>\n",
              "      <td>NaN</td>\n",
              "      <td>NaN</td>\n",
              "      <td>Thousands</td>\n",
              "      <td>NaN</td>\n",
              "      <td>NaN</td>\n",
              "      <td>NaN</td>\n",
              "      <td>NaN</td>\n",
              "      <td>NaN</td>\n",
              "      <td>Tehran</td>\n",
              "    </tr>\n",
              "  </tbody>\n",
              "</table>\n",
              "<p>5 rows × 21 columns</p>\n",
              "</div>\n",
              "      <button class=\"colab-df-convert\" onclick=\"convertToInteractive('df-2886fcde-fe56-4016-ba97-8cb3d6370f01')\"\n",
              "              title=\"Convert this dataframe to an interactive table.\"\n",
              "              style=\"display:none;\">\n",
              "        \n",
              "  <svg xmlns=\"http://www.w3.org/2000/svg\" height=\"24px\"viewBox=\"0 0 24 24\"\n",
              "       width=\"24px\">\n",
              "    <path d=\"M0 0h24v24H0V0z\" fill=\"none\"/>\n",
              "    <path d=\"M18.56 5.44l.94 2.06.94-2.06 2.06-.94-2.06-.94-.94-2.06-.94 2.06-2.06.94zm-11 1L8.5 8.5l.94-2.06 2.06-.94-2.06-.94L8.5 2.5l-.94 2.06-2.06.94zm10 10l.94 2.06.94-2.06 2.06-.94-2.06-.94-.94-2.06-.94 2.06-2.06.94z\"/><path d=\"M17.41 7.96l-1.37-1.37c-.4-.4-.92-.59-1.43-.59-.52 0-1.04.2-1.43.59L10.3 9.45l-7.72 7.72c-.78.78-.78 2.05 0 2.83L4 21.41c.39.39.9.59 1.41.59.51 0 1.02-.2 1.41-.59l7.78-7.78 2.81-2.81c.8-.78.8-2.07 0-2.86zM5.41 20L4 18.59l7.72-7.72 1.47 1.35L5.41 20z\"/>\n",
              "  </svg>\n",
              "      </button>\n",
              "      \n",
              "  <style>\n",
              "    .colab-df-container {\n",
              "      display:flex;\n",
              "      flex-wrap:wrap;\n",
              "      gap: 12px;\n",
              "    }\n",
              "\n",
              "    .colab-df-convert {\n",
              "      background-color: #E8F0FE;\n",
              "      border: none;\n",
              "      border-radius: 50%;\n",
              "      cursor: pointer;\n",
              "      display: none;\n",
              "      fill: #1967D2;\n",
              "      height: 32px;\n",
              "      padding: 0 0 0 0;\n",
              "      width: 32px;\n",
              "    }\n",
              "\n",
              "    .colab-df-convert:hover {\n",
              "      background-color: #E2EBFA;\n",
              "      box-shadow: 0px 1px 2px rgba(60, 64, 67, 0.3), 0px 1px 3px 1px rgba(60, 64, 67, 0.15);\n",
              "      fill: #174EA6;\n",
              "    }\n",
              "\n",
              "    [theme=dark] .colab-df-convert {\n",
              "      background-color: #3B4455;\n",
              "      fill: #D2E3FC;\n",
              "    }\n",
              "\n",
              "    [theme=dark] .colab-df-convert:hover {\n",
              "      background-color: #434B5C;\n",
              "      box-shadow: 0px 1px 3px 1px rgba(0, 0, 0, 0.15);\n",
              "      filter: drop-shadow(0px 1px 2px rgba(0, 0, 0, 0.3));\n",
              "      fill: #FFFFFF;\n",
              "    }\n",
              "  </style>\n",
              "\n",
              "      <script>\n",
              "        const buttonEl =\n",
              "          document.querySelector('#df-2886fcde-fe56-4016-ba97-8cb3d6370f01 button.colab-df-convert');\n",
              "        buttonEl.style.display =\n",
              "          google.colab.kernel.accessAllowed ? 'block' : 'none';\n",
              "\n",
              "        async function convertToInteractive(key) {\n",
              "          const element = document.querySelector('#df-2886fcde-fe56-4016-ba97-8cb3d6370f01');\n",
              "          const dataTable =\n",
              "            await google.colab.kernel.invokeFunction('convertToInteractive',\n",
              "                                                     [key], {});\n",
              "          if (!dataTable) return;\n",
              "\n",
              "          const docLinkHtml = 'Like what you see? Visit the ' +\n",
              "            '<a target=\"_blank\" href=https://colab.research.google.com/notebooks/data_table.ipynb>data table notebook</a>'\n",
              "            + ' to learn more about interactive tables.';\n",
              "          element.innerHTML = '';\n",
              "          dataTable['output_type'] = 'display_data';\n",
              "          await google.colab.output.renderOutput(dataTable, element);\n",
              "          const docLink = document.createElement('div');\n",
              "          docLink.innerHTML = docLinkHtml;\n",
              "          element.appendChild(docLink);\n",
              "        }\n",
              "      </script>\n",
              "    </div>\n",
              "  </div>\n",
              "  "
            ]
          },
          "metadata": {},
          "execution_count": 70
        }
      ],
      "source": [
        "import pandas as pd\n",
        "import numpy as np\n",
        "import re\n",
        "from datetime import datetime\n",
        "import matplotlib.pyplot as plt\n",
        "import seaborn as sns\n",
        "import requests\n",
        "\n",
        "\n",
        "# url = https://www.kaggle.com/datasets/kkhandekar/global-protest-tracker\n",
        "df = pd.read_csv('gpt.csv')\n",
        "df.head()"
      ]
    },
    {
      "cell_type": "code",
      "execution_count": 71,
      "metadata": {
        "id": "YVttnWdiVdTl",
        "colab": {
          "base_uri": "https://localhost:8080/"
        },
        "outputId": "04cf9e24-8555-43e3-9189-24e15d5e91fc"
      },
      "outputs": [
        {
          "output_type": "stream",
          "name": "stdout",
          "text": [
            "<class 'pandas.core.frame.DataFrame'>\n",
            "RangeIndex: 329 entries, 0 to 328\n",
            "Data columns (total 21 columns):\n",
            " #   Column                                    Non-Null Count  Dtype \n",
            "---  ------                                    --------------  ----- \n",
            " 0   Country                                   329 non-null    object\n",
            " 1   Protest Name                              329 non-null    object\n",
            " 2   Start Date                                329 non-null    object\n",
            " 3   Freedom Rating (Status)                   329 non-null    object\n",
            " 4   Triggers                                  329 non-null    object\n",
            " 5   Motivations                               329 non-null    object\n",
            " 6   Peak Size                                 329 non-null    object\n",
            " 7   Key Participants                          328 non-null    object\n",
            " 8   Duration                                  329 non-null    object\n",
            " 9   Outcomes                                  328 non-null    object\n",
            " 10  Active protests                           17 non-null     object\n",
            " 11  Economic motivation?                      117 non-null    object\n",
            " 12  Political motivation?                     286 non-null    object\n",
            " 13  Corruption motivation?                    66 non-null     object\n",
            " 14  Size category                             329 non-null    object\n",
            " 15  Protests with a significant outcome       99 non-null     object\n",
            " 16  Large protests (Over 100,000 protesting)  50 non-null     object\n",
            " 17  Violent government response               90 non-null     object\n",
            " 18  Long protests (more than 3 months)        80 non-null     object\n",
            " 19  Coronavirus-related protests              48 non-null     object\n",
            " 20  Capital city                              328 non-null    object\n",
            "dtypes: object(21)\n",
            "memory usage: 54.1+ KB\n"
          ]
        }
      ],
      "source": [
        "df.info()"
      ]
    },
    {
      "cell_type": "code",
      "execution_count": 72,
      "metadata": {
        "id": "9hG0nBZMi5N-",
        "colab": {
          "base_uri": "https://localhost:8080/"
        },
        "outputId": "5e98a14d-2cc9-4622-a6f4-efbe125f7985"
      },
      "outputs": [
        {
          "output_type": "execute_result",
          "data": {
            "text/plain": [
              "Country                                     126\n",
              "Protest Name                                263\n",
              "Start Date                                   66\n",
              "Freedom Rating (Status)                       4\n",
              "Triggers                                    327\n",
              "Motivations                                 322\n",
              "Peak Size                                    53\n",
              "Key Participants                            174\n",
              "Duration                                     47\n",
              "Outcomes                                    119\n",
              "Active protests                               1\n",
              "Economic motivation?                          1\n",
              "Political motivation?                         1\n",
              "Corruption motivation?                        1\n",
              "Size category                                11\n",
              "Protests with a significant outcome           1\n",
              "Large protests (Over 100,000 protesting)      1\n",
              "Violent government response                   1\n",
              "Long protests (more than 3 months)            1\n",
              "Coronavirus-related protests                  1\n",
              "Capital city                                125\n",
              "dtype: int64"
            ]
          },
          "metadata": {},
          "execution_count": 72
        }
      ],
      "source": [
        "# найдём все категориальные атрибуты - в данном случае с 1 уникальным значением\n",
        "df.nunique()"
      ]
    },
    {
      "cell_type": "code",
      "execution_count": 73,
      "metadata": {
        "id": "W-eG4wfijDKs",
        "colab": {
          "base_uri": "https://localhost:8080/"
        },
        "outputId": "56b84e29-3ff8-4cd2-b23f-f3c88481d5c9"
      },
      "outputs": [
        {
          "output_type": "stream",
          "name": "stdout",
          "text": [
            "<class 'pandas.core.frame.DataFrame'>\n",
            "RangeIndex: 329 entries, 0 to 328\n",
            "Data columns (total 21 columns):\n",
            " #   Column                                    Non-Null Count  Dtype \n",
            "---  ------                                    --------------  ----- \n",
            " 0   Country                                   329 non-null    object\n",
            " 1   Protest Name                              329 non-null    object\n",
            " 2   Start Date                                329 non-null    object\n",
            " 3   Freedom Rating (Status)                   329 non-null    object\n",
            " 4   Triggers                                  329 non-null    object\n",
            " 5   Motivations                               329 non-null    object\n",
            " 6   Peak Size                                 329 non-null    object\n",
            " 7   Key Participants                          328 non-null    object\n",
            " 8   Duration                                  329 non-null    object\n",
            " 9   Outcomes                                  328 non-null    object\n",
            " 10  Active protests                           329 non-null    int64 \n",
            " 11  Economic motivation?                      329 non-null    int64 \n",
            " 12  Political motivation?                     329 non-null    int64 \n",
            " 13  Corruption motivation?                    329 non-null    int64 \n",
            " 14  Size category                             329 non-null    object\n",
            " 15  Protests with a significant outcome       329 non-null    int64 \n",
            " 16  Large protests (Over 100,000 protesting)  329 non-null    int64 \n",
            " 17  Violent government response               329 non-null    int64 \n",
            " 18  Long protests (more than 3 months)        329 non-null    int64 \n",
            " 19  Coronavirus-related protests              329 non-null    int64 \n",
            " 20  Capital city                              328 non-null    object\n",
            "dtypes: int64(9), object(12)\n",
            "memory usage: 54.1+ KB\n"
          ]
        }
      ],
      "source": [
        "# Заменим наны и иксы в колонках на 1 и 0 и приведём к целочисленному типу\n",
        "df[['Active protests','Economic motivation?',\n",
        "       'Political motivation?', 'Corruption motivation?','Protests with a significant outcome',\n",
        "       'Large protests (Over 100,000 protesting)',\n",
        "       'Violent government response', 'Long protests (more than 3 months)',\n",
        "       'Coronavirus-related protests']] = df[['Active protests','Economic motivation?',\n",
        "       'Political motivation?', 'Corruption motivation?','Protests with a significant outcome',\n",
        "       'Large protests (Over 100,000 protesting)',\n",
        "       'Violent government response', 'Long protests (more than 3 months)',\n",
        "       'Coronavirus-related protests']].fillna(0).replace('X',1).apply(pd.to_numeric)\n",
        "df.info()"
      ]
    },
    {
      "cell_type": "code",
      "execution_count": 74,
      "metadata": {
        "id": "OFbB8-pUkTbK",
        "colab": {
          "base_uri": "https://localhost:8080/"
        },
        "outputId": "dd7669f7-069c-47a5-cc6d-c6a2735df639"
      },
      "outputs": [
        {
          "output_type": "execute_result",
          "data": {
            "text/plain": [
              "array(['Apr-22', 'Nov-20', 'Jun-21', 'Apr-20', 'Jan-22', 'Oct-19',\n",
              "       'May-21', 'Feb-22', 'Feb-21', 'Mar-22', 'Jun-20', 'Jul-20',\n",
              "       'Sep-21', 'Aug-21', 'Nov-19', 'Nov-18', 'Jun-17', 'Dec-20',\n",
              "       'Feb-19', 'Dec-21', 'Aug-20', 'Sep-18', 'Apr-18', 'Jul-21',\n",
              "       'Mar-21', 'Jan-20', 'Nov-21', 'Oct-17', 'Jan-19', 'Feb-18',\n",
              "       'Oct-20', 'Jul-18', 'Jul-19', 'Feb-17', 'Jan-21', 'Apr-21',\n",
              "       'Mar-19', 'Mar-18', 'Mar-20', 'May-19', 'May-20', 'Oct-18',\n",
              "       'Sep-20', 'Jun-18', 'Apr-19', 'Oct-21', 'Dec-17', 'Jul-17',\n",
              "       'Sep-19', 'May-22', 'Dec-19', 'Sep-17', 'Jun-19', 'Feb-20',\n",
              "       'Aug-17', 'Dec-18', 'Apr-17', 'Aug-19', 'Aug-18', 'May-18',\n",
              "       'Jan-18', 'Nov-17', 'Feb-2018', 'Jan-17', 'Mar-17', 'Oct-16'],\n",
              "      dtype=object)"
            ]
          },
          "metadata": {},
          "execution_count": 74
        }
      ],
      "source": [
        "# Даты изначально даны в формате object. Одна из дат отличается вариантом написания года. \n",
        "df['Start Date'].unique()"
      ]
    },
    {
      "cell_type": "code",
      "execution_count": 75,
      "metadata": {
        "id": "SBe3eHImmZ_V",
        "colab": {
          "base_uri": "https://localhost:8080/"
        },
        "outputId": "90ad21ee-a677-481d-a38f-1baa3864bb38"
      },
      "outputs": [
        {
          "output_type": "execute_result",
          "data": {
            "text/plain": [
              "0     2022-04-01\n",
              "1     2020-11-01\n",
              "2     2021-06-01\n",
              "3     2020-04-01\n",
              "4     2022-01-01\n",
              "         ...    \n",
              "324   2021-03-01\n",
              "325   2018-09-01\n",
              "326   2019-01-01\n",
              "327   2018-08-01\n",
              "328   2017-11-01\n",
              "Name: Start Date, Length: 329, dtype: datetime64[ns]"
            ]
          },
          "metadata": {},
          "execution_count": 75
        }
      ],
      "source": [
        "# Заменим и приведём к datetime (дни нам не даны, так что каждый протест начинается с первого числа месяца)\n",
        "df.update(df.loc[df['Start Date'] == 'Feb-2018','Start Date'].replace('Feb-2018','Feb-18'))\n",
        "df['Start Date'] = pd.to_datetime(df['Start Date'], format = '%b-%y')\n",
        "df['Start Date']"
      ]
    },
    {
      "cell_type": "code",
      "execution_count": 76,
      "metadata": {
        "id": "DOhYjma-qIsJ",
        "colab": {
          "base_uri": "https://localhost:8080/"
        },
        "outputId": "b29ce324-43cd-49d3-a34d-de0a07c5690e"
      },
      "outputs": [
        {
          "output_type": "execute_result",
          "data": {
            "text/plain": [
              "1 day                                                    57\n",
              "1 week                                                   50\n",
              "1 month                                                  44\n",
              "2 months                                                 32\n",
              "Active                                                   16\n",
              "2 weeks                                                  15\n",
              "4 months                                                 15\n",
              "5 months                                                 11\n",
              "3 months                                                 10\n",
              "3 weeks                                                   9\n",
              "14 months                                                 6\n",
              "8 months                                                  5\n",
              "1 year                                                    4\n",
              "6 months                                                  4\n",
              "3 days                                                    4\n",
              "10 days                                                   3\n",
              "1 year, intermittently                                    3\n",
              "2 days                                                    3\n",
              "1 year, 6 months                                          3\n",
              "11 months                                                 2\n",
              "1 year, 4 months (sporadic)                               2\n",
              "15 months                                                 2\n",
              "10 months                                                 2\n",
              "16 months, intermittently                                 2\n",
              "1 year (sporadic)                                         2\n",
              "7 months                                                  2\n",
              "2 years (sporadic)                                        1\n",
              "3 weeks in March 2020; 1 day in March 2022.               1\n",
              "1 day in August 2021; 1 week in December 2021             1\n",
              "4 weeks                                                   1\n",
              "1 year, 2 months                                          1\n",
              "9 months, intermittently                                  1\n",
              "6 weeks                                                   1\n",
              "7 months, intermittently                                  1\n",
              "15 months, intermittently                                 1\n",
              "3 weeks in July 2021; November 2021 to February 2022.     1\n",
              "7 months (sporadic)                                       1\n",
              "5 days                                                    1\n",
              "1 year (first round); 2 months (second wave)              1\n",
              "1 year, 8 months (sporadic)                               1\n",
              "1 year, 5 months                                          1\n",
              "1 year, 9 months                                          1\n",
              "6 months in 2020–2021; Active as of May 2022              1\n",
              "7 months , intermittently                                 1\n",
              "13 months, intermittently                                 1\n",
              "9 months                                                  1\n",
              "1 year, 3 months                                          1\n",
              "Name: Duration, dtype: int64"
            ]
          },
          "metadata": {},
          "execution_count": 76
        }
      ],
      "source": [
        "df['Duration'].value_counts()"
      ]
    },
    {
      "cell_type": "code",
      "execution_count": 77,
      "metadata": {
        "id": "on69MxOJvy_u"
      },
      "outputs": [],
      "source": [
        "# С длительностью сложнее.\n",
        "def changer(row):\n",
        "    \"\"\"\n",
        "    функция отбирает из строки с длительностью сочетания типа \"7 days\" или \"15 months\" и возвращает именно количество дней \n",
        "    \"\"\"\n",
        "    row = re.findall('\\d+ \\w+', row)\n",
        "    for i in range(len(row)):\n",
        "        row[i] = row[i].replace('years','*365').replace('year','*365').replace('months','*30.5')\\\n",
        "            .replace('month','*30.5').replace('weeks','*7').replace('week','*7').replace('days','*1').replace('day','*1').replace('to','')\n",
        "        try:\n",
        "            row[i] = eval(row[i])\n",
        "        except:\n",
        "            return row[i]\n",
        "\n",
        "\n",
        "   \n",
        "    return round(sum(row))\n",
        "  \n",
        "df['Days_of_duration'] = df[df['Duration'] != 'Active']['Duration'].apply(changer)\n",
        "\n",
        "# отдельно высчитеаем длительность для активных протестов, взяв  1 мая 22 года за максимальную дату(датасет включает данные по май 2022)\n",
        "df.loc[df['Days_of_duration'].isna(),'Days_of_duration'] = \\\n",
        "    df.loc[df['Days_of_duration'].isna(),'Days_of_duration'].fillna(pd.to_datetime('2022-05-01')-df['Start Date']).dt.days\n",
        "\n",
        "# и переведём в целые числа\n",
        "df['Days_of_duration'] = df['Days_of_duration'].astype('int32')"
      ]
    },
    {
      "cell_type": "code",
      "execution_count": 78,
      "metadata": {
        "id": "g8xn_b-lLIQY",
        "colab": {
          "base_uri": "https://localhost:8080/",
          "height": 363
        },
        "outputId": "de6934d7-5523-4621-c91a-a433311a2436"
      },
      "outputs": [
        {
          "output_type": "execute_result",
          "data": {
            "text/plain": [
              "    Start Date          Duration  Days_of_duration\n",
              "319 2019-01-01  1 year, 3 months               456\n",
              "320 2017-04-01          3 months                92\n",
              "321 2018-06-01            1 week                 7\n",
              "322 2021-06-01          3 months                92\n",
              "323 2021-09-01          2 months                61\n",
              "324 2021-03-01             1 day                 1\n",
              "325 2018-09-01           1 month                30\n",
              "326 2019-01-01           1 month                30\n",
              "327 2018-08-01            1 week                 7\n",
              "328 2017-11-01             1 day                 1"
            ],
            "text/html": [
              "\n",
              "  <div id=\"df-a3b0553d-fa23-4069-97eb-0abbcf551d9f\">\n",
              "    <div class=\"colab-df-container\">\n",
              "      <div>\n",
              "<style scoped>\n",
              "    .dataframe tbody tr th:only-of-type {\n",
              "        vertical-align: middle;\n",
              "    }\n",
              "\n",
              "    .dataframe tbody tr th {\n",
              "        vertical-align: top;\n",
              "    }\n",
              "\n",
              "    .dataframe thead th {\n",
              "        text-align: right;\n",
              "    }\n",
              "</style>\n",
              "<table border=\"1\" class=\"dataframe\">\n",
              "  <thead>\n",
              "    <tr style=\"text-align: right;\">\n",
              "      <th></th>\n",
              "      <th>Start Date</th>\n",
              "      <th>Duration</th>\n",
              "      <th>Days_of_duration</th>\n",
              "    </tr>\n",
              "  </thead>\n",
              "  <tbody>\n",
              "    <tr>\n",
              "      <th>319</th>\n",
              "      <td>2019-01-01</td>\n",
              "      <td>1 year, 3 months</td>\n",
              "      <td>456</td>\n",
              "    </tr>\n",
              "    <tr>\n",
              "      <th>320</th>\n",
              "      <td>2017-04-01</td>\n",
              "      <td>3 months</td>\n",
              "      <td>92</td>\n",
              "    </tr>\n",
              "    <tr>\n",
              "      <th>321</th>\n",
              "      <td>2018-06-01</td>\n",
              "      <td>1 week</td>\n",
              "      <td>7</td>\n",
              "    </tr>\n",
              "    <tr>\n",
              "      <th>322</th>\n",
              "      <td>2021-06-01</td>\n",
              "      <td>3 months</td>\n",
              "      <td>92</td>\n",
              "    </tr>\n",
              "    <tr>\n",
              "      <th>323</th>\n",
              "      <td>2021-09-01</td>\n",
              "      <td>2 months</td>\n",
              "      <td>61</td>\n",
              "    </tr>\n",
              "    <tr>\n",
              "      <th>324</th>\n",
              "      <td>2021-03-01</td>\n",
              "      <td>1 day</td>\n",
              "      <td>1</td>\n",
              "    </tr>\n",
              "    <tr>\n",
              "      <th>325</th>\n",
              "      <td>2018-09-01</td>\n",
              "      <td>1 month</td>\n",
              "      <td>30</td>\n",
              "    </tr>\n",
              "    <tr>\n",
              "      <th>326</th>\n",
              "      <td>2019-01-01</td>\n",
              "      <td>1 month</td>\n",
              "      <td>30</td>\n",
              "    </tr>\n",
              "    <tr>\n",
              "      <th>327</th>\n",
              "      <td>2018-08-01</td>\n",
              "      <td>1 week</td>\n",
              "      <td>7</td>\n",
              "    </tr>\n",
              "    <tr>\n",
              "      <th>328</th>\n",
              "      <td>2017-11-01</td>\n",
              "      <td>1 day</td>\n",
              "      <td>1</td>\n",
              "    </tr>\n",
              "  </tbody>\n",
              "</table>\n",
              "</div>\n",
              "      <button class=\"colab-df-convert\" onclick=\"convertToInteractive('df-a3b0553d-fa23-4069-97eb-0abbcf551d9f')\"\n",
              "              title=\"Convert this dataframe to an interactive table.\"\n",
              "              style=\"display:none;\">\n",
              "        \n",
              "  <svg xmlns=\"http://www.w3.org/2000/svg\" height=\"24px\"viewBox=\"0 0 24 24\"\n",
              "       width=\"24px\">\n",
              "    <path d=\"M0 0h24v24H0V0z\" fill=\"none\"/>\n",
              "    <path d=\"M18.56 5.44l.94 2.06.94-2.06 2.06-.94-2.06-.94-.94-2.06-.94 2.06-2.06.94zm-11 1L8.5 8.5l.94-2.06 2.06-.94-2.06-.94L8.5 2.5l-.94 2.06-2.06.94zm10 10l.94 2.06.94-2.06 2.06-.94-2.06-.94-.94-2.06-.94 2.06-2.06.94z\"/><path d=\"M17.41 7.96l-1.37-1.37c-.4-.4-.92-.59-1.43-.59-.52 0-1.04.2-1.43.59L10.3 9.45l-7.72 7.72c-.78.78-.78 2.05 0 2.83L4 21.41c.39.39.9.59 1.41.59.51 0 1.02-.2 1.41-.59l7.78-7.78 2.81-2.81c.8-.78.8-2.07 0-2.86zM5.41 20L4 18.59l7.72-7.72 1.47 1.35L5.41 20z\"/>\n",
              "  </svg>\n",
              "      </button>\n",
              "      \n",
              "  <style>\n",
              "    .colab-df-container {\n",
              "      display:flex;\n",
              "      flex-wrap:wrap;\n",
              "      gap: 12px;\n",
              "    }\n",
              "\n",
              "    .colab-df-convert {\n",
              "      background-color: #E8F0FE;\n",
              "      border: none;\n",
              "      border-radius: 50%;\n",
              "      cursor: pointer;\n",
              "      display: none;\n",
              "      fill: #1967D2;\n",
              "      height: 32px;\n",
              "      padding: 0 0 0 0;\n",
              "      width: 32px;\n",
              "    }\n",
              "\n",
              "    .colab-df-convert:hover {\n",
              "      background-color: #E2EBFA;\n",
              "      box-shadow: 0px 1px 2px rgba(60, 64, 67, 0.3), 0px 1px 3px 1px rgba(60, 64, 67, 0.15);\n",
              "      fill: #174EA6;\n",
              "    }\n",
              "\n",
              "    [theme=dark] .colab-df-convert {\n",
              "      background-color: #3B4455;\n",
              "      fill: #D2E3FC;\n",
              "    }\n",
              "\n",
              "    [theme=dark] .colab-df-convert:hover {\n",
              "      background-color: #434B5C;\n",
              "      box-shadow: 0px 1px 3px 1px rgba(0, 0, 0, 0.15);\n",
              "      filter: drop-shadow(0px 1px 2px rgba(0, 0, 0, 0.3));\n",
              "      fill: #FFFFFF;\n",
              "    }\n",
              "  </style>\n",
              "\n",
              "      <script>\n",
              "        const buttonEl =\n",
              "          document.querySelector('#df-a3b0553d-fa23-4069-97eb-0abbcf551d9f button.colab-df-convert');\n",
              "        buttonEl.style.display =\n",
              "          google.colab.kernel.accessAllowed ? 'block' : 'none';\n",
              "\n",
              "        async function convertToInteractive(key) {\n",
              "          const element = document.querySelector('#df-a3b0553d-fa23-4069-97eb-0abbcf551d9f');\n",
              "          const dataTable =\n",
              "            await google.colab.kernel.invokeFunction('convertToInteractive',\n",
              "                                                     [key], {});\n",
              "          if (!dataTable) return;\n",
              "\n",
              "          const docLinkHtml = 'Like what you see? Visit the ' +\n",
              "            '<a target=\"_blank\" href=https://colab.research.google.com/notebooks/data_table.ipynb>data table notebook</a>'\n",
              "            + ' to learn more about interactive tables.';\n",
              "          element.innerHTML = '';\n",
              "          dataTable['output_type'] = 'display_data';\n",
              "          await google.colab.output.renderOutput(dataTable, element);\n",
              "          const docLink = document.createElement('div');\n",
              "          docLink.innerHTML = docLinkHtml;\n",
              "          element.appendChild(docLink);\n",
              "        }\n",
              "      </script>\n",
              "    </div>\n",
              "  </div>\n",
              "  "
            ]
          },
          "metadata": {},
          "execution_count": 78
        }
      ],
      "source": [
        "df[['Start Date','Duration','Days_of_duration']].tail(10)"
      ]
    },
    {
      "cell_type": "code",
      "execution_count": 79,
      "metadata": {
        "id": "-rmfgJCCPIKj",
        "colab": {
          "base_uri": "https://localhost:8080/",
          "height": 348
        },
        "outputId": "6b922d6d-86fa-412f-c668-757fd2c0ed07"
      },
      "outputs": [
        {
          "output_type": "execute_result",
          "data": {
            "text/plain": [
              "      Country    Protest Name Start Date Freedom Rating (Status)  \\\n",
              "328  Zimbabwe  Mugabe protest 2017-11-01                Not free   \n",
              "\n",
              "                                              Triggers  \\\n",
              "328  Military takeover of power, after which protes...   \n",
              "\n",
              "                                           Motivations Peak Size  \\\n",
              "328  Desire for political reforms and repression un...   >10,000   \n",
              "\n",
              "    Key Participants Duration  \\\n",
              "328              NaN    1 day   \n",
              "\n",
              "                                              Outcomes  ...  \\\n",
              "328  Mugabe stepped down and was replaced by Emmers...  ...   \n",
              "\n",
              "     Political motivation?  Corruption motivation?  Size category  \\\n",
              "328                      0                       0      Thousands   \n",
              "\n",
              "     Protests with a significant outcome  \\\n",
              "328                                    0   \n",
              "\n",
              "    Large protests (Over 100,000 protesting)  Violent government response  \\\n",
              "328                                        0                            0   \n",
              "\n",
              "     Long protests (more than 3 months)  Coronavirus-related protests  \\\n",
              "328                                   0                             0   \n",
              "\n",
              "     Capital city  Days_of_duration  \n",
              "328        Harare                 1  \n",
              "\n",
              "[1 rows x 22 columns]"
            ],
            "text/html": [
              "\n",
              "  <div id=\"df-717de7d9-100d-40f9-8785-52b21e5df51d\">\n",
              "    <div class=\"colab-df-container\">\n",
              "      <div>\n",
              "<style scoped>\n",
              "    .dataframe tbody tr th:only-of-type {\n",
              "        vertical-align: middle;\n",
              "    }\n",
              "\n",
              "    .dataframe tbody tr th {\n",
              "        vertical-align: top;\n",
              "    }\n",
              "\n",
              "    .dataframe thead th {\n",
              "        text-align: right;\n",
              "    }\n",
              "</style>\n",
              "<table border=\"1\" class=\"dataframe\">\n",
              "  <thead>\n",
              "    <tr style=\"text-align: right;\">\n",
              "      <th></th>\n",
              "      <th>Country</th>\n",
              "      <th>Protest Name</th>\n",
              "      <th>Start Date</th>\n",
              "      <th>Freedom Rating (Status)</th>\n",
              "      <th>Triggers</th>\n",
              "      <th>Motivations</th>\n",
              "      <th>Peak Size</th>\n",
              "      <th>Key Participants</th>\n",
              "      <th>Duration</th>\n",
              "      <th>Outcomes</th>\n",
              "      <th>...</th>\n",
              "      <th>Political motivation?</th>\n",
              "      <th>Corruption motivation?</th>\n",
              "      <th>Size category</th>\n",
              "      <th>Protests with a significant outcome</th>\n",
              "      <th>Large protests (Over 100,000 protesting)</th>\n",
              "      <th>Violent government response</th>\n",
              "      <th>Long protests (more than 3 months)</th>\n",
              "      <th>Coronavirus-related protests</th>\n",
              "      <th>Capital city</th>\n",
              "      <th>Days_of_duration</th>\n",
              "    </tr>\n",
              "  </thead>\n",
              "  <tbody>\n",
              "    <tr>\n",
              "      <th>328</th>\n",
              "      <td>Zimbabwe</td>\n",
              "      <td>Mugabe protest</td>\n",
              "      <td>2017-11-01</td>\n",
              "      <td>Not free</td>\n",
              "      <td>Military takeover of power, after which protes...</td>\n",
              "      <td>Desire for political reforms and repression un...</td>\n",
              "      <td>&gt;10,000</td>\n",
              "      <td>NaN</td>\n",
              "      <td>1 day</td>\n",
              "      <td>Mugabe stepped down and was replaced by Emmers...</td>\n",
              "      <td>...</td>\n",
              "      <td>0</td>\n",
              "      <td>0</td>\n",
              "      <td>Thousands</td>\n",
              "      <td>0</td>\n",
              "      <td>0</td>\n",
              "      <td>0</td>\n",
              "      <td>0</td>\n",
              "      <td>0</td>\n",
              "      <td>Harare</td>\n",
              "      <td>1</td>\n",
              "    </tr>\n",
              "  </tbody>\n",
              "</table>\n",
              "<p>1 rows × 22 columns</p>\n",
              "</div>\n",
              "      <button class=\"colab-df-convert\" onclick=\"convertToInteractive('df-717de7d9-100d-40f9-8785-52b21e5df51d')\"\n",
              "              title=\"Convert this dataframe to an interactive table.\"\n",
              "              style=\"display:none;\">\n",
              "        \n",
              "  <svg xmlns=\"http://www.w3.org/2000/svg\" height=\"24px\"viewBox=\"0 0 24 24\"\n",
              "       width=\"24px\">\n",
              "    <path d=\"M0 0h24v24H0V0z\" fill=\"none\"/>\n",
              "    <path d=\"M18.56 5.44l.94 2.06.94-2.06 2.06-.94-2.06-.94-.94-2.06-.94 2.06-2.06.94zm-11 1L8.5 8.5l.94-2.06 2.06-.94-2.06-.94L8.5 2.5l-.94 2.06-2.06.94zm10 10l.94 2.06.94-2.06 2.06-.94-2.06-.94-.94-2.06-.94 2.06-2.06.94z\"/><path d=\"M17.41 7.96l-1.37-1.37c-.4-.4-.92-.59-1.43-.59-.52 0-1.04.2-1.43.59L10.3 9.45l-7.72 7.72c-.78.78-.78 2.05 0 2.83L4 21.41c.39.39.9.59 1.41.59.51 0 1.02-.2 1.41-.59l7.78-7.78 2.81-2.81c.8-.78.8-2.07 0-2.86zM5.41 20L4 18.59l7.72-7.72 1.47 1.35L5.41 20z\"/>\n",
              "  </svg>\n",
              "      </button>\n",
              "      \n",
              "  <style>\n",
              "    .colab-df-container {\n",
              "      display:flex;\n",
              "      flex-wrap:wrap;\n",
              "      gap: 12px;\n",
              "    }\n",
              "\n",
              "    .colab-df-convert {\n",
              "      background-color: #E8F0FE;\n",
              "      border: none;\n",
              "      border-radius: 50%;\n",
              "      cursor: pointer;\n",
              "      display: none;\n",
              "      fill: #1967D2;\n",
              "      height: 32px;\n",
              "      padding: 0 0 0 0;\n",
              "      width: 32px;\n",
              "    }\n",
              "\n",
              "    .colab-df-convert:hover {\n",
              "      background-color: #E2EBFA;\n",
              "      box-shadow: 0px 1px 2px rgba(60, 64, 67, 0.3), 0px 1px 3px 1px rgba(60, 64, 67, 0.15);\n",
              "      fill: #174EA6;\n",
              "    }\n",
              "\n",
              "    [theme=dark] .colab-df-convert {\n",
              "      background-color: #3B4455;\n",
              "      fill: #D2E3FC;\n",
              "    }\n",
              "\n",
              "    [theme=dark] .colab-df-convert:hover {\n",
              "      background-color: #434B5C;\n",
              "      box-shadow: 0px 1px 3px 1px rgba(0, 0, 0, 0.15);\n",
              "      filter: drop-shadow(0px 1px 2px rgba(0, 0, 0, 0.3));\n",
              "      fill: #FFFFFF;\n",
              "    }\n",
              "  </style>\n",
              "\n",
              "      <script>\n",
              "        const buttonEl =\n",
              "          document.querySelector('#df-717de7d9-100d-40f9-8785-52b21e5df51d button.colab-df-convert');\n",
              "        buttonEl.style.display =\n",
              "          google.colab.kernel.accessAllowed ? 'block' : 'none';\n",
              "\n",
              "        async function convertToInteractive(key) {\n",
              "          const element = document.querySelector('#df-717de7d9-100d-40f9-8785-52b21e5df51d');\n",
              "          const dataTable =\n",
              "            await google.colab.kernel.invokeFunction('convertToInteractive',\n",
              "                                                     [key], {});\n",
              "          if (!dataTable) return;\n",
              "\n",
              "          const docLinkHtml = 'Like what you see? Visit the ' +\n",
              "            '<a target=\"_blank\" href=https://colab.research.google.com/notebooks/data_table.ipynb>data table notebook</a>'\n",
              "            + ' to learn more about interactive tables.';\n",
              "          element.innerHTML = '';\n",
              "          dataTable['output_type'] = 'display_data';\n",
              "          await google.colab.output.renderOutput(dataTable, element);\n",
              "          const docLink = document.createElement('div');\n",
              "          docLink.innerHTML = docLinkHtml;\n",
              "          element.appendChild(docLink);\n",
              "        }\n",
              "      </script>\n",
              "    </div>\n",
              "  </div>\n",
              "  "
            ]
          },
          "metadata": {},
          "execution_count": 79
        }
      ],
      "source": [
        "# в столбце с участниками есть одно пропущенное значе6ние\n",
        "df[df['Key Participants'].isna()==True]"
      ]
    },
    {
      "cell_type": "code",
      "execution_count": 80,
      "metadata": {
        "id": "DZVIlvMTPNpJ"
      },
      "outputs": [],
      "source": [
        "# Заменим на 'General public.'. Помимо того, что это мода атрибута, описание протеста подразумевает массовый общественный характер\n",
        "df['Key Participants'] = df['Key Participants'].fillna('General public.')"
      ]
    },
    {
      "cell_type": "code",
      "execution_count": 81,
      "metadata": {
        "id": "-U9jWQM5ons9",
        "colab": {
          "base_uri": "https://localhost:8080/"
        },
        "outputId": "248af024-1b44-4e35-f0e2-4753579985a1"
      },
      "outputs": [
        {
          "output_type": "stream",
          "name": "stdout",
          "text": [
            "Всего уникальных значений:  174\n",
            "\n"
          ]
        },
        {
          "output_type": "execute_result",
          "data": {
            "text/plain": [
              "General public.                                                                  127\n",
              "General public, especially youth.                                                  5\n",
              "General public, especially women.                                                  5\n",
              "Women.                                                                             4\n",
              "Students.                                                                          4\n",
              "                                                                                ... \n",
              "Secondary school students.                                                         1\n",
              "Opposition party members, especially members of the United National Movement.      1\n",
              "General public, especially opposition politicians.                                 1\n",
              "Right- and left-wing extremists, conspiracy theorists, antivaccine groups.         1\n",
              "Retired soldiers and public workers.                                               1\n",
              "Name: Key Participants, Length: 174, dtype: int64"
            ]
          },
          "metadata": {},
          "execution_count": 81
        }
      ],
      "source": [
        "# посмотрим на ключевых участников \n",
        "print('Всего уникальных значений: ', df['Key Participants'].nunique())\n",
        "print('')\n",
        "df['Key Participants'].value_counts()"
      ]
    },
    {
      "cell_type": "code",
      "execution_count": 82,
      "metadata": {
        "id": "G30Q_E9Cr0EQ",
        "colab": {
          "base_uri": "https://localhost:8080/",
          "height": 363
        },
        "outputId": "cf17900b-dcdf-4e8e-905c-2e83a48acbd7"
      },
      "outputs": [
        {
          "output_type": "execute_result",
          "data": {
            "text/plain": [
              "                                    Key Participants  Type_of_partitipants\n",
              "0                                           Farmers.                     3\n",
              "1  Coalition of seventeen opposition parties and ...                     3\n",
              "2                                 Indigenous groups.                     3\n",
              "3                          General public; truckers.                     2\n",
              "4  Public sector employees, including nurses and ...                     3\n",
              "5  Young people (especially young men), universit...                     3\n",
              "6                                      Palestinians.                     3\n",
              "7                                    General public.                     1\n",
              "8                                    General public.                     1\n",
              "9                                    General public.                     1"
            ],
            "text/html": [
              "\n",
              "  <div id=\"df-0e0aac99-26d0-4cef-90fc-b52a1215613c\">\n",
              "    <div class=\"colab-df-container\">\n",
              "      <div>\n",
              "<style scoped>\n",
              "    .dataframe tbody tr th:only-of-type {\n",
              "        vertical-align: middle;\n",
              "    }\n",
              "\n",
              "    .dataframe tbody tr th {\n",
              "        vertical-align: top;\n",
              "    }\n",
              "\n",
              "    .dataframe thead th {\n",
              "        text-align: right;\n",
              "    }\n",
              "</style>\n",
              "<table border=\"1\" class=\"dataframe\">\n",
              "  <thead>\n",
              "    <tr style=\"text-align: right;\">\n",
              "      <th></th>\n",
              "      <th>Key Participants</th>\n",
              "      <th>Type_of_partitipants</th>\n",
              "    </tr>\n",
              "  </thead>\n",
              "  <tbody>\n",
              "    <tr>\n",
              "      <th>0</th>\n",
              "      <td>Farmers.</td>\n",
              "      <td>3</td>\n",
              "    </tr>\n",
              "    <tr>\n",
              "      <th>1</th>\n",
              "      <td>Coalition of seventeen opposition parties and ...</td>\n",
              "      <td>3</td>\n",
              "    </tr>\n",
              "    <tr>\n",
              "      <th>2</th>\n",
              "      <td>Indigenous groups.</td>\n",
              "      <td>3</td>\n",
              "    </tr>\n",
              "    <tr>\n",
              "      <th>3</th>\n",
              "      <td>General public; truckers.</td>\n",
              "      <td>2</td>\n",
              "    </tr>\n",
              "    <tr>\n",
              "      <th>4</th>\n",
              "      <td>Public sector employees, including nurses and ...</td>\n",
              "      <td>3</td>\n",
              "    </tr>\n",
              "    <tr>\n",
              "      <th>5</th>\n",
              "      <td>Young people (especially young men), universit...</td>\n",
              "      <td>3</td>\n",
              "    </tr>\n",
              "    <tr>\n",
              "      <th>6</th>\n",
              "      <td>Palestinians.</td>\n",
              "      <td>3</td>\n",
              "    </tr>\n",
              "    <tr>\n",
              "      <th>7</th>\n",
              "      <td>General public.</td>\n",
              "      <td>1</td>\n",
              "    </tr>\n",
              "    <tr>\n",
              "      <th>8</th>\n",
              "      <td>General public.</td>\n",
              "      <td>1</td>\n",
              "    </tr>\n",
              "    <tr>\n",
              "      <th>9</th>\n",
              "      <td>General public.</td>\n",
              "      <td>1</td>\n",
              "    </tr>\n",
              "  </tbody>\n",
              "</table>\n",
              "</div>\n",
              "      <button class=\"colab-df-convert\" onclick=\"convertToInteractive('df-0e0aac99-26d0-4cef-90fc-b52a1215613c')\"\n",
              "              title=\"Convert this dataframe to an interactive table.\"\n",
              "              style=\"display:none;\">\n",
              "        \n",
              "  <svg xmlns=\"http://www.w3.org/2000/svg\" height=\"24px\"viewBox=\"0 0 24 24\"\n",
              "       width=\"24px\">\n",
              "    <path d=\"M0 0h24v24H0V0z\" fill=\"none\"/>\n",
              "    <path d=\"M18.56 5.44l.94 2.06.94-2.06 2.06-.94-2.06-.94-.94-2.06-.94 2.06-2.06.94zm-11 1L8.5 8.5l.94-2.06 2.06-.94-2.06-.94L8.5 2.5l-.94 2.06-2.06.94zm10 10l.94 2.06.94-2.06 2.06-.94-2.06-.94-.94-2.06-.94 2.06-2.06.94z\"/><path d=\"M17.41 7.96l-1.37-1.37c-.4-.4-.92-.59-1.43-.59-.52 0-1.04.2-1.43.59L10.3 9.45l-7.72 7.72c-.78.78-.78 2.05 0 2.83L4 21.41c.39.39.9.59 1.41.59.51 0 1.02-.2 1.41-.59l7.78-7.78 2.81-2.81c.8-.78.8-2.07 0-2.86zM5.41 20L4 18.59l7.72-7.72 1.47 1.35L5.41 20z\"/>\n",
              "  </svg>\n",
              "      </button>\n",
              "      \n",
              "  <style>\n",
              "    .colab-df-container {\n",
              "      display:flex;\n",
              "      flex-wrap:wrap;\n",
              "      gap: 12px;\n",
              "    }\n",
              "\n",
              "    .colab-df-convert {\n",
              "      background-color: #E8F0FE;\n",
              "      border: none;\n",
              "      border-radius: 50%;\n",
              "      cursor: pointer;\n",
              "      display: none;\n",
              "      fill: #1967D2;\n",
              "      height: 32px;\n",
              "      padding: 0 0 0 0;\n",
              "      width: 32px;\n",
              "    }\n",
              "\n",
              "    .colab-df-convert:hover {\n",
              "      background-color: #E2EBFA;\n",
              "      box-shadow: 0px 1px 2px rgba(60, 64, 67, 0.3), 0px 1px 3px 1px rgba(60, 64, 67, 0.15);\n",
              "      fill: #174EA6;\n",
              "    }\n",
              "\n",
              "    [theme=dark] .colab-df-convert {\n",
              "      background-color: #3B4455;\n",
              "      fill: #D2E3FC;\n",
              "    }\n",
              "\n",
              "    [theme=dark] .colab-df-convert:hover {\n",
              "      background-color: #434B5C;\n",
              "      box-shadow: 0px 1px 3px 1px rgba(0, 0, 0, 0.15);\n",
              "      filter: drop-shadow(0px 1px 2px rgba(0, 0, 0, 0.3));\n",
              "      fill: #FFFFFF;\n",
              "    }\n",
              "  </style>\n",
              "\n",
              "      <script>\n",
              "        const buttonEl =\n",
              "          document.querySelector('#df-0e0aac99-26d0-4cef-90fc-b52a1215613c button.colab-df-convert');\n",
              "        buttonEl.style.display =\n",
              "          google.colab.kernel.accessAllowed ? 'block' : 'none';\n",
              "\n",
              "        async function convertToInteractive(key) {\n",
              "          const element = document.querySelector('#df-0e0aac99-26d0-4cef-90fc-b52a1215613c');\n",
              "          const dataTable =\n",
              "            await google.colab.kernel.invokeFunction('convertToInteractive',\n",
              "                                                     [key], {});\n",
              "          if (!dataTable) return;\n",
              "\n",
              "          const docLinkHtml = 'Like what you see? Visit the ' +\n",
              "            '<a target=\"_blank\" href=https://colab.research.google.com/notebooks/data_table.ipynb>data table notebook</a>'\n",
              "            + ' to learn more about interactive tables.';\n",
              "          element.innerHTML = '';\n",
              "          dataTable['output_type'] = 'display_data';\n",
              "          await google.colab.output.renderOutput(dataTable, element);\n",
              "          const docLink = document.createElement('div');\n",
              "          docLink.innerHTML = docLinkHtml;\n",
              "          element.appendChild(docLink);\n",
              "        }\n",
              "      </script>\n",
              "    </div>\n",
              "  </div>\n",
              "  "
            ]
          },
          "metadata": {},
          "execution_count": 82
        }
      ],
      "source": [
        "# теперь распределим всех протестующих на три группы и создадим новый атрибут\n",
        "\n",
        "def div_participants(row):\n",
        "    \"\"\"\n",
        "    функция определяет, в какую группу протест по типу протестующих\n",
        "    \"\"\"\n",
        "    if row =='General public.' or row =='General public':\n",
        "        return 1\n",
        "    elif 'General public' in row:\n",
        "        return 2\n",
        "    else:\n",
        "       return 3\n",
        "    \n",
        "df['Type_of_partitipants'] = df['Key Participants'].apply(div_participants)\n",
        "df[['Key Participants','Type_of_partitipants']].head(10)"
      ]
    },
    {
      "cell_type": "code",
      "execution_count": 83,
      "metadata": {
        "id": "lwtdCusTRWEu",
        "colab": {
          "base_uri": "https://localhost:8080/"
        },
        "outputId": "524bef0f-483c-46f9-e329-1394efe26cf6"
      },
      "outputs": [
        {
          "output_type": "execute_result",
          "data": {
            "text/plain": [
              "Partly free     117\n",
              "Free            109\n",
              "Not free        102\n",
              "Partly freee      1\n",
              "Name: Freedom Rating (Status), dtype: int64"
            ]
          },
          "metadata": {},
          "execution_count": 83
        }
      ],
      "source": [
        "# степень свободы общества\n",
        "df['Freedom Rating (Status)'].value_counts()"
      ]
    },
    {
      "cell_type": "code",
      "execution_count": 84,
      "metadata": {
        "id": "-8OvYXyMRnXc"
      },
      "outputs": [],
      "source": [
        "def freedom_grader(row):\n",
        "    \"\"\"\n",
        "    переводит степень свободы общества в числолвую шкалу\n",
        "    \"\"\"\n",
        "    if row == 'Not free':\n",
        "        return 1\n",
        "    if row == 'Partly free' or row == 'Partly freee':\n",
        "        return 2\n",
        "    if row == 'Free':\n",
        "        return 3\n",
        "\n",
        "df['Degree_of_freedom'] = df['Freedom Rating (Status)'].apply(freedom_grader)"
      ]
    },
    {
      "cell_type": "code",
      "execution_count": 85,
      "metadata": {
        "id": "Trc0ui42zCU6",
        "colab": {
          "base_uri": "https://localhost:8080/"
        },
        "outputId": "bfb8ae6f-43b5-421d-d04e-f957be7ca5fa"
      },
      "outputs": [
        {
          "output_type": "execute_result",
          "data": {
            "text/plain": [
              "Country\n",
              "Afghanistan        1\n",
              "Paraguay           1\n",
              "Pakistan           1\n",
              "Oman               1\n",
              "North Macedonia    1\n",
              "                  ..\n",
              "Gambia             1\n",
              "Hungary            2\n",
              "Serbia             2\n",
              "Benin              2\n",
              "Peru               2\n",
              "Name: Degree_of_freedom, Length: 126, dtype: int64"
            ]
          },
          "metadata": {},
          "execution_count": 85
        }
      ],
      "source": [
        "# это ещё не всё. Несколько стран не определилсиь со своей свободностью.\n",
        "df.groupby('Country')['Degree_of_freedom'].nunique().sort_values()"
      ]
    },
    {
      "cell_type": "code",
      "execution_count": 86,
      "metadata": {
        "id": "Y1agBp2yza6c",
        "colab": {
          "base_uri": "https://localhost:8080/"
        },
        "outputId": "e81a3f53-3db9-454b-c234-f5d3bac62d7f"
      },
      "outputs": [
        {
          "output_type": "execute_result",
          "data": {
            "text/plain": [
              "Country\n",
              "Afghanistan    1\n",
              "Peru           1\n",
              "Paraguay       1\n",
              "Pakistan       1\n",
              "Oman           1\n",
              "              ..\n",
              "Ethiopia       1\n",
              "Eswatini       1\n",
              "El Salvador    1\n",
              "Haiti          1\n",
              "eSwatini       1\n",
              "Name: Degree_of_freedom, Length: 126, dtype: int64"
            ]
          },
          "metadata": {},
          "execution_count": 86
        }
      ],
      "source": [
        "# Легче всего проверить их вручную и убедиться, что мода в каждом случае - 2('Partly free'). Заменим.\n",
        "\n",
        "#df[df['Country'] == 'Serbia']['Degree_of_freedom']\n",
        "#df[df['Country'] == 'Hungary']['Degree_of_freedom']\n",
        "#df[df['Country'] == 'Benin']['Degree_of_freedom']\n",
        "#df[df['Country'] == 'Peru']['Degree_of_freedom']\n",
        "\n",
        "df.loc[df['Country'] == 'Serbia','Degree_of_freedom'] = 2\n",
        "df.loc[df['Country'] == 'Peru','Degree_of_freedom'] = 2\n",
        "df.loc[df['Country'] == 'Benin','Degree_of_freedom'] = 2\n",
        "df.loc[df['Country'] == 'Hungary','Degree_of_freedom'] = 2\n",
        "df.groupby('Country')['Degree_of_freedom'].nunique().sort_values()"
      ]
    },
    {
      "cell_type": "code",
      "execution_count": 87,
      "metadata": {
        "id": "FMkCWccIPNWs",
        "colab": {
          "base_uri": "https://localhost:8080/"
        },
        "outputId": "591588ee-fa86-43c8-da1b-372f75c8a45e"
      },
      "outputs": [
        {
          "output_type": "execute_result",
          "data": {
            "text/plain": [
              "Thousands                   152\n",
              "Tens of thousands            98\n",
              "Hundreds of thousands        31\n",
              "Hundreds                     26\n",
              "Over 1 million                7\n",
              "Hundreds of of thousands      6\n",
              "Unknown                       3\n",
              "Millions                      2\n",
              "Thosuands                     2\n",
              "Huundreds of thousands        1\n",
              "Tens of millions              1\n",
              "Name: Size category, dtype: int64"
            ]
          },
          "metadata": {},
          "execution_count": 87
        }
      ],
      "source": [
        "# Размеры протеста\n",
        "df['Size category'].value_counts()"
      ]
    },
    {
      "cell_type": "code",
      "execution_count": 88,
      "metadata": {
        "id": "0kZxbsK9RvrZ",
        "colab": {
          "base_uri": "https://localhost:8080/",
          "height": 532
        },
        "outputId": "35cfa509-5056-4ce6-e004-d9514a813acc"
      },
      "outputs": [
        {
          "output_type": "execute_result",
          "data": {
            "text/plain": [
              "     Country                  Protest Name Start Date Freedom Rating (Status)  \\\n",
              "46   Belarus  Russian integration protests 2019-07-01                Not free   \n",
              "125  Germany     Police brutality protests 2020-06-01                    Free   \n",
              "137    Haiti                  Tax protests 2017-09-01             Partly free   \n",
              "\n",
              "                                              Triggers  \\\n",
              "46   A series of meetings between Belarusian Presid...   \n",
              "125  Death of George Floyd in the United States, sp...   \n",
              "137  Introduction of new taxes on cigarettes, passp...   \n",
              "\n",
              "                                           Motivations Peak Size  \\\n",
              "46   Opposition to deepening ties between Russia an...    >1,000   \n",
              "125  Police brutality, systemic racism, and lack of...  >100,000   \n",
              "137  Anger over the increasing cost of living, lack...    >1,000   \n",
              "\n",
              "    Key Participants  Duration  \\\n",
              "46   General public.  5 months   \n",
              "125  General public.   1 month   \n",
              "137  General public.  2 months   \n",
              "\n",
              "                                              Outcomes  ...  Size category  \\\n",
              "46   No policy/leadership change in response to pro...  ...        Unknown   \n",
              "125  No policy/leadership change in response to the...  ...        Unknown   \n",
              "137  No policy/leadership change in response to pro...  ...        Unknown   \n",
              "\n",
              "     Protests with a significant outcome  \\\n",
              "46                                     1   \n",
              "125                                    0   \n",
              "137                                    0   \n",
              "\n",
              "     Large protests (Over 100,000 protesting)  Violent government response  \\\n",
              "46                                          0                            1   \n",
              "125                                         0                            1   \n",
              "137                                         0                            0   \n",
              "\n",
              "    Long protests (more than 3 months)  Coronavirus-related protests  \\\n",
              "46                                   0                             1   \n",
              "125                                  0                             1   \n",
              "137                                  0                             1   \n",
              "\n",
              "       Capital city  Days_of_duration  Type_of_partitipants  Degree_of_freedom  \n",
              "46            Minsk               152                     1                  1  \n",
              "125          Berlin                30                     1                  3  \n",
              "137  Port-au-Prince                61                     1                  2  \n",
              "\n",
              "[3 rows x 24 columns]"
            ],
            "text/html": [
              "\n",
              "  <div id=\"df-8ba83174-6e3f-4536-9f1d-a2477d6580cc\">\n",
              "    <div class=\"colab-df-container\">\n",
              "      <div>\n",
              "<style scoped>\n",
              "    .dataframe tbody tr th:only-of-type {\n",
              "        vertical-align: middle;\n",
              "    }\n",
              "\n",
              "    .dataframe tbody tr th {\n",
              "        vertical-align: top;\n",
              "    }\n",
              "\n",
              "    .dataframe thead th {\n",
              "        text-align: right;\n",
              "    }\n",
              "</style>\n",
              "<table border=\"1\" class=\"dataframe\">\n",
              "  <thead>\n",
              "    <tr style=\"text-align: right;\">\n",
              "      <th></th>\n",
              "      <th>Country</th>\n",
              "      <th>Protest Name</th>\n",
              "      <th>Start Date</th>\n",
              "      <th>Freedom Rating (Status)</th>\n",
              "      <th>Triggers</th>\n",
              "      <th>Motivations</th>\n",
              "      <th>Peak Size</th>\n",
              "      <th>Key Participants</th>\n",
              "      <th>Duration</th>\n",
              "      <th>Outcomes</th>\n",
              "      <th>...</th>\n",
              "      <th>Size category</th>\n",
              "      <th>Protests with a significant outcome</th>\n",
              "      <th>Large protests (Over 100,000 protesting)</th>\n",
              "      <th>Violent government response</th>\n",
              "      <th>Long protests (more than 3 months)</th>\n",
              "      <th>Coronavirus-related protests</th>\n",
              "      <th>Capital city</th>\n",
              "      <th>Days_of_duration</th>\n",
              "      <th>Type_of_partitipants</th>\n",
              "      <th>Degree_of_freedom</th>\n",
              "    </tr>\n",
              "  </thead>\n",
              "  <tbody>\n",
              "    <tr>\n",
              "      <th>46</th>\n",
              "      <td>Belarus</td>\n",
              "      <td>Russian integration protests</td>\n",
              "      <td>2019-07-01</td>\n",
              "      <td>Not free</td>\n",
              "      <td>A series of meetings between Belarusian Presid...</td>\n",
              "      <td>Opposition to deepening ties between Russia an...</td>\n",
              "      <td>&gt;1,000</td>\n",
              "      <td>General public.</td>\n",
              "      <td>5 months</td>\n",
              "      <td>No policy/leadership change in response to pro...</td>\n",
              "      <td>...</td>\n",
              "      <td>Unknown</td>\n",
              "      <td>1</td>\n",
              "      <td>0</td>\n",
              "      <td>1</td>\n",
              "      <td>0</td>\n",
              "      <td>1</td>\n",
              "      <td>Minsk</td>\n",
              "      <td>152</td>\n",
              "      <td>1</td>\n",
              "      <td>1</td>\n",
              "    </tr>\n",
              "    <tr>\n",
              "      <th>125</th>\n",
              "      <td>Germany</td>\n",
              "      <td>Police brutality protests</td>\n",
              "      <td>2020-06-01</td>\n",
              "      <td>Free</td>\n",
              "      <td>Death of George Floyd in the United States, sp...</td>\n",
              "      <td>Police brutality, systemic racism, and lack of...</td>\n",
              "      <td>&gt;100,000</td>\n",
              "      <td>General public.</td>\n",
              "      <td>1 month</td>\n",
              "      <td>No policy/leadership change in response to the...</td>\n",
              "      <td>...</td>\n",
              "      <td>Unknown</td>\n",
              "      <td>0</td>\n",
              "      <td>0</td>\n",
              "      <td>1</td>\n",
              "      <td>0</td>\n",
              "      <td>1</td>\n",
              "      <td>Berlin</td>\n",
              "      <td>30</td>\n",
              "      <td>1</td>\n",
              "      <td>3</td>\n",
              "    </tr>\n",
              "    <tr>\n",
              "      <th>137</th>\n",
              "      <td>Haiti</td>\n",
              "      <td>Tax protests</td>\n",
              "      <td>2017-09-01</td>\n",
              "      <td>Partly free</td>\n",
              "      <td>Introduction of new taxes on cigarettes, passp...</td>\n",
              "      <td>Anger over the increasing cost of living, lack...</td>\n",
              "      <td>&gt;1,000</td>\n",
              "      <td>General public.</td>\n",
              "      <td>2 months</td>\n",
              "      <td>No policy/leadership change in response to pro...</td>\n",
              "      <td>...</td>\n",
              "      <td>Unknown</td>\n",
              "      <td>0</td>\n",
              "      <td>0</td>\n",
              "      <td>0</td>\n",
              "      <td>0</td>\n",
              "      <td>1</td>\n",
              "      <td>Port-au-Prince</td>\n",
              "      <td>61</td>\n",
              "      <td>1</td>\n",
              "      <td>2</td>\n",
              "    </tr>\n",
              "  </tbody>\n",
              "</table>\n",
              "<p>3 rows × 24 columns</p>\n",
              "</div>\n",
              "      <button class=\"colab-df-convert\" onclick=\"convertToInteractive('df-8ba83174-6e3f-4536-9f1d-a2477d6580cc')\"\n",
              "              title=\"Convert this dataframe to an interactive table.\"\n",
              "              style=\"display:none;\">\n",
              "        \n",
              "  <svg xmlns=\"http://www.w3.org/2000/svg\" height=\"24px\"viewBox=\"0 0 24 24\"\n",
              "       width=\"24px\">\n",
              "    <path d=\"M0 0h24v24H0V0z\" fill=\"none\"/>\n",
              "    <path d=\"M18.56 5.44l.94 2.06.94-2.06 2.06-.94-2.06-.94-.94-2.06-.94 2.06-2.06.94zm-11 1L8.5 8.5l.94-2.06 2.06-.94-2.06-.94L8.5 2.5l-.94 2.06-2.06.94zm10 10l.94 2.06.94-2.06 2.06-.94-2.06-.94-.94-2.06-.94 2.06-2.06.94z\"/><path d=\"M17.41 7.96l-1.37-1.37c-.4-.4-.92-.59-1.43-.59-.52 0-1.04.2-1.43.59L10.3 9.45l-7.72 7.72c-.78.78-.78 2.05 0 2.83L4 21.41c.39.39.9.59 1.41.59.51 0 1.02-.2 1.41-.59l7.78-7.78 2.81-2.81c.8-.78.8-2.07 0-2.86zM5.41 20L4 18.59l7.72-7.72 1.47 1.35L5.41 20z\"/>\n",
              "  </svg>\n",
              "      </button>\n",
              "      \n",
              "  <style>\n",
              "    .colab-df-container {\n",
              "      display:flex;\n",
              "      flex-wrap:wrap;\n",
              "      gap: 12px;\n",
              "    }\n",
              "\n",
              "    .colab-df-convert {\n",
              "      background-color: #E8F0FE;\n",
              "      border: none;\n",
              "      border-radius: 50%;\n",
              "      cursor: pointer;\n",
              "      display: none;\n",
              "      fill: #1967D2;\n",
              "      height: 32px;\n",
              "      padding: 0 0 0 0;\n",
              "      width: 32px;\n",
              "    }\n",
              "\n",
              "    .colab-df-convert:hover {\n",
              "      background-color: #E2EBFA;\n",
              "      box-shadow: 0px 1px 2px rgba(60, 64, 67, 0.3), 0px 1px 3px 1px rgba(60, 64, 67, 0.15);\n",
              "      fill: #174EA6;\n",
              "    }\n",
              "\n",
              "    [theme=dark] .colab-df-convert {\n",
              "      background-color: #3B4455;\n",
              "      fill: #D2E3FC;\n",
              "    }\n",
              "\n",
              "    [theme=dark] .colab-df-convert:hover {\n",
              "      background-color: #434B5C;\n",
              "      box-shadow: 0px 1px 3px 1px rgba(0, 0, 0, 0.15);\n",
              "      filter: drop-shadow(0px 1px 2px rgba(0, 0, 0, 0.3));\n",
              "      fill: #FFFFFF;\n",
              "    }\n",
              "  </style>\n",
              "\n",
              "      <script>\n",
              "        const buttonEl =\n",
              "          document.querySelector('#df-8ba83174-6e3f-4536-9f1d-a2477d6580cc button.colab-df-convert');\n",
              "        buttonEl.style.display =\n",
              "          google.colab.kernel.accessAllowed ? 'block' : 'none';\n",
              "\n",
              "        async function convertToInteractive(key) {\n",
              "          const element = document.querySelector('#df-8ba83174-6e3f-4536-9f1d-a2477d6580cc');\n",
              "          const dataTable =\n",
              "            await google.colab.kernel.invokeFunction('convertToInteractive',\n",
              "                                                     [key], {});\n",
              "          if (!dataTable) return;\n",
              "\n",
              "          const docLinkHtml = 'Like what you see? Visit the ' +\n",
              "            '<a target=\"_blank\" href=https://colab.research.google.com/notebooks/data_table.ipynb>data table notebook</a>'\n",
              "            + ' to learn more about interactive tables.';\n",
              "          element.innerHTML = '';\n",
              "          dataTable['output_type'] = 'display_data';\n",
              "          await google.colab.output.renderOutput(dataTable, element);\n",
              "          const docLink = document.createElement('div');\n",
              "          docLink.innerHTML = docLinkHtml;\n",
              "          element.appendChild(docLink);\n",
              "        }\n",
              "      </script>\n",
              "    </div>\n",
              "  </div>\n",
              "  "
            ]
          },
          "metadata": {},
          "execution_count": 88
        }
      ],
      "source": [
        "df[df['Size category'] == 'Unknown']"
      ]
    },
    {
      "cell_type": "code",
      "execution_count": 89,
      "metadata": {
        "id": "t88zZZxugeTF"
      },
      "outputs": [],
      "source": [
        "def size_grader(row):\n",
        "   \n",
        "    if row == 'Hundreds' or row == 'Thosuands' or row == 'Thousands':\n",
        "        return 1\n",
        "    elif row == 'Tens of thousands':\n",
        "        return 2\n",
        "    elif row == 'Huundreds of thousands' or row == 'Hundreds of thousands' or row == 'Hundreds of of thousands':\n",
        "        return 3\n",
        "    elif row == 'Millions' or row == 'Over 1 million' or row == 'Tens of millions':\n",
        "        return 4\n",
        "\n",
        "\n",
        "df['Size_in_1000'] = df['Size category'].apply(size_grader)\n",
        "\n",
        "# Для unknown значения придётся подставить вручную, основываясь, за неимением лучшего показателя, на Peak size\n",
        "df.loc[df.index == 46,'Size_in_1000'] = 1\n",
        "df.loc[df.index == 125, 'Size_in_1000'] = 3\n",
        "df.loc[df.index == 137,'Size_in_1000'] = 1"
      ]
    },
    {
      "cell_type": "code",
      "execution_count": 90,
      "metadata": {
        "id": "Mxa8-FkUkWXU",
        "colab": {
          "base_uri": "https://localhost:8080/",
          "height": 269
        },
        "outputId": "1c9a2a22-28a5-4889-a9f1-3a65fc9de846"
      },
      "outputs": [
        {
          "output_type": "execute_result",
          "data": {
            "text/plain": [
              "                         Protest Name Start Date Peak Size  Size_in_1000  \\\n",
              "11          Ukraine invasion protests 2022-02-01   >10,000           2.0   \n",
              "249   Aleksei Navalny arrest protests 2021-01-01  >100,000           3.0   \n",
              "250               Khabarovsk protests 2020-07-01    50,000           2.0   \n",
              "251  Coronavirus restrictions protest 2020-04-01     2,000           1.0   \n",
              "252   Constitutional changes protests 2020-02-01    22,000           1.0   \n",
              "253          Moscow election protests 2019-07-01    50,000           1.0   \n",
              "254                Corruption protest 2017-03-01    60,000           1.0   \n",
              "\n",
              "                Size category  \n",
              "11          Tens of thousands  \n",
              "249  Hundreds of of thousands  \n",
              "250         Tens of thousands  \n",
              "251                 Thousands  \n",
              "252                 Thousands  \n",
              "253                 Thousands  \n",
              "254                 Thousands  "
            ],
            "text/html": [
              "\n",
              "  <div id=\"df-26783f7c-cf2e-49a2-9dee-c723cf712e14\">\n",
              "    <div class=\"colab-df-container\">\n",
              "      <div>\n",
              "<style scoped>\n",
              "    .dataframe tbody tr th:only-of-type {\n",
              "        vertical-align: middle;\n",
              "    }\n",
              "\n",
              "    .dataframe tbody tr th {\n",
              "        vertical-align: top;\n",
              "    }\n",
              "\n",
              "    .dataframe thead th {\n",
              "        text-align: right;\n",
              "    }\n",
              "</style>\n",
              "<table border=\"1\" class=\"dataframe\">\n",
              "  <thead>\n",
              "    <tr style=\"text-align: right;\">\n",
              "      <th></th>\n",
              "      <th>Protest Name</th>\n",
              "      <th>Start Date</th>\n",
              "      <th>Peak Size</th>\n",
              "      <th>Size_in_1000</th>\n",
              "      <th>Size category</th>\n",
              "    </tr>\n",
              "  </thead>\n",
              "  <tbody>\n",
              "    <tr>\n",
              "      <th>11</th>\n",
              "      <td>Ukraine invasion protests</td>\n",
              "      <td>2022-02-01</td>\n",
              "      <td>&gt;10,000</td>\n",
              "      <td>2.0</td>\n",
              "      <td>Tens of thousands</td>\n",
              "    </tr>\n",
              "    <tr>\n",
              "      <th>249</th>\n",
              "      <td>Aleksei Navalny arrest protests</td>\n",
              "      <td>2021-01-01</td>\n",
              "      <td>&gt;100,000</td>\n",
              "      <td>3.0</td>\n",
              "      <td>Hundreds of of thousands</td>\n",
              "    </tr>\n",
              "    <tr>\n",
              "      <th>250</th>\n",
              "      <td>Khabarovsk protests</td>\n",
              "      <td>2020-07-01</td>\n",
              "      <td>50,000</td>\n",
              "      <td>2.0</td>\n",
              "      <td>Tens of thousands</td>\n",
              "    </tr>\n",
              "    <tr>\n",
              "      <th>251</th>\n",
              "      <td>Coronavirus restrictions protest</td>\n",
              "      <td>2020-04-01</td>\n",
              "      <td>2,000</td>\n",
              "      <td>1.0</td>\n",
              "      <td>Thousands</td>\n",
              "    </tr>\n",
              "    <tr>\n",
              "      <th>252</th>\n",
              "      <td>Constitutional changes protests</td>\n",
              "      <td>2020-02-01</td>\n",
              "      <td>22,000</td>\n",
              "      <td>1.0</td>\n",
              "      <td>Thousands</td>\n",
              "    </tr>\n",
              "    <tr>\n",
              "      <th>253</th>\n",
              "      <td>Moscow election protests</td>\n",
              "      <td>2019-07-01</td>\n",
              "      <td>50,000</td>\n",
              "      <td>1.0</td>\n",
              "      <td>Thousands</td>\n",
              "    </tr>\n",
              "    <tr>\n",
              "      <th>254</th>\n",
              "      <td>Corruption protest</td>\n",
              "      <td>2017-03-01</td>\n",
              "      <td>60,000</td>\n",
              "      <td>1.0</td>\n",
              "      <td>Thousands</td>\n",
              "    </tr>\n",
              "  </tbody>\n",
              "</table>\n",
              "</div>\n",
              "      <button class=\"colab-df-convert\" onclick=\"convertToInteractive('df-26783f7c-cf2e-49a2-9dee-c723cf712e14')\"\n",
              "              title=\"Convert this dataframe to an interactive table.\"\n",
              "              style=\"display:none;\">\n",
              "        \n",
              "  <svg xmlns=\"http://www.w3.org/2000/svg\" height=\"24px\"viewBox=\"0 0 24 24\"\n",
              "       width=\"24px\">\n",
              "    <path d=\"M0 0h24v24H0V0z\" fill=\"none\"/>\n",
              "    <path d=\"M18.56 5.44l.94 2.06.94-2.06 2.06-.94-2.06-.94-.94-2.06-.94 2.06-2.06.94zm-11 1L8.5 8.5l.94-2.06 2.06-.94-2.06-.94L8.5 2.5l-.94 2.06-2.06.94zm10 10l.94 2.06.94-2.06 2.06-.94-2.06-.94-.94-2.06-.94 2.06-2.06.94z\"/><path d=\"M17.41 7.96l-1.37-1.37c-.4-.4-.92-.59-1.43-.59-.52 0-1.04.2-1.43.59L10.3 9.45l-7.72 7.72c-.78.78-.78 2.05 0 2.83L4 21.41c.39.39.9.59 1.41.59.51 0 1.02-.2 1.41-.59l7.78-7.78 2.81-2.81c.8-.78.8-2.07 0-2.86zM5.41 20L4 18.59l7.72-7.72 1.47 1.35L5.41 20z\"/>\n",
              "  </svg>\n",
              "      </button>\n",
              "      \n",
              "  <style>\n",
              "    .colab-df-container {\n",
              "      display:flex;\n",
              "      flex-wrap:wrap;\n",
              "      gap: 12px;\n",
              "    }\n",
              "\n",
              "    .colab-df-convert {\n",
              "      background-color: #E8F0FE;\n",
              "      border: none;\n",
              "      border-radius: 50%;\n",
              "      cursor: pointer;\n",
              "      display: none;\n",
              "      fill: #1967D2;\n",
              "      height: 32px;\n",
              "      padding: 0 0 0 0;\n",
              "      width: 32px;\n",
              "    }\n",
              "\n",
              "    .colab-df-convert:hover {\n",
              "      background-color: #E2EBFA;\n",
              "      box-shadow: 0px 1px 2px rgba(60, 64, 67, 0.3), 0px 1px 3px 1px rgba(60, 64, 67, 0.15);\n",
              "      fill: #174EA6;\n",
              "    }\n",
              "\n",
              "    [theme=dark] .colab-df-convert {\n",
              "      background-color: #3B4455;\n",
              "      fill: #D2E3FC;\n",
              "    }\n",
              "\n",
              "    [theme=dark] .colab-df-convert:hover {\n",
              "      background-color: #434B5C;\n",
              "      box-shadow: 0px 1px 3px 1px rgba(0, 0, 0, 0.15);\n",
              "      filter: drop-shadow(0px 1px 2px rgba(0, 0, 0, 0.3));\n",
              "      fill: #FFFFFF;\n",
              "    }\n",
              "  </style>\n",
              "\n",
              "      <script>\n",
              "        const buttonEl =\n",
              "          document.querySelector('#df-26783f7c-cf2e-49a2-9dee-c723cf712e14 button.colab-df-convert');\n",
              "        buttonEl.style.display =\n",
              "          google.colab.kernel.accessAllowed ? 'block' : 'none';\n",
              "\n",
              "        async function convertToInteractive(key) {\n",
              "          const element = document.querySelector('#df-26783f7c-cf2e-49a2-9dee-c723cf712e14');\n",
              "          const dataTable =\n",
              "            await google.colab.kernel.invokeFunction('convertToInteractive',\n",
              "                                                     [key], {});\n",
              "          if (!dataTable) return;\n",
              "\n",
              "          const docLinkHtml = 'Like what you see? Visit the ' +\n",
              "            '<a target=\"_blank\" href=https://colab.research.google.com/notebooks/data_table.ipynb>data table notebook</a>'\n",
              "            + ' to learn more about interactive tables.';\n",
              "          element.innerHTML = '';\n",
              "          dataTable['output_type'] = 'display_data';\n",
              "          await google.colab.output.renderOutput(dataTable, element);\n",
              "          const docLink = document.createElement('div');\n",
              "          docLink.innerHTML = docLinkHtml;\n",
              "          element.appendChild(docLink);\n",
              "        }\n",
              "      </script>\n",
              "    </div>\n",
              "  </div>\n",
              "  "
            ]
          },
          "metadata": {},
          "execution_count": 90
        }
      ],
      "source": [
        "df[df['Country'] == 'Russia'][['Protest Name','Start Date','Peak Size', 'Size_in_1000', 'Size category']]"
      ]
    },
    {
      "cell_type": "code",
      "execution_count": 91,
      "metadata": {
        "id": "L5UGPZhDQg5P",
        "colab": {
          "base_uri": "https://localhost:8080/"
        },
        "outputId": "62b67a09-4f72-486a-d6aa-3fa5c69bc445"
      },
      "outputs": [
        {
          "output_type": "execute_result",
          "data": {
            "text/plain": [
              "Peak Size   Size_in_1000\n",
              ">1,000      1.0             71\n",
              ">10,000     2.0             37\n",
              "            1.0             24\n",
              ">5,000      1.0             23\n",
              ">1,000      2.0             22\n",
              ">500        1.0             12\n",
              ">1,000      3.0             11\n",
              ">100,000    3.0             11\n",
              "            1.0              7\n",
              ">500        2.0              5\n",
              ">1,000,000  4.0              5\n",
              "20,000      2.0              4\n",
              ">10,000     3.0              4\n",
              "800,000     2.0              3\n",
              "20,000      1.0              3\n",
              ">1,000      4.0              3\n",
              ">2,000      1.0              3\n",
              "50,000      1.0              3\n",
              ">4,000      1.0              3\n",
              ">100        1.0              2\n",
              "dtype: int64"
            ]
          },
          "metadata": {},
          "execution_count": 91
        }
      ],
      "source": [
        "# легко можно увидеть, что атрибуты Peak Size и Size_in_1000 часто сильно расходятся, при этом записи в Peak Size плохо унифицированы. \n",
        "# В итоге для оценки размера оставим только размер в тысячах\n",
        "df[['Peak Size','Size_in_1000']].value_counts().head(20)"
      ]
    },
    {
      "cell_type": "code",
      "execution_count": 92,
      "metadata": {
        "id": "a1hwi756E6qH",
        "colab": {
          "base_uri": "https://localhost:8080/"
        },
        "outputId": "a3f187a2-4cc8-436a-cc84-bd97f495299d"
      },
      "outputs": [
        {
          "output_type": "stream",
          "name": "stdout",
          "text": [
            "200\n"
          ]
        }
      ],
      "source": [
        "# итак, у нас есть размер протеста в тысячах\n",
        "# Однако, кажется разумным предположить, что размер важен не только своим абсолютным значением,\n",
        "# что важным может быть и соотношение размера протеста с размером населения страны.\n",
        "# стотысячный протест в небольшом государстве при прочих равных должен иметь больший эффект,\n",
        "# чем стотысячный протест в Индии с 1.5 миллиардами населения.\n",
        "# Поэтому возьмём с Википедии данные по населению имеющихся у нас стран(годом при это пренебрежём - \n",
        "# 5 лет относительно небольшой промежуток)\n",
        "url=\"https://en.wikipedia.org/wiki/List_of_countries_and_dependencies_by_population\"\n",
        "\n",
        "response = requests.get(\n",
        "\turl=url,\n",
        ")\n",
        "print(response.status_code)"
      ]
    },
    {
      "cell_type": "code",
      "execution_count": 93,
      "metadata": {
        "id": "QwlOMSWHHWgi",
        "colab": {
          "base_uri": "https://localhost:8080/",
          "height": 206
        },
        "outputId": "4f1b7843-981e-4d93-8cc2-9b4d0a4751f1"
      },
      "outputs": [
        {
          "output_type": "execute_result",
          "data": {
            "text/plain": [
              "  Country / Dependency  Population\n",
              "0                World  7976074000\n",
              "1                China  1412600000\n",
              "2                India  1375586000\n",
              "3        United States   333066256\n",
              "4            Indonesia   275773800"
            ],
            "text/html": [
              "\n",
              "  <div id=\"df-38d56d23-9428-43b2-8366-c414d37d3778\">\n",
              "    <div class=\"colab-df-container\">\n",
              "      <div>\n",
              "<style scoped>\n",
              "    .dataframe tbody tr th:only-of-type {\n",
              "        vertical-align: middle;\n",
              "    }\n",
              "\n",
              "    .dataframe tbody tr th {\n",
              "        vertical-align: top;\n",
              "    }\n",
              "\n",
              "    .dataframe thead th {\n",
              "        text-align: right;\n",
              "    }\n",
              "</style>\n",
              "<table border=\"1\" class=\"dataframe\">\n",
              "  <thead>\n",
              "    <tr style=\"text-align: right;\">\n",
              "      <th></th>\n",
              "      <th>Country / Dependency</th>\n",
              "      <th>Population</th>\n",
              "    </tr>\n",
              "  </thead>\n",
              "  <tbody>\n",
              "    <tr>\n",
              "      <th>0</th>\n",
              "      <td>World</td>\n",
              "      <td>7976074000</td>\n",
              "    </tr>\n",
              "    <tr>\n",
              "      <th>1</th>\n",
              "      <td>China</td>\n",
              "      <td>1412600000</td>\n",
              "    </tr>\n",
              "    <tr>\n",
              "      <th>2</th>\n",
              "      <td>India</td>\n",
              "      <td>1375586000</td>\n",
              "    </tr>\n",
              "    <tr>\n",
              "      <th>3</th>\n",
              "      <td>United States</td>\n",
              "      <td>333066256</td>\n",
              "    </tr>\n",
              "    <tr>\n",
              "      <th>4</th>\n",
              "      <td>Indonesia</td>\n",
              "      <td>275773800</td>\n",
              "    </tr>\n",
              "  </tbody>\n",
              "</table>\n",
              "</div>\n",
              "      <button class=\"colab-df-convert\" onclick=\"convertToInteractive('df-38d56d23-9428-43b2-8366-c414d37d3778')\"\n",
              "              title=\"Convert this dataframe to an interactive table.\"\n",
              "              style=\"display:none;\">\n",
              "        \n",
              "  <svg xmlns=\"http://www.w3.org/2000/svg\" height=\"24px\"viewBox=\"0 0 24 24\"\n",
              "       width=\"24px\">\n",
              "    <path d=\"M0 0h24v24H0V0z\" fill=\"none\"/>\n",
              "    <path d=\"M18.56 5.44l.94 2.06.94-2.06 2.06-.94-2.06-.94-.94-2.06-.94 2.06-2.06.94zm-11 1L8.5 8.5l.94-2.06 2.06-.94-2.06-.94L8.5 2.5l-.94 2.06-2.06.94zm10 10l.94 2.06.94-2.06 2.06-.94-2.06-.94-.94-2.06-.94 2.06-2.06.94z\"/><path d=\"M17.41 7.96l-1.37-1.37c-.4-.4-.92-.59-1.43-.59-.52 0-1.04.2-1.43.59L10.3 9.45l-7.72 7.72c-.78.78-.78 2.05 0 2.83L4 21.41c.39.39.9.59 1.41.59.51 0 1.02-.2 1.41-.59l7.78-7.78 2.81-2.81c.8-.78.8-2.07 0-2.86zM5.41 20L4 18.59l7.72-7.72 1.47 1.35L5.41 20z\"/>\n",
              "  </svg>\n",
              "      </button>\n",
              "      \n",
              "  <style>\n",
              "    .colab-df-container {\n",
              "      display:flex;\n",
              "      flex-wrap:wrap;\n",
              "      gap: 12px;\n",
              "    }\n",
              "\n",
              "    .colab-df-convert {\n",
              "      background-color: #E8F0FE;\n",
              "      border: none;\n",
              "      border-radius: 50%;\n",
              "      cursor: pointer;\n",
              "      display: none;\n",
              "      fill: #1967D2;\n",
              "      height: 32px;\n",
              "      padding: 0 0 0 0;\n",
              "      width: 32px;\n",
              "    }\n",
              "\n",
              "    .colab-df-convert:hover {\n",
              "      background-color: #E2EBFA;\n",
              "      box-shadow: 0px 1px 2px rgba(60, 64, 67, 0.3), 0px 1px 3px 1px rgba(60, 64, 67, 0.15);\n",
              "      fill: #174EA6;\n",
              "    }\n",
              "\n",
              "    [theme=dark] .colab-df-convert {\n",
              "      background-color: #3B4455;\n",
              "      fill: #D2E3FC;\n",
              "    }\n",
              "\n",
              "    [theme=dark] .colab-df-convert:hover {\n",
              "      background-color: #434B5C;\n",
              "      box-shadow: 0px 1px 3px 1px rgba(0, 0, 0, 0.15);\n",
              "      filter: drop-shadow(0px 1px 2px rgba(0, 0, 0, 0.3));\n",
              "      fill: #FFFFFF;\n",
              "    }\n",
              "  </style>\n",
              "\n",
              "      <script>\n",
              "        const buttonEl =\n",
              "          document.querySelector('#df-38d56d23-9428-43b2-8366-c414d37d3778 button.colab-df-convert');\n",
              "        buttonEl.style.display =\n",
              "          google.colab.kernel.accessAllowed ? 'block' : 'none';\n",
              "\n",
              "        async function convertToInteractive(key) {\n",
              "          const element = document.querySelector('#df-38d56d23-9428-43b2-8366-c414d37d3778');\n",
              "          const dataTable =\n",
              "            await google.colab.kernel.invokeFunction('convertToInteractive',\n",
              "                                                     [key], {});\n",
              "          if (!dataTable) return;\n",
              "\n",
              "          const docLinkHtml = 'Like what you see? Visit the ' +\n",
              "            '<a target=\"_blank\" href=https://colab.research.google.com/notebooks/data_table.ipynb>data table notebook</a>'\n",
              "            + ' to learn more about interactive tables.';\n",
              "          element.innerHTML = '';\n",
              "          dataTable['output_type'] = 'display_data';\n",
              "          await google.colab.output.renderOutput(dataTable, element);\n",
              "          const docLink = document.createElement('div');\n",
              "          docLink.innerHTML = docLinkHtml;\n",
              "          element.appendChild(docLink);\n",
              "        }\n",
              "      </script>\n",
              "    </div>\n",
              "  </div>\n",
              "  "
            ]
          },
          "metadata": {},
          "execution_count": 93
        }
      ],
      "source": [
        "table = pd.read_html(url)[0]\n",
        "population = table[['Country / Dependency','Population']]\n",
        "population.head()"
      ]
    },
    {
      "cell_type": "code",
      "execution_count": 94,
      "metadata": {
        "id": "tX3HMMVsHsTG"
      },
      "outputs": [],
      "source": [
        "# объединим, возьмём популяцию измеренную также в 1000, удалим лишние атрибуты\n",
        "df = df.merge(population, left_on = 'Country', right_on = 'Country / Dependency')\n",
        "df['Population_in_1000'] = round(df['Population']/1000)\n",
        "df['Protest/population_ratio'] = df['Size_in_1000']/df['Population_in_1000']\n",
        "df = df.drop(['Country / Dependency','Population'], axis = 1)"
      ]
    },
    {
      "cell_type": "code",
      "execution_count": 95,
      "metadata": {
        "id": "GwxGCYv9IYJR",
        "colab": {
          "base_uri": "https://localhost:8080/"
        },
        "outputId": "f2e6ba8c-ffab-4e05-96ca-27b45ac2e6a3"
      },
      "outputs": [
        {
          "output_type": "stream",
          "name": "stdout",
          "text": [
            "<class 'pandas.core.frame.DataFrame'>\n",
            "Int64Index: 318 entries, 0 to 317\n",
            "Data columns (total 27 columns):\n",
            " #   Column                                    Non-Null Count  Dtype         \n",
            "---  ------                                    --------------  -----         \n",
            " 0   Country                                   318 non-null    object        \n",
            " 1   Protest Name                              318 non-null    object        \n",
            " 2   Start Date                                318 non-null    datetime64[ns]\n",
            " 3   Freedom Rating (Status)                   318 non-null    object        \n",
            " 4   Triggers                                  318 non-null    object        \n",
            " 5   Motivations                               318 non-null    object        \n",
            " 6   Peak Size                                 318 non-null    object        \n",
            " 7   Key Participants                          318 non-null    object        \n",
            " 8   Duration                                  318 non-null    object        \n",
            " 9   Outcomes                                  317 non-null    object        \n",
            " 10  Active protests                           318 non-null    int64         \n",
            " 11  Economic motivation?                      318 non-null    int64         \n",
            " 12  Political motivation?                     318 non-null    int64         \n",
            " 13  Corruption motivation?                    318 non-null    int64         \n",
            " 14  Size category                             318 non-null    object        \n",
            " 15  Protests with a significant outcome       318 non-null    int64         \n",
            " 16  Large protests (Over 100,000 protesting)  318 non-null    int64         \n",
            " 17  Violent government response               318 non-null    int64         \n",
            " 18  Long protests (more than 3 months)        318 non-null    int64         \n",
            " 19  Coronavirus-related protests              318 non-null    int64         \n",
            " 20  Capital city                              317 non-null    object        \n",
            " 21  Days_of_duration                          318 non-null    int32         \n",
            " 22  Type_of_partitipants                      318 non-null    int64         \n",
            " 23  Degree_of_freedom                         318 non-null    int64         \n",
            " 24  Size_in_1000                              318 non-null    float64       \n",
            " 25  Population_in_1000                        318 non-null    float64       \n",
            " 26  Protest/population_ratio                  318 non-null    float64       \n",
            "dtypes: datetime64[ns](1), float64(3), int32(1), int64(11), object(11)\n",
            "memory usage: 68.3+ KB\n"
          ]
        }
      ],
      "source": [
        "df.info()"
      ]
    },
    {
      "cell_type": "code",
      "execution_count": 96,
      "metadata": {
        "id": "JrtloogVny6a",
        "colab": {
          "base_uri": "https://localhost:8080/"
        },
        "outputId": "7a0e8ca5-cbf3-4082-eb5a-3a6ab26d86a6"
      },
      "outputs": [
        {
          "output_type": "execute_result",
          "data": {
            "text/plain": [
              "Index(['Country', 'Protest Name', 'Start Date', 'Freedom Rating (Status)',\n",
              "       'Triggers', 'Motivations', 'Peak Size', 'Key Participants', 'Duration',\n",
              "       'Outcomes', 'Active protests', 'Economic motivation?',\n",
              "       'Political motivation?', 'Corruption motivation?', 'Size category',\n",
              "       'Protests with a significant outcome',\n",
              "       'Large protests (Over 100,000 protesting)',\n",
              "       'Violent government response', 'Long protests (more than 3 months)',\n",
              "       'Coronavirus-related protests', 'Capital city', 'Days_of_duration',\n",
              "       'Type_of_partitipants', 'Degree_of_freedom', 'Size_in_1000',\n",
              "       'Population_in_1000', 'Protest/population_ratio'],\n",
              "      dtype='object')"
            ]
          },
          "metadata": {},
          "execution_count": 96
        }
      ],
      "source": [
        "protests = df\n",
        "protests.columns"
      ]
    },
    {
      "cell_type": "code",
      "execution_count": 97,
      "metadata": {
        "id": "wj1zvaHtLqei",
        "colab": {
          "base_uri": "https://localhost:8080/",
          "height": 433
        },
        "outputId": "18c92d6e-439c-4cea-d30b-e4d54122289a"
      },
      "outputs": [
        {
          "output_type": "execute_result",
          "data": {
            "text/plain": [
              "       Active protests  Economic motivation?  Political motivation?  \\\n",
              "count       318.000000            318.000000             318.000000   \n",
              "mean          0.053459              0.361635               0.867925   \n",
              "std           0.225302              0.481231               0.339106   \n",
              "min           0.000000              0.000000               0.000000   \n",
              "25%           0.000000              0.000000               1.000000   \n",
              "50%           0.000000              0.000000               1.000000   \n",
              "75%           0.000000              1.000000               1.000000   \n",
              "max           1.000000              1.000000               1.000000   \n",
              "\n",
              "       Corruption motivation?  Protests with a significant outcome  \\\n",
              "count              318.000000                           318.000000   \n",
              "mean                 0.201258                             0.298742   \n",
              "std                  0.401572                             0.458428   \n",
              "min                  0.000000                             0.000000   \n",
              "25%                  0.000000                             0.000000   \n",
              "50%                  0.000000                             0.000000   \n",
              "75%                  0.000000                             1.000000   \n",
              "max                  1.000000                             1.000000   \n",
              "\n",
              "       Large protests (Over 100,000 protesting)  Violent government response  \\\n",
              "count                                318.000000                   318.000000   \n",
              "mean                                   0.147799                     0.270440   \n",
              "std                                    0.355460                     0.444887   \n",
              "min                                    0.000000                     0.000000   \n",
              "25%                                    0.000000                     0.000000   \n",
              "50%                                    0.000000                     0.000000   \n",
              "75%                                    0.000000                     1.000000   \n",
              "max                                    1.000000                     1.000000   \n",
              "\n",
              "       Long protests (more than 3 months)  Coronavirus-related protests  \\\n",
              "count                          318.000000                    318.000000   \n",
              "mean                             0.242138                      0.150943   \n",
              "std                              0.429053                      0.358558   \n",
              "min                              0.000000                      0.000000   \n",
              "25%                              0.000000                      0.000000   \n",
              "50%                              0.000000                      0.000000   \n",
              "75%                              0.000000                      0.000000   \n",
              "max                              1.000000                      1.000000   \n",
              "\n",
              "       Days_of_duration  Type_of_partitipants  Degree_of_freedom  \\\n",
              "count        318.000000            318.000000         318.000000   \n",
              "mean         111.977987              2.059748           2.034591   \n",
              "std          199.462803              0.915800           0.791555   \n",
              "min            1.000000              1.000000           1.000000   \n",
              "25%            7.000000              1.000000           1.000000   \n",
              "50%           30.000000              2.000000           2.000000   \n",
              "75%          122.000000              3.000000           3.000000   \n",
              "max         2042.000000              3.000000           3.000000   \n",
              "\n",
              "       Size_in_1000  Population_in_1000  Protest/population_ratio  \n",
              "count    318.000000        3.180000e+02              3.180000e+02  \n",
              "mean       1.610063        9.278820e+04              2.396819e-04  \n",
              "std        0.801512        2.311944e+05              7.606860e-04  \n",
              "min        1.000000        3.830000e+02              7.269629e-07  \n",
              "25%        1.000000        1.018600e+04              2.108237e-05  \n",
              "50%        1.000000        2.870500e+04              5.131448e-05  \n",
              "75%        2.000000        6.791800e+04              1.529969e-04  \n",
              "max        4.000000        1.375586e+06              7.832898e-03  "
            ],
            "text/html": [
              "\n",
              "  <div id=\"df-38a3a6e5-798a-4677-8830-881691cab1e7\">\n",
              "    <div class=\"colab-df-container\">\n",
              "      <div>\n",
              "<style scoped>\n",
              "    .dataframe tbody tr th:only-of-type {\n",
              "        vertical-align: middle;\n",
              "    }\n",
              "\n",
              "    .dataframe tbody tr th {\n",
              "        vertical-align: top;\n",
              "    }\n",
              "\n",
              "    .dataframe thead th {\n",
              "        text-align: right;\n",
              "    }\n",
              "</style>\n",
              "<table border=\"1\" class=\"dataframe\">\n",
              "  <thead>\n",
              "    <tr style=\"text-align: right;\">\n",
              "      <th></th>\n",
              "      <th>Active protests</th>\n",
              "      <th>Economic motivation?</th>\n",
              "      <th>Political motivation?</th>\n",
              "      <th>Corruption motivation?</th>\n",
              "      <th>Protests with a significant outcome</th>\n",
              "      <th>Large protests (Over 100,000 protesting)</th>\n",
              "      <th>Violent government response</th>\n",
              "      <th>Long protests (more than 3 months)</th>\n",
              "      <th>Coronavirus-related protests</th>\n",
              "      <th>Days_of_duration</th>\n",
              "      <th>Type_of_partitipants</th>\n",
              "      <th>Degree_of_freedom</th>\n",
              "      <th>Size_in_1000</th>\n",
              "      <th>Population_in_1000</th>\n",
              "      <th>Protest/population_ratio</th>\n",
              "    </tr>\n",
              "  </thead>\n",
              "  <tbody>\n",
              "    <tr>\n",
              "      <th>count</th>\n",
              "      <td>318.000000</td>\n",
              "      <td>318.000000</td>\n",
              "      <td>318.000000</td>\n",
              "      <td>318.000000</td>\n",
              "      <td>318.000000</td>\n",
              "      <td>318.000000</td>\n",
              "      <td>318.000000</td>\n",
              "      <td>318.000000</td>\n",
              "      <td>318.000000</td>\n",
              "      <td>318.000000</td>\n",
              "      <td>318.000000</td>\n",
              "      <td>318.000000</td>\n",
              "      <td>318.000000</td>\n",
              "      <td>3.180000e+02</td>\n",
              "      <td>3.180000e+02</td>\n",
              "    </tr>\n",
              "    <tr>\n",
              "      <th>mean</th>\n",
              "      <td>0.053459</td>\n",
              "      <td>0.361635</td>\n",
              "      <td>0.867925</td>\n",
              "      <td>0.201258</td>\n",
              "      <td>0.298742</td>\n",
              "      <td>0.147799</td>\n",
              "      <td>0.270440</td>\n",
              "      <td>0.242138</td>\n",
              "      <td>0.150943</td>\n",
              "      <td>111.977987</td>\n",
              "      <td>2.059748</td>\n",
              "      <td>2.034591</td>\n",
              "      <td>1.610063</td>\n",
              "      <td>9.278820e+04</td>\n",
              "      <td>2.396819e-04</td>\n",
              "    </tr>\n",
              "    <tr>\n",
              "      <th>std</th>\n",
              "      <td>0.225302</td>\n",
              "      <td>0.481231</td>\n",
              "      <td>0.339106</td>\n",
              "      <td>0.401572</td>\n",
              "      <td>0.458428</td>\n",
              "      <td>0.355460</td>\n",
              "      <td>0.444887</td>\n",
              "      <td>0.429053</td>\n",
              "      <td>0.358558</td>\n",
              "      <td>199.462803</td>\n",
              "      <td>0.915800</td>\n",
              "      <td>0.791555</td>\n",
              "      <td>0.801512</td>\n",
              "      <td>2.311944e+05</td>\n",
              "      <td>7.606860e-04</td>\n",
              "    </tr>\n",
              "    <tr>\n",
              "      <th>min</th>\n",
              "      <td>0.000000</td>\n",
              "      <td>0.000000</td>\n",
              "      <td>0.000000</td>\n",
              "      <td>0.000000</td>\n",
              "      <td>0.000000</td>\n",
              "      <td>0.000000</td>\n",
              "      <td>0.000000</td>\n",
              "      <td>0.000000</td>\n",
              "      <td>0.000000</td>\n",
              "      <td>1.000000</td>\n",
              "      <td>1.000000</td>\n",
              "      <td>1.000000</td>\n",
              "      <td>1.000000</td>\n",
              "      <td>3.830000e+02</td>\n",
              "      <td>7.269629e-07</td>\n",
              "    </tr>\n",
              "    <tr>\n",
              "      <th>25%</th>\n",
              "      <td>0.000000</td>\n",
              "      <td>0.000000</td>\n",
              "      <td>1.000000</td>\n",
              "      <td>0.000000</td>\n",
              "      <td>0.000000</td>\n",
              "      <td>0.000000</td>\n",
              "      <td>0.000000</td>\n",
              "      <td>0.000000</td>\n",
              "      <td>0.000000</td>\n",
              "      <td>7.000000</td>\n",
              "      <td>1.000000</td>\n",
              "      <td>1.000000</td>\n",
              "      <td>1.000000</td>\n",
              "      <td>1.018600e+04</td>\n",
              "      <td>2.108237e-05</td>\n",
              "    </tr>\n",
              "    <tr>\n",
              "      <th>50%</th>\n",
              "      <td>0.000000</td>\n",
              "      <td>0.000000</td>\n",
              "      <td>1.000000</td>\n",
              "      <td>0.000000</td>\n",
              "      <td>0.000000</td>\n",
              "      <td>0.000000</td>\n",
              "      <td>0.000000</td>\n",
              "      <td>0.000000</td>\n",
              "      <td>0.000000</td>\n",
              "      <td>30.000000</td>\n",
              "      <td>2.000000</td>\n",
              "      <td>2.000000</td>\n",
              "      <td>1.000000</td>\n",
              "      <td>2.870500e+04</td>\n",
              "      <td>5.131448e-05</td>\n",
              "    </tr>\n",
              "    <tr>\n",
              "      <th>75%</th>\n",
              "      <td>0.000000</td>\n",
              "      <td>1.000000</td>\n",
              "      <td>1.000000</td>\n",
              "      <td>0.000000</td>\n",
              "      <td>1.000000</td>\n",
              "      <td>0.000000</td>\n",
              "      <td>1.000000</td>\n",
              "      <td>0.000000</td>\n",
              "      <td>0.000000</td>\n",
              "      <td>122.000000</td>\n",
              "      <td>3.000000</td>\n",
              "      <td>3.000000</td>\n",
              "      <td>2.000000</td>\n",
              "      <td>6.791800e+04</td>\n",
              "      <td>1.529969e-04</td>\n",
              "    </tr>\n",
              "    <tr>\n",
              "      <th>max</th>\n",
              "      <td>1.000000</td>\n",
              "      <td>1.000000</td>\n",
              "      <td>1.000000</td>\n",
              "      <td>1.000000</td>\n",
              "      <td>1.000000</td>\n",
              "      <td>1.000000</td>\n",
              "      <td>1.000000</td>\n",
              "      <td>1.000000</td>\n",
              "      <td>1.000000</td>\n",
              "      <td>2042.000000</td>\n",
              "      <td>3.000000</td>\n",
              "      <td>3.000000</td>\n",
              "      <td>4.000000</td>\n",
              "      <td>1.375586e+06</td>\n",
              "      <td>7.832898e-03</td>\n",
              "    </tr>\n",
              "  </tbody>\n",
              "</table>\n",
              "</div>\n",
              "      <button class=\"colab-df-convert\" onclick=\"convertToInteractive('df-38a3a6e5-798a-4677-8830-881691cab1e7')\"\n",
              "              title=\"Convert this dataframe to an interactive table.\"\n",
              "              style=\"display:none;\">\n",
              "        \n",
              "  <svg xmlns=\"http://www.w3.org/2000/svg\" height=\"24px\"viewBox=\"0 0 24 24\"\n",
              "       width=\"24px\">\n",
              "    <path d=\"M0 0h24v24H0V0z\" fill=\"none\"/>\n",
              "    <path d=\"M18.56 5.44l.94 2.06.94-2.06 2.06-.94-2.06-.94-.94-2.06-.94 2.06-2.06.94zm-11 1L8.5 8.5l.94-2.06 2.06-.94-2.06-.94L8.5 2.5l-.94 2.06-2.06.94zm10 10l.94 2.06.94-2.06 2.06-.94-2.06-.94-.94-2.06-.94 2.06-2.06.94z\"/><path d=\"M17.41 7.96l-1.37-1.37c-.4-.4-.92-.59-1.43-.59-.52 0-1.04.2-1.43.59L10.3 9.45l-7.72 7.72c-.78.78-.78 2.05 0 2.83L4 21.41c.39.39.9.59 1.41.59.51 0 1.02-.2 1.41-.59l7.78-7.78 2.81-2.81c.8-.78.8-2.07 0-2.86zM5.41 20L4 18.59l7.72-7.72 1.47 1.35L5.41 20z\"/>\n",
              "  </svg>\n",
              "      </button>\n",
              "      \n",
              "  <style>\n",
              "    .colab-df-container {\n",
              "      display:flex;\n",
              "      flex-wrap:wrap;\n",
              "      gap: 12px;\n",
              "    }\n",
              "\n",
              "    .colab-df-convert {\n",
              "      background-color: #E8F0FE;\n",
              "      border: none;\n",
              "      border-radius: 50%;\n",
              "      cursor: pointer;\n",
              "      display: none;\n",
              "      fill: #1967D2;\n",
              "      height: 32px;\n",
              "      padding: 0 0 0 0;\n",
              "      width: 32px;\n",
              "    }\n",
              "\n",
              "    .colab-df-convert:hover {\n",
              "      background-color: #E2EBFA;\n",
              "      box-shadow: 0px 1px 2px rgba(60, 64, 67, 0.3), 0px 1px 3px 1px rgba(60, 64, 67, 0.15);\n",
              "      fill: #174EA6;\n",
              "    }\n",
              "\n",
              "    [theme=dark] .colab-df-convert {\n",
              "      background-color: #3B4455;\n",
              "      fill: #D2E3FC;\n",
              "    }\n",
              "\n",
              "    [theme=dark] .colab-df-convert:hover {\n",
              "      background-color: #434B5C;\n",
              "      box-shadow: 0px 1px 3px 1px rgba(0, 0, 0, 0.15);\n",
              "      filter: drop-shadow(0px 1px 2px rgba(0, 0, 0, 0.3));\n",
              "      fill: #FFFFFF;\n",
              "    }\n",
              "  </style>\n",
              "\n",
              "      <script>\n",
              "        const buttonEl =\n",
              "          document.querySelector('#df-38a3a6e5-798a-4677-8830-881691cab1e7 button.colab-df-convert');\n",
              "        buttonEl.style.display =\n",
              "          google.colab.kernel.accessAllowed ? 'block' : 'none';\n",
              "\n",
              "        async function convertToInteractive(key) {\n",
              "          const element = document.querySelector('#df-38a3a6e5-798a-4677-8830-881691cab1e7');\n",
              "          const dataTable =\n",
              "            await google.colab.kernel.invokeFunction('convertToInteractive',\n",
              "                                                     [key], {});\n",
              "          if (!dataTable) return;\n",
              "\n",
              "          const docLinkHtml = 'Like what you see? Visit the ' +\n",
              "            '<a target=\"_blank\" href=https://colab.research.google.com/notebooks/data_table.ipynb>data table notebook</a>'\n",
              "            + ' to learn more about interactive tables.';\n",
              "          element.innerHTML = '';\n",
              "          dataTable['output_type'] = 'display_data';\n",
              "          await google.colab.output.renderOutput(dataTable, element);\n",
              "          const docLink = document.createElement('div');\n",
              "          docLink.innerHTML = docLinkHtml;\n",
              "          element.appendChild(docLink);\n",
              "        }\n",
              "      </script>\n",
              "    </div>\n",
              "  </div>\n",
              "  "
            ]
          },
          "metadata": {},
          "execution_count": 97
        }
      ],
      "source": [
        "# 5% протестов активны на данный момент\n",
        "# ~35% протестов - имеют экономические причины, ~87% - политические, 20% - касаются проблем коррупции\n",
        "# 30% протестов имели значимый результат\n",
        "# ~27% протестов жёстко подавлялись властями\n",
        "# ~ 24% длились дольше 3 месяцев и среднее количество дней проетста - 113(но здесь разумней смотреть медиану - она всего 30 дней(месяц))\n",
        "# участники протестов в среднем(и по медиане) - не просто general public\n",
        "# половина протестов  - протесты в 1000 человек(средняя в 73 тысячи очень сбивается из-за высокой дисперсии)\n",
        "protests.describe()"
      ]
    },
    {
      "cell_type": "markdown",
      "metadata": {
        "id": "IFn7OzSiKhEo"
      },
      "source": [
        "Визуализация"
      ]
    },
    {
      "cell_type": "code",
      "execution_count": 98,
      "metadata": {
        "id": "9m-xuNavKN0P",
        "colab": {
          "base_uri": "https://localhost:8080/",
          "height": 319
        },
        "outputId": "e3682068-40f9-4b5e-f977-960c4a675e59"
      },
      "outputs": [
        {
          "output_type": "execute_result",
          "data": {
            "text/plain": [
              "Text(0.5, 1.0, 'Count of protest by size in 1000')"
            ]
          },
          "metadata": {},
          "execution_count": 98
        },
        {
          "output_type": "display_data",
          "data": {
            "text/plain": [
              "<Figure size 432x288 with 1 Axes>"
            ],
            "image/png": "[encoded data removed]"
          },
          "metadata": {
            "needs_background": "light"
          }
        }
      ],
      "source": [
        "protests['Size_in_1000'].value_counts().sort_index().plot(kind = 'bar')\n",
        "plt.xlabel('Size in 1000')\n",
        "plt.ylabel('Count of protests')\n",
        "plt.title('Count of protest by size in 1000')"
      ]
    },
    {
      "cell_type": "code",
      "execution_count": 99,
      "metadata": {
        "colab": {
          "base_uri": "https://localhost:8080/",
          "height": 476
        },
        "id": "xna8tGclViw1",
        "outputId": "39d6ccf2-ffe3-46af-9318-ee24467d4f1a"
      },
      "outputs": [
        {
          "output_type": "execute_result",
          "data": {
            "text/plain": [
              "Text(0.5, 1.0, 'Top-20 countries by num of protests since 2017')"
            ]
          },
          "metadata": {},
          "execution_count": 99
        },
        {
          "output_type": "display_data",
          "data": {
            "text/plain": [
              "<Figure size 720x504 with 1 Axes>"
            ],
            "image/png": "[encoded data removed]"
          },
          "metadata": {
            "needs_background": "light"
          }
        }
      ],
      "source": [
        "plt.figure(figsize = [10,7])  \n",
        "top_20 = pd.DataFrame(protests.groupby('Country')['Country'].count().reset_index(name = 'Count').sort_values(by = 'Count',ascending = False)[:20])\n",
        "top_20 = top_20.join(protests[['Country', 'Degree_of_freedom']].set_index('Country'), on = 'Country').drop_duplicates()\n",
        "sns.barplot(y = top_20['Country'],x = top_20['Count'], hue = top_20['Degree_of_freedom'], palette = 'hls')\n",
        "plt.ylabel('Counrty')\n",
        "plt.xlabel('Count of protests')\n",
        "plt.title('Top-20 countries by num of protests since 2017')"
      ]
    },
    {
      "cell_type": "markdown",
      "metadata": {
        "id": "EY1zhgwswUHr"
      },
      "source": [
        "# По уровню свободы"
      ]
    },
    {
      "cell_type": "code",
      "execution_count": 100,
      "metadata": {
        "colab": {
          "base_uri": "https://localhost:8080/"
        },
        "id": "5PeKhmfZcow_",
        "outputId": "b2fd5839-d1fd-4ef5-f0d4-c7ff8eb1ef90"
      },
      "outputs": [
        {
          "output_type": "execute_result",
          "data": {
            "text/plain": [
              "Degree_of_freedom\n",
              "1    0.308511\n",
              "2    0.294118\n",
              "3    0.295238\n",
              "Name: Protests with a significant outcome, dtype: float64"
            ]
          },
          "metadata": {},
          "execution_count": 100
        }
      ],
      "source": [
        "# процент результативных протестов в контексте уровня свободы\n",
        "protests.groupby('Degree_of_freedom')['Protests with a significant outcome'].mean()"
      ]
    },
    {
      "cell_type": "code",
      "execution_count": 101,
      "metadata": {
        "colab": {
          "base_uri": "https://localhost:8080/"
        },
        "id": "bQnV-e_HdVb_",
        "outputId": "a0f1a800-fd94-4502-9eae-a9f2bdb32b86"
      },
      "outputs": [
        {
          "output_type": "execute_result",
          "data": {
            "text/plain": [
              "Degree_of_freedom  Protests with a significant outcome\n",
              "1                  0                                      65\n",
              "                   1                                      29\n",
              "2                  0                                      84\n",
              "                   1                                      35\n",
              "3                  0                                      74\n",
              "                   1                                      31\n",
              "Name: Protests with a significant outcome, dtype: int64"
            ]
          },
          "metadata": {},
          "execution_count": 101
        }
      ],
      "source": [
        "# то же в абсолютных величинах. Видим, что нет заметной разницы\n",
        "protests.groupby('Degree_of_freedom')['Protests with a significant outcome'].value_counts()"
      ]
    },
    {
      "cell_type": "code",
      "execution_count": 102,
      "metadata": {
        "colab": {
          "base_uri": "https://localhost:8080/",
          "height": 314
        },
        "id": "zgVAE3VIlnSY",
        "outputId": "52e3b636-f085-47c2-a19e-72e4c4b4f1d1"
      },
      "outputs": [
        {
          "output_type": "execute_result",
          "data": {
            "text/plain": [
              "Text(0.5, 1.0, 'Mnean population in 1000 by degree of freedom')"
            ]
          },
          "metadata": {},
          "execution_count": 102
        },
        {
          "output_type": "display_data",
          "data": {
            "text/plain": [
              "<Figure size 432x288 with 1 Axes>"
            ],
            "image/png": "[encoded data removed]"
          },
          "metadata": {
            "needs_background": "light"
          }
        }
      ],
      "source": [
        "# в частично свободных странах население в разы превышает остальные группы\n",
        "pop_by_freedom = protests.groupby('Degree_of_freedom')['Population_in_1000'].mean()\n",
        "sns.barplot(x = pop_by_freedom.index, y = pop_by_freedom)\n",
        "plt.title('Mnean population in 1000 by degree of freedom')"
      ]
    },
    {
      "cell_type": "code",
      "execution_count": 103,
      "metadata": {
        "colab": {
          "base_uri": "https://localhost:8080/",
          "height": 423
        },
        "id": "YLvTiDFQLofl",
        "outputId": "16a54c61-80e6-49ce-889d-7b6dc17c1d28"
      },
      "outputs": [
        {
          "output_type": "execute_result",
          "data": {
            "text/plain": [
              "Text(0.5, 1.0, 'Count of protests by degree_of_freedom')"
            ]
          },
          "metadata": {},
          "execution_count": 103
        },
        {
          "output_type": "display_data",
          "data": {
            "text/plain": [
              "<Figure size 864x432 with 1 Axes>"
            ],
            "image/png": "[encoded data removed]"
          },
          "metadata": {
            "needs_background": "light"
          }
        }
      ],
      "source": [
        "# поизучаем различия между странами в контексте уровня свободы\n",
        "# Видим, что больше всего протестов в частично свободных странах \n",
        "by_d_of_frd = protests.groupby('Degree_of_freedom')['Country'].count()\n",
        "\n",
        "plt.figure(figsize = [12,6])  \n",
        "sns.barplot(x = by_d_of_frd.index, y = by_d_of_frd)\n",
        "plt.xlabel('Degree_of_freedom')\n",
        "plt.ylabel('Count of protests')\n",
        "plt.title('Count of protests by degree_of_freedom')"
      ]
    },
    {
      "cell_type": "code",
      "execution_count": 104,
      "metadata": {
        "colab": {
          "base_uri": "https://localhost:8080/",
          "height": 314
        },
        "id": "miJodPjgrsjX",
        "outputId": "3b5857b9-e9d5-465e-face-1927982e4b64"
      },
      "outputs": [
        {
          "output_type": "execute_result",
          "data": {
            "text/plain": [
              "Text(0.5, 1.0, 'Mean size in 1000 by degree of freedom')"
            ]
          },
          "metadata": {},
          "execution_count": 104
        },
        {
          "output_type": "display_data",
          "data": {
            "text/plain": [
              "<Figure size 432x288 with 1 Axes>"
            ],
            "image/png": "[encoded data removed]"
          },
          "metadata": {
            "needs_background": "light"
          }
        }
      ],
      "source": [
        "# Посмотрим на средние количества протестующих в 1000-ях в разрезе свободности страны\n",
        "# видна очевидная разница в размерах протеста между странами\n",
        "size_by_freedom = protests.groupby('Degree_of_freedom')['Size_in_1000'].mean()\n",
        "sns.barplot(x = size_by_freedom.index, y = size_by_freedom)\n",
        "plt.title('Mean size in 1000 by degree of freedom')"
      ]
    },
    {
      "cell_type": "code",
      "execution_count": 105,
      "metadata": {
        "colab": {
          "base_uri": "https://localhost:8080/",
          "height": 314
        },
        "id": "3EnabwtZPzu9",
        "outputId": "036229b6-c1c9-4bc6-a568-b1a37ca5dddd"
      },
      "outputs": [
        {
          "output_type": "execute_result",
          "data": {
            "text/plain": [
              "Text(0.5, 1.0, 'Mean size in 1000(between .05 quantile and .95 quantile) by degree of freedom')"
            ]
          },
          "metadata": {},
          "execution_count": 105
        },
        {
          "output_type": "display_data",
          "data": {
            "text/plain": [
              "<Figure size 432x288 with 1 Axes>"
            ],
            "image/png": "[encoded data removed]"
          },
          "metadata": {
            "needs_background": "light"
          }
        }
      ],
      "source": [
        "# При этом, стоит нам взять значения от 05 до 95 квантилей, то вся разница исчезает\n",
        "adjusted = protests[protests['Size_in_1000'].between(protests['Size_in_1000'].quantile(.05),\\\n",
        "                                                      protests['Size_in_1000'].quantile(0.95))]\n",
        "size_by_freedom = adjusted.groupby('Degree_of_freedom')['Size_in_1000'].mean()\n",
        "sns.barplot(x = size_by_freedom.index, y = size_by_freedom)\n",
        "plt.title('Mean size in 1000(between .05 quantile and .95 quantile) by degree of freedom')"
      ]
    },
    {
      "cell_type": "code",
      "execution_count": 106,
      "metadata": {
        "colab": {
          "base_uri": "https://localhost:8080/",
          "height": 193
        },
        "id": "hgptb_j0N8QI",
        "outputId": "a9732606-3dd4-41f2-b71c-964071b5611f"
      },
      "outputs": [
        {
          "output_type": "stream",
          "name": "stdout",
          "text": [
            "Статистики по Protest/population_ratio\n"
          ]
        },
        {
          "output_type": "execute_result",
          "data": {
            "text/plain": [
              "                   count      mean       std           min       25%  \\\n",
              "Degree_of_freedom                                                      \n",
              "1                   94.0  0.000101  0.000161  6.891799e-06  0.000022   \n",
              "2                  119.0  0.000397  0.001137  7.269629e-07  0.000019   \n",
              "3                  105.0  0.000185  0.000473  3.002408e-06  0.000021   \n",
              "\n",
              "                        50%       75%       max  \n",
              "Degree_of_freedom                                \n",
              "1                  0.000050  0.000097  0.000896  \n",
              "2                  0.000060  0.000243  0.007833  \n",
              "3                  0.000043  0.000184  0.003846  "
            ],
            "text/html": [
              "\n",
              "  <div id=\"df-1a013a2f-9a94-476a-ba06-05131cd6074e\">\n",
              "    <div class=\"colab-df-container\">\n",
              "      <div>\n",
              "<style scoped>\n",
              "    .dataframe tbody tr th:only-of-type {\n",
              "        vertical-align: middle;\n",
              "    }\n",
              "\n",
              "    .dataframe tbody tr th {\n",
              "        vertical-align: top;\n",
              "    }\n",
              "\n",
              "    .dataframe thead th {\n",
              "        text-align: right;\n",
              "    }\n",
              "</style>\n",
              "<table border=\"1\" class=\"dataframe\">\n",
              "  <thead>\n",
              "    <tr style=\"text-align: right;\">\n",
              "      <th></th>\n",
              "      <th>count</th>\n",
              "      <th>mean</th>\n",
              "      <th>std</th>\n",
              "      <th>min</th>\n",
              "      <th>25%</th>\n",
              "      <th>50%</th>\n",
              "      <th>75%</th>\n",
              "      <th>max</th>\n",
              "    </tr>\n",
              "    <tr>\n",
              "      <th>Degree_of_freedom</th>\n",
              "      <th></th>\n",
              "      <th></th>\n",
              "      <th></th>\n",
              "      <th></th>\n",
              "      <th></th>\n",
              "      <th></th>\n",
              "      <th></th>\n",
              "      <th></th>\n",
              "    </tr>\n",
              "  </thead>\n",
              "  <tbody>\n",
              "    <tr>\n",
              "      <th>1</th>\n",
              "      <td>94.0</td>\n",
              "      <td>0.000101</td>\n",
              "      <td>0.000161</td>\n",
              "      <td>6.891799e-06</td>\n",
              "      <td>0.000022</td>\n",
              "      <td>0.000050</td>\n",
              "      <td>0.000097</td>\n",
              "      <td>0.000896</td>\n",
              "    </tr>\n",
              "    <tr>\n",
              "      <th>2</th>\n",
              "      <td>119.0</td>\n",
              "      <td>0.000397</td>\n",
              "      <td>0.001137</td>\n",
              "      <td>7.269629e-07</td>\n",
              "      <td>0.000019</td>\n",
              "      <td>0.000060</td>\n",
              "      <td>0.000243</td>\n",
              "      <td>0.007833</td>\n",
              "    </tr>\n",
              "    <tr>\n",
              "      <th>3</th>\n",
              "      <td>105.0</td>\n",
              "      <td>0.000185</td>\n",
              "      <td>0.000473</td>\n",
              "      <td>3.002408e-06</td>\n",
              "      <td>0.000021</td>\n",
              "      <td>0.000043</td>\n",
              "      <td>0.000184</td>\n",
              "      <td>0.003846</td>\n",
              "    </tr>\n",
              "  </tbody>\n",
              "</table>\n",
              "</div>\n",
              "      <button class=\"colab-df-convert\" onclick=\"convertToInteractive('df-1a013a2f-9a94-476a-ba06-05131cd6074e')\"\n",
              "              title=\"Convert this dataframe to an interactive table.\"\n",
              "              style=\"display:none;\">\n",
              "        \n",
              "  <svg xmlns=\"http://www.w3.org/2000/svg\" height=\"24px\"viewBox=\"0 0 24 24\"\n",
              "       width=\"24px\">\n",
              "    <path d=\"M0 0h24v24H0V0z\" fill=\"none\"/>\n",
              "    <path d=\"M18.56 5.44l.94 2.06.94-2.06 2.06-.94-2.06-.94-.94-2.06-.94 2.06-2.06.94zm-11 1L8.5 8.5l.94-2.06 2.06-.94-2.06-.94L8.5 2.5l-.94 2.06-2.06.94zm10 10l.94 2.06.94-2.06 2.06-.94-2.06-.94-.94-2.06-.94 2.06-2.06.94z\"/><path d=\"M17.41 7.96l-1.37-1.37c-.4-.4-.92-.59-1.43-.59-.52 0-1.04.2-1.43.59L10.3 9.45l-7.72 7.72c-.78.78-.78 2.05 0 2.83L4 21.41c.39.39.9.59 1.41.59.51 0 1.02-.2 1.41-.59l7.78-7.78 2.81-2.81c.8-.78.8-2.07 0-2.86zM5.41 20L4 18.59l7.72-7.72 1.47 1.35L5.41 20z\"/>\n",
              "  </svg>\n",
              "      </button>\n",
              "      \n",
              "  <style>\n",
              "    .colab-df-container {\n",
              "      display:flex;\n",
              "      flex-wrap:wrap;\n",
              "      gap: 12px;\n",
              "    }\n",
              "\n",
              "    .colab-df-convert {\n",
              "      background-color: #E8F0FE;\n",
              "      border: none;\n",
              "      border-radius: 50%;\n",
              "      cursor: pointer;\n",
              "      display: none;\n",
              "      fill: #1967D2;\n",
              "      height: 32px;\n",
              "      padding: 0 0 0 0;\n",
              "      width: 32px;\n",
              "    }\n",
              "\n",
              "    .colab-df-convert:hover {\n",
              "      background-color: #E2EBFA;\n",
              "      box-shadow: 0px 1px 2px rgba(60, 64, 67, 0.3), 0px 1px 3px 1px rgba(60, 64, 67, 0.15);\n",
              "      fill: #174EA6;\n",
              "    }\n",
              "\n",
              "    [theme=dark] .colab-df-convert {\n",
              "      background-color: #3B4455;\n",
              "      fill: #D2E3FC;\n",
              "    }\n",
              "\n",
              "    [theme=dark] .colab-df-convert:hover {\n",
              "      background-color: #434B5C;\n",
              "      box-shadow: 0px 1px 3px 1px rgba(0, 0, 0, 0.15);\n",
              "      filter: drop-shadow(0px 1px 2px rgba(0, 0, 0, 0.3));\n",
              "      fill: #FFFFFF;\n",
              "    }\n",
              "  </style>\n",
              "\n",
              "      <script>\n",
              "        const buttonEl =\n",
              "          document.querySelector('#df-1a013a2f-9a94-476a-ba06-05131cd6074e button.colab-df-convert');\n",
              "        buttonEl.style.display =\n",
              "          google.colab.kernel.accessAllowed ? 'block' : 'none';\n",
              "\n",
              "        async function convertToInteractive(key) {\n",
              "          const element = document.querySelector('#df-1a013a2f-9a94-476a-ba06-05131cd6074e');\n",
              "          const dataTable =\n",
              "            await google.colab.kernel.invokeFunction('convertToInteractive',\n",
              "                                                     [key], {});\n",
              "          if (!dataTable) return;\n",
              "\n",
              "          const docLinkHtml = 'Like what you see? Visit the ' +\n",
              "            '<a target=\"_blank\" href=https://colab.research.google.com/notebooks/data_table.ipynb>data table notebook</a>'\n",
              "            + ' to learn more about interactive tables.';\n",
              "          element.innerHTML = '';\n",
              "          dataTable['output_type'] = 'display_data';\n",
              "          await google.colab.output.renderOutput(dataTable, element);\n",
              "          const docLink = document.createElement('div');\n",
              "          docLink.innerHTML = docLinkHtml;\n",
              "          element.appendChild(docLink);\n",
              "        }\n",
              "      </script>\n",
              "    </div>\n",
              "  </div>\n",
              "  "
            ]
          },
          "metadata": {},
          "execution_count": 106
        }
      ],
      "source": [
        "# Посмотрим на соотношение размеров протеста/населения в разрезе стран\n",
        "# Частично свободные страны сильно отличаются\n",
        "print('Статистики по Protest/population_ratio')\n",
        "protests.groupby('Degree_of_freedom')['Protest/population_ratio'].describe()"
      ]
    },
    {
      "cell_type": "code",
      "execution_count": 107,
      "metadata": {
        "colab": {
          "base_uri": "https://localhost:8080/",
          "height": 193
        },
        "id": "gKCeirYwLHNs",
        "outputId": "fe6377c1-1105-4d7d-8f6b-5bc543714797"
      },
      "outputs": [
        {
          "output_type": "stream",
          "name": "stdout",
          "text": [
            "Статистики по Protest/population_ratio от 5% до 95% квантилей\n"
          ]
        },
        {
          "output_type": "execute_result",
          "data": {
            "text/plain": [
              "                   count      mean       std       min       25%       50%  \\\n",
              "Degree_of_freedom                                                            \n",
              "1                   93.0  0.000093  0.000139  0.000007  0.000022  0.000049   \n",
              "2                   99.0  0.000127  0.000153  0.000004  0.000029  0.000060   \n",
              "3                   95.0  0.000103  0.000126  0.000005  0.000021  0.000043   \n",
              "\n",
              "                        75%       max  \n",
              "Degree_of_freedom                      \n",
              "1                  0.000093  0.000853  \n",
              "2                  0.000151  0.000804  \n",
              "3                  0.000171  0.000581  "
            ],
            "text/html": [
              "\n",
              "  <div id=\"df-3b4a8d7d-1673-4901-ada5-54015ff5de8c\">\n",
              "    <div class=\"colab-df-container\">\n",
              "      <div>\n",
              "<style scoped>\n",
              "    .dataframe tbody tr th:only-of-type {\n",
              "        vertical-align: middle;\n",
              "    }\n",
              "\n",
              "    .dataframe tbody tr th {\n",
              "        vertical-align: top;\n",
              "    }\n",
              "\n",
              "    .dataframe thead th {\n",
              "        text-align: right;\n",
              "    }\n",
              "</style>\n",
              "<table border=\"1\" class=\"dataframe\">\n",
              "  <thead>\n",
              "    <tr style=\"text-align: right;\">\n",
              "      <th></th>\n",
              "      <th>count</th>\n",
              "      <th>mean</th>\n",
              "      <th>std</th>\n",
              "      <th>min</th>\n",
              "      <th>25%</th>\n",
              "      <th>50%</th>\n",
              "      <th>75%</th>\n",
              "      <th>max</th>\n",
              "    </tr>\n",
              "    <tr>\n",
              "      <th>Degree_of_freedom</th>\n",
              "      <th></th>\n",
              "      <th></th>\n",
              "      <th></th>\n",
              "      <th></th>\n",
              "      <th></th>\n",
              "      <th></th>\n",
              "      <th></th>\n",
              "      <th></th>\n",
              "    </tr>\n",
              "  </thead>\n",
              "  <tbody>\n",
              "    <tr>\n",
              "      <th>1</th>\n",
              "      <td>93.0</td>\n",
              "      <td>0.000093</td>\n",
              "      <td>0.000139</td>\n",
              "      <td>0.000007</td>\n",
              "      <td>0.000022</td>\n",
              "      <td>0.000049</td>\n",
              "      <td>0.000093</td>\n",
              "      <td>0.000853</td>\n",
              "    </tr>\n",
              "    <tr>\n",
              "      <th>2</th>\n",
              "      <td>99.0</td>\n",
              "      <td>0.000127</td>\n",
              "      <td>0.000153</td>\n",
              "      <td>0.000004</td>\n",
              "      <td>0.000029</td>\n",
              "      <td>0.000060</td>\n",
              "      <td>0.000151</td>\n",
              "      <td>0.000804</td>\n",
              "    </tr>\n",
              "    <tr>\n",
              "      <th>3</th>\n",
              "      <td>95.0</td>\n",
              "      <td>0.000103</td>\n",
              "      <td>0.000126</td>\n",
              "      <td>0.000005</td>\n",
              "      <td>0.000021</td>\n",
              "      <td>0.000043</td>\n",
              "      <td>0.000171</td>\n",
              "      <td>0.000581</td>\n",
              "    </tr>\n",
              "  </tbody>\n",
              "</table>\n",
              "</div>\n",
              "      <button class=\"colab-df-convert\" onclick=\"convertToInteractive('df-3b4a8d7d-1673-4901-ada5-54015ff5de8c')\"\n",
              "              title=\"Convert this dataframe to an interactive table.\"\n",
              "              style=\"display:none;\">\n",
              "        \n",
              "  <svg xmlns=\"http://www.w3.org/2000/svg\" height=\"24px\"viewBox=\"0 0 24 24\"\n",
              "       width=\"24px\">\n",
              "    <path d=\"M0 0h24v24H0V0z\" fill=\"none\"/>\n",
              "    <path d=\"M18.56 5.44l.94 2.06.94-2.06 2.06-.94-2.06-.94-.94-2.06-.94 2.06-2.06.94zm-11 1L8.5 8.5l.94-2.06 2.06-.94-2.06-.94L8.5 2.5l-.94 2.06-2.06.94zm10 10l.94 2.06.94-2.06 2.06-.94-2.06-.94-.94-2.06-.94 2.06-2.06.94z\"/><path d=\"M17.41 7.96l-1.37-1.37c-.4-.4-.92-.59-1.43-.59-.52 0-1.04.2-1.43.59L10.3 9.45l-7.72 7.72c-.78.78-.78 2.05 0 2.83L4 21.41c.39.39.9.59 1.41.59.51 0 1.02-.2 1.41-.59l7.78-7.78 2.81-2.81c.8-.78.8-2.07 0-2.86zM5.41 20L4 18.59l7.72-7.72 1.47 1.35L5.41 20z\"/>\n",
              "  </svg>\n",
              "      </button>\n",
              "      \n",
              "  <style>\n",
              "    .colab-df-container {\n",
              "      display:flex;\n",
              "      flex-wrap:wrap;\n",
              "      gap: 12px;\n",
              "    }\n",
              "\n",
              "    .colab-df-convert {\n",
              "      background-color: #E8F0FE;\n",
              "      border: none;\n",
              "      border-radius: 50%;\n",
              "      cursor: pointer;\n",
              "      display: none;\n",
              "      fill: #1967D2;\n",
              "      height: 32px;\n",
              "      padding: 0 0 0 0;\n",
              "      width: 32px;\n",
              "    }\n",
              "\n",
              "    .colab-df-convert:hover {\n",
              "      background-color: #E2EBFA;\n",
              "      box-shadow: 0px 1px 2px rgba(60, 64, 67, 0.3), 0px 1px 3px 1px rgba(60, 64, 67, 0.15);\n",
              "      fill: #174EA6;\n",
              "    }\n",
              "\n",
              "    [theme=dark] .colab-df-convert {\n",
              "      background-color: #3B4455;\n",
              "      fill: #D2E3FC;\n",
              "    }\n",
              "\n",
              "    [theme=dark] .colab-df-convert:hover {\n",
              "      background-color: #434B5C;\n",
              "      box-shadow: 0px 1px 3px 1px rgba(0, 0, 0, 0.15);\n",
              "      filter: drop-shadow(0px 1px 2px rgba(0, 0, 0, 0.3));\n",
              "      fill: #FFFFFF;\n",
              "    }\n",
              "  </style>\n",
              "\n",
              "      <script>\n",
              "        const buttonEl =\n",
              "          document.querySelector('#df-3b4a8d7d-1673-4901-ada5-54015ff5de8c button.colab-df-convert');\n",
              "        buttonEl.style.display =\n",
              "          google.colab.kernel.accessAllowed ? 'block' : 'none';\n",
              "\n",
              "        async function convertToInteractive(key) {\n",
              "          const element = document.querySelector('#df-3b4a8d7d-1673-4901-ada5-54015ff5de8c');\n",
              "          const dataTable =\n",
              "            await google.colab.kernel.invokeFunction('convertToInteractive',\n",
              "                                                     [key], {});\n",
              "          if (!dataTable) return;\n",
              "\n",
              "          const docLinkHtml = 'Like what you see? Visit the ' +\n",
              "            '<a target=\"_blank\" href=https://colab.research.google.com/notebooks/data_table.ipynb>data table notebook</a>'\n",
              "            + ' to learn more about interactive tables.';\n",
              "          element.innerHTML = '';\n",
              "          dataTable['output_type'] = 'display_data';\n",
              "          await google.colab.output.renderOutput(dataTable, element);\n",
              "          const docLink = document.createElement('div');\n",
              "          docLink.innerHTML = docLinkHtml;\n",
              "          element.appendChild(docLink);\n",
              "        }\n",
              "      </script>\n",
              "    </div>\n",
              "  </div>\n",
              "  "
            ]
          },
          "metadata": {},
          "execution_count": 107
        }
      ],
      "source": [
        "# Но если убрать выбросы, то средние и медианы становятся значительно равнее. То есть, видим ту же картину, что и средних по размеру протеста в 1000\n",
        "print('Статистики по Protest/population_ratio от 5% до 95% квантилей')\n",
        "adjusted = protests[protests['Protest/population_ratio'].between(protests['Protest/population_ratio'].quantile(.05),\\\n",
        "                                                      protests['Protest/population_ratio'].quantile(0.95))]\n",
        "adjusted.groupby('Degree_of_freedom')['Protest/population_ratio'].describe()"
      ]
    },
    {
      "cell_type": "code",
      "execution_count": 108,
      "metadata": {
        "colab": {
          "base_uri": "https://localhost:8080/"
        },
        "id": "Fu-1EoxdPl6c",
        "outputId": "998ee16f-2af1-4d04-f67b-3af6679d5bfa"
      },
      "outputs": [
        {
          "output_type": "execute_result",
          "data": {
            "text/plain": [
              "Degree_of_freedom\n",
              "1    115.372340\n",
              "2     94.571429\n",
              "3    128.666667\n",
              "Name: Days_of_duration, dtype: float64"
            ]
          },
          "metadata": {},
          "execution_count": 108
        }
      ],
      "source": [
        "# средние по количеству дней \n",
        "protests.groupby('Degree_of_freedom')['Days_of_duration'].mean()"
      ]
    },
    {
      "cell_type": "code",
      "execution_count": 109,
      "metadata": {
        "colab": {
          "base_uri": "https://localhost:8080/",
          "height": 423
        },
        "id": "1jWC9X-zPzor",
        "outputId": "ef736eba-cc32-4042-d997-3b75037885d2"
      },
      "outputs": [
        {
          "output_type": "execute_result",
          "data": {
            "text/plain": [
              "Text(0.5, 1.0, 'Boxplots for days of duration by degrees of freedom')"
            ]
          },
          "metadata": {},
          "execution_count": 109
        },
        {
          "output_type": "display_data",
          "data": {
            "text/plain": [
              "<Figure size 864x432 with 1 Axes>"
            ],
            "image/png": "[encoded data removed]"
          },
          "metadata": {
            "needs_background": "light"
          }
        }
      ],
      "source": [
        "plt.figure(figsize = [12,6]) \n",
        "sns.boxplot(x = protests['Degree_of_freedom'], y = protests['Days_of_duration'])\n",
        "plt.title('Boxplots for days of duration by degrees of freedom')"
      ]
    },
    {
      "cell_type": "code",
      "execution_count": 110,
      "metadata": {
        "colab": {
          "base_uri": "https://localhost:8080/",
          "height": 423
        },
        "id": "hSFCow6oRcPR",
        "outputId": "6ea9a1fb-0f89-4135-d3a3-3cda651343b1"
      },
      "outputs": [
        {
          "output_type": "execute_result",
          "data": {
            "text/plain": [
              "Text(0.5, 1.0, 'Boxplots for days of duration(between .05 and .95 quantiles) by degrees of freedom')"
            ]
          },
          "metadata": {},
          "execution_count": 110
        },
        {
          "output_type": "display_data",
          "data": {
            "text/plain": [
              "<Figure size 864x432 with 1 Axes>"
            ],
            "image/png": "[encoded data removed]"
          },
          "metadata": {
            "needs_background": "light"
          }
        }
      ],
      "source": [
        "# Убрав верхний и нижний 5% квантили - всё равно видим примерное равенство медиан\n",
        "adjusted = protests[protests['Days_of_duration'].between(protests['Days_of_duration'].quantile(.05),\\\n",
        "                                                      protests['Days_of_duration'].quantile(0.95))]\n",
        "plt.figure(figsize = [12,6]) \n",
        "sns.boxplot(x = adjusted['Degree_of_freedom'], y = adjusted['Days_of_duration'])\n",
        "plt.title('Boxplots for days of duration(between .05 and .95 quantiles) by degrees of freedom')"
      ]
    },
    {
      "cell_type": "code",
      "execution_count": 111,
      "metadata": {
        "colab": {
          "base_uri": "https://localhost:8080/",
          "height": 283
        },
        "id": "GG7nGXZIy8h9",
        "outputId": "4ffa50fc-7fc1-427e-9a5a-ff86528c5e7b"
      },
      "outputs": [
        {
          "output_type": "execute_result",
          "data": {
            "text/plain": [
              "<matplotlib.axes._subplots.AxesSubplot at 0x7fb813ada7d0>"
            ]
          },
          "metadata": {},
          "execution_count": 111
        },
        {
          "output_type": "display_data",
          "data": {
            "text/plain": [
              "<Figure size 432x288 with 1 Axes>"
            ],
            "image/png": "[encoded data removed]"
          },
          "metadata": {
            "needs_background": "light"
          }
        }
      ],
      "source": [
        "# Медианы групп выглядят близкими друг к другу. Заметим. что у несвободных стран коробка больше - дней больше.\n",
        "\n",
        "# проверка на равность медиан, но для начала нужно убедиться. что данные распределены нормально.\n",
        "# даже убрав самый сильный выброс(дней > 2000) - никакой нормальности нет, большинстово протестов, как мы знаем, длятся ~ 30 дней \n",
        "protests[protests['Days_of_duration']<1200]['Days_of_duration'].hist()"
      ]
    },
    {
      "cell_type": "code",
      "execution_count": 112,
      "metadata": {
        "colab": {
          "base_uri": "https://localhost:8080/"
        },
        "id": "INrRrYn9ybIn",
        "outputId": "ebb8afa4-d6cc-441a-f0d7-70fecab16e8d"
      },
      "outputs": [
        {
          "output_type": "execute_result",
          "data": {
            "text/plain": [
              "KruskalResult(statistic=1.6610181106989104, pvalue=0.4358273695884499)"
            ]
          },
          "metadata": {},
          "execution_count": 112
        }
      ],
      "source": [
        "# Поэтому проверим непараметрическим аналогом - Крускал-Уоллис\n",
        "# и убедимся, что нет статистически значимой разницы между тремя группами (anova тоже скажет, что отвегрнуть гипотезу о равенсте нельзя)\n",
        "freedom_1 = protests[protests['Degree_of_freedom'] == 1]['Days_of_duration'].array\n",
        "freedom_2 = protests[protests['Degree_of_freedom'] == 2]['Days_of_duration'].array\n",
        "freedom_3 = protests[protests['Degree_of_freedom'] == 3]['Days_of_duration'].array\n",
        "\n",
        "from scipy.stats import kruskal\n",
        "kruskal(freedom_1, freedom_2, freedom_3)"
      ]
    },
    {
      "cell_type": "code",
      "execution_count": 113,
      "metadata": {
        "colab": {
          "base_uri": "https://localhost:8080/",
          "height": 314
        },
        "id": "7v-8qBjl3kJj",
        "outputId": "e8b5c796-b21f-40fd-f42d-e9134729d811"
      },
      "outputs": [
        {
          "output_type": "execute_result",
          "data": {
            "text/plain": [
              "Text(0.5, 1.0, 'Percentage of violent government response by degree of freedom')"
            ]
          },
          "metadata": {},
          "execution_count": 113
        },
        {
          "output_type": "display_data",
          "data": {
            "text/plain": [
              "<Figure size 432x288 with 1 Axes>"
            ],
            "image/png": "[encoded data removed]"
          },
          "metadata": {
            "needs_background": "light"
          }
        }
      ],
      "source": [
        "# Посмотрим на жёсткий ответ властей в разрезе свободности\n",
        "violent_resp_by_freedom = protests.groupby('Degree_of_freedom')['Violent government response'].mean()\n",
        "sns.barplot(x = violent_resp_by_freedom.index,y =  violent_resp_by_freedom)\n",
        "plt.title('Percentage of violent government response by degree of freedom')"
      ]
    },
    {
      "cell_type": "code",
      "execution_count": 114,
      "metadata": {
        "colab": {
          "base_uri": "https://localhost:8080/",
          "height": 175
        },
        "id": "ukhJVIzO5ztN",
        "outputId": "c112cc97-6034-47ae-845e-f36bf1f554fe"
      },
      "outputs": [
        {
          "output_type": "execute_result",
          "data": {
            "text/plain": [
              "Violent government response   0   1\n",
              "Degree_of_freedom                  \n",
              "1                            62  32\n",
              "2                            89  30\n",
              "3                            81  24"
            ],
            "text/html": [
              "\n",
              "  <div id=\"df-a247fd89-84c4-4ec8-8e23-1090e6731957\">\n",
              "    <div class=\"colab-df-container\">\n",
              "      <div>\n",
              "<style scoped>\n",
              "    .dataframe tbody tr th:only-of-type {\n",
              "        vertical-align: middle;\n",
              "    }\n",
              "\n",
              "    .dataframe tbody tr th {\n",
              "        vertical-align: top;\n",
              "    }\n",
              "\n",
              "    .dataframe thead th {\n",
              "        text-align: right;\n",
              "    }\n",
              "</style>\n",
              "<table border=\"1\" class=\"dataframe\">\n",
              "  <thead>\n",
              "    <tr style=\"text-align: right;\">\n",
              "      <th>Violent government response</th>\n",
              "      <th>0</th>\n",
              "      <th>1</th>\n",
              "    </tr>\n",
              "    <tr>\n",
              "      <th>Degree_of_freedom</th>\n",
              "      <th></th>\n",
              "      <th></th>\n",
              "    </tr>\n",
              "  </thead>\n",
              "  <tbody>\n",
              "    <tr>\n",
              "      <th>1</th>\n",
              "      <td>62</td>\n",
              "      <td>32</td>\n",
              "    </tr>\n",
              "    <tr>\n",
              "      <th>2</th>\n",
              "      <td>89</td>\n",
              "      <td>30</td>\n",
              "    </tr>\n",
              "    <tr>\n",
              "      <th>3</th>\n",
              "      <td>81</td>\n",
              "      <td>24</td>\n",
              "    </tr>\n",
              "  </tbody>\n",
              "</table>\n",
              "</div>\n",
              "      <button class=\"colab-df-convert\" onclick=\"convertToInteractive('df-a247fd89-84c4-4ec8-8e23-1090e6731957')\"\n",
              "              title=\"Convert this dataframe to an interactive table.\"\n",
              "              style=\"display:none;\">\n",
              "        \n",
              "  <svg xmlns=\"http://www.w3.org/2000/svg\" height=\"24px\"viewBox=\"0 0 24 24\"\n",
              "       width=\"24px\">\n",
              "    <path d=\"M0 0h24v24H0V0z\" fill=\"none\"/>\n",
              "    <path d=\"M18.56 5.44l.94 2.06.94-2.06 2.06-.94-2.06-.94-.94-2.06-.94 2.06-2.06.94zm-11 1L8.5 8.5l.94-2.06 2.06-.94-2.06-.94L8.5 2.5l-.94 2.06-2.06.94zm10 10l.94 2.06.94-2.06 2.06-.94-2.06-.94-.94-2.06-.94 2.06-2.06.94z\"/><path d=\"M17.41 7.96l-1.37-1.37c-.4-.4-.92-.59-1.43-.59-.52 0-1.04.2-1.43.59L10.3 9.45l-7.72 7.72c-.78.78-.78 2.05 0 2.83L4 21.41c.39.39.9.59 1.41.59.51 0 1.02-.2 1.41-.59l7.78-7.78 2.81-2.81c.8-.78.8-2.07 0-2.86zM5.41 20L4 18.59l7.72-7.72 1.47 1.35L5.41 20z\"/>\n",
              "  </svg>\n",
              "      </button>\n",
              "      \n",
              "  <style>\n",
              "    .colab-df-container {\n",
              "      display:flex;\n",
              "      flex-wrap:wrap;\n",
              "      gap: 12px;\n",
              "    }\n",
              "\n",
              "    .colab-df-convert {\n",
              "      background-color: #E8F0FE;\n",
              "      border: none;\n",
              "      border-radius: 50%;\n",
              "      cursor: pointer;\n",
              "      display: none;\n",
              "      fill: #1967D2;\n",
              "      height: 32px;\n",
              "      padding: 0 0 0 0;\n",
              "      width: 32px;\n",
              "    }\n",
              "\n",
              "    .colab-df-convert:hover {\n",
              "      background-color: #E2EBFA;\n",
              "      box-shadow: 0px 1px 2px rgba(60, 64, 67, 0.3), 0px 1px 3px 1px rgba(60, 64, 67, 0.15);\n",
              "      fill: #174EA6;\n",
              "    }\n",
              "\n",
              "    [theme=dark] .colab-df-convert {\n",
              "      background-color: #3B4455;\n",
              "      fill: #D2E3FC;\n",
              "    }\n",
              "\n",
              "    [theme=dark] .colab-df-convert:hover {\n",
              "      background-color: #434B5C;\n",
              "      box-shadow: 0px 1px 3px 1px rgba(0, 0, 0, 0.15);\n",
              "      filter: drop-shadow(0px 1px 2px rgba(0, 0, 0, 0.3));\n",
              "      fill: #FFFFFF;\n",
              "    }\n",
              "  </style>\n",
              "\n",
              "      <script>\n",
              "        const buttonEl =\n",
              "          document.querySelector('#df-a247fd89-84c4-4ec8-8e23-1090e6731957 button.colab-df-convert');\n",
              "        buttonEl.style.display =\n",
              "          google.colab.kernel.accessAllowed ? 'block' : 'none';\n",
              "\n",
              "        async function convertToInteractive(key) {\n",
              "          const element = document.querySelector('#df-a247fd89-84c4-4ec8-8e23-1090e6731957');\n",
              "          const dataTable =\n",
              "            await google.colab.kernel.invokeFunction('convertToInteractive',\n",
              "                                                     [key], {});\n",
              "          if (!dataTable) return;\n",
              "\n",
              "          const docLinkHtml = 'Like what you see? Visit the ' +\n",
              "            '<a target=\"_blank\" href=https://colab.research.google.com/notebooks/data_table.ipynb>data table notebook</a>'\n",
              "            + ' to learn more about interactive tables.';\n",
              "          element.innerHTML = '';\n",
              "          dataTable['output_type'] = 'display_data';\n",
              "          await google.colab.output.renderOutput(dataTable, element);\n",
              "          const docLink = document.createElement('div');\n",
              "          docLink.innerHTML = docLinkHtml;\n",
              "          element.appendChild(docLink);\n",
              "        }\n",
              "      </script>\n",
              "    </div>\n",
              "  </div>\n",
              "  "
            ]
          },
          "metadata": {},
          "execution_count": 114
        }
      ],
      "source": [
        "# Примечательный факт номер 1- в свободных странах процент протестов с жёстким подавлением выше(сразу задумываешься о критериях жестокости)\n",
        "# Проверим, есть ли статистическая разница с помощью таблицы сопряжённости хи-квадрат\n",
        "violence_by_freedom = protests.groupby(['Degree_of_freedom','Violent government response']).size().unstack(fill_value=0)\n",
        "violence_by_freedom"
      ]
    },
    {
      "cell_type": "code",
      "execution_count": 115,
      "metadata": {
        "colab": {
          "base_uri": "https://localhost:8080/"
        },
        "id": "9qpZTRQe6dHZ",
        "outputId": "c1209d81-f59b-47dd-a152-468ae3393296"
      },
      "outputs": [
        {
          "output_type": "execute_result",
          "data": {
            "text/plain": [
              "(3.469269267877089, 0.17646466270823208, 2, array([[68.57861635, 25.42138365],\n",
              "        [86.81761006, 32.18238994],\n",
              "        [76.60377358, 28.39622642]]))"
            ]
          },
          "metadata": {},
          "execution_count": 115
        }
      ],
      "source": [
        "# Прримечательный факт номер 2 - статистически значимой разницы нет.\n",
        "# P-value в итоге всё равно довольно высокий и нулевую гипотезу о равенстве отвергнуть нельзя,\n",
        "# но будем иметь в виду некоторую разницу по количеству жёстких ответов между свободными странами  и двумя другими группами\n",
        "from scipy.stats import chi2_contingency\n",
        "chi2_contingency(violence_by_freedom.values)"
      ]
    },
    {
      "cell_type": "code",
      "execution_count": 116,
      "metadata": {
        "colab": {
          "base_uri": "https://localhost:8080/",
          "height": 314
        },
        "id": "p584GANWBPyc",
        "outputId": "b2166cf7-65c4-4908-e540-aeade594e5ab"
      },
      "outputs": [
        {
          "output_type": "execute_result",
          "data": {
            "text/plain": [
              "Text(0.5, 1.0, 'Number of protests by types of participants and degreesof freedom')"
            ]
          },
          "metadata": {},
          "execution_count": 116
        },
        {
          "output_type": "display_data",
          "data": {
            "text/plain": [
              "<Figure size 432x288 with 1 Axes>"
            ],
            "image/png": "[encoded data removed]"
          },
          "metadata": {
            "needs_background": "light"
          }
        }
      ],
      "source": [
        "# отличаются ли типы участников по количеству протестов и свободности страны?\n",
        "# независимо от свободности страны, мы видим очень похожие количества типов участников. \n",
        "participants_by_freedom = protests.groupby('Degree_of_freedom')['Type_of_partitipants'].value_counts().reset_index(name = 'count')\n",
        "sns.barplot(hue = participants_by_freedom['Degree_of_freedom'], y = participants_by_freedom['count'],\\\n",
        "            x = participants_by_freedom['Type_of_partitipants'])\n",
        "plt.title('Number of protests by types of participants and degreesof freedom')"
      ]
    },
    {
      "cell_type": "code",
      "execution_count": 117,
      "metadata": {
        "colab": {
          "base_uri": "https://localhost:8080/",
          "height": 175
        },
        "id": "_6sJnTbH9WPi",
        "outputId": "25d929ab-34c9-4b59-ec62-4392a2ecd7d6"
      },
      "outputs": [
        {
          "output_type": "execute_result",
          "data": {
            "text/plain": [
              "Type_of_partitipants   1   2   3\n",
              "Degree_of_freedom               \n",
              "1                     39  14  41\n",
              "2                     45  19  55\n",
              "3                     40  18  47"
            ],
            "text/html": [
              "\n",
              "  <div id=\"df-c7c85b18-3358-4f78-93d3-62858a1d9b23\">\n",
              "    <div class=\"colab-df-container\">\n",
              "      <div>\n",
              "<style scoped>\n",
              "    .dataframe tbody tr th:only-of-type {\n",
              "        vertical-align: middle;\n",
              "    }\n",
              "\n",
              "    .dataframe tbody tr th {\n",
              "        vertical-align: top;\n",
              "    }\n",
              "\n",
              "    .dataframe thead th {\n",
              "        text-align: right;\n",
              "    }\n",
              "</style>\n",
              "<table border=\"1\" class=\"dataframe\">\n",
              "  <thead>\n",
              "    <tr style=\"text-align: right;\">\n",
              "      <th>Type_of_partitipants</th>\n",
              "      <th>1</th>\n",
              "      <th>2</th>\n",
              "      <th>3</th>\n",
              "    </tr>\n",
              "    <tr>\n",
              "      <th>Degree_of_freedom</th>\n",
              "      <th></th>\n",
              "      <th></th>\n",
              "      <th></th>\n",
              "    </tr>\n",
              "  </thead>\n",
              "  <tbody>\n",
              "    <tr>\n",
              "      <th>1</th>\n",
              "      <td>39</td>\n",
              "      <td>14</td>\n",
              "      <td>41</td>\n",
              "    </tr>\n",
              "    <tr>\n",
              "      <th>2</th>\n",
              "      <td>45</td>\n",
              "      <td>19</td>\n",
              "      <td>55</td>\n",
              "    </tr>\n",
              "    <tr>\n",
              "      <th>3</th>\n",
              "      <td>40</td>\n",
              "      <td>18</td>\n",
              "      <td>47</td>\n",
              "    </tr>\n",
              "  </tbody>\n",
              "</table>\n",
              "</div>\n",
              "      <button class=\"colab-df-convert\" onclick=\"convertToInteractive('df-c7c85b18-3358-4f78-93d3-62858a1d9b23')\"\n",
              "              title=\"Convert this dataframe to an interactive table.\"\n",
              "              style=\"display:none;\">\n",
              "        \n",
              "  <svg xmlns=\"http://www.w3.org/2000/svg\" height=\"24px\"viewBox=\"0 0 24 24\"\n",
              "       width=\"24px\">\n",
              "    <path d=\"M0 0h24v24H0V0z\" fill=\"none\"/>\n",
              "    <path d=\"M18.56 5.44l.94 2.06.94-2.06 2.06-.94-2.06-.94-.94-2.06-.94 2.06-2.06.94zm-11 1L8.5 8.5l.94-2.06 2.06-.94-2.06-.94L8.5 2.5l-.94 2.06-2.06.94zm10 10l.94 2.06.94-2.06 2.06-.94-2.06-.94-.94-2.06-.94 2.06-2.06.94z\"/><path d=\"M17.41 7.96l-1.37-1.37c-.4-.4-.92-.59-1.43-.59-.52 0-1.04.2-1.43.59L10.3 9.45l-7.72 7.72c-.78.78-.78 2.05 0 2.83L4 21.41c.39.39.9.59 1.41.59.51 0 1.02-.2 1.41-.59l7.78-7.78 2.81-2.81c.8-.78.8-2.07 0-2.86zM5.41 20L4 18.59l7.72-7.72 1.47 1.35L5.41 20z\"/>\n",
              "  </svg>\n",
              "      </button>\n",
              "      \n",
              "  <style>\n",
              "    .colab-df-container {\n",
              "      display:flex;\n",
              "      flex-wrap:wrap;\n",
              "      gap: 12px;\n",
              "    }\n",
              "\n",
              "    .colab-df-convert {\n",
              "      background-color: #E8F0FE;\n",
              "      border: none;\n",
              "      border-radius: 50%;\n",
              "      cursor: pointer;\n",
              "      display: none;\n",
              "      fill: #1967D2;\n",
              "      height: 32px;\n",
              "      padding: 0 0 0 0;\n",
              "      width: 32px;\n",
              "    }\n",
              "\n",
              "    .colab-df-convert:hover {\n",
              "      background-color: #E2EBFA;\n",
              "      box-shadow: 0px 1px 2px rgba(60, 64, 67, 0.3), 0px 1px 3px 1px rgba(60, 64, 67, 0.15);\n",
              "      fill: #174EA6;\n",
              "    }\n",
              "\n",
              "    [theme=dark] .colab-df-convert {\n",
              "      background-color: #3B4455;\n",
              "      fill: #D2E3FC;\n",
              "    }\n",
              "\n",
              "    [theme=dark] .colab-df-convert:hover {\n",
              "      background-color: #434B5C;\n",
              "      box-shadow: 0px 1px 3px 1px rgba(0, 0, 0, 0.15);\n",
              "      filter: drop-shadow(0px 1px 2px rgba(0, 0, 0, 0.3));\n",
              "      fill: #FFFFFF;\n",
              "    }\n",
              "  </style>\n",
              "\n",
              "      <script>\n",
              "        const buttonEl =\n",
              "          document.querySelector('#df-c7c85b18-3358-4f78-93d3-62858a1d9b23 button.colab-df-convert');\n",
              "        buttonEl.style.display =\n",
              "          google.colab.kernel.accessAllowed ? 'block' : 'none';\n",
              "\n",
              "        async function convertToInteractive(key) {\n",
              "          const element = document.querySelector('#df-c7c85b18-3358-4f78-93d3-62858a1d9b23');\n",
              "          const dataTable =\n",
              "            await google.colab.kernel.invokeFunction('convertToInteractive',\n",
              "                                                     [key], {});\n",
              "          if (!dataTable) return;\n",
              "\n",
              "          const docLinkHtml = 'Like what you see? Visit the ' +\n",
              "            '<a target=\"_blank\" href=https://colab.research.google.com/notebooks/data_table.ipynb>data table notebook</a>'\n",
              "            + ' to learn more about interactive tables.';\n",
              "          element.innerHTML = '';\n",
              "          dataTable['output_type'] = 'display_data';\n",
              "          await google.colab.output.renderOutput(dataTable, element);\n",
              "          const docLink = document.createElement('div');\n",
              "          docLink.innerHTML = docLinkHtml;\n",
              "          element.appendChild(docLink);\n",
              "        }\n",
              "      </script>\n",
              "    </div>\n",
              "  </div>\n",
              "  "
            ]
          },
          "metadata": {},
          "execution_count": 117
        }
      ],
      "source": [
        "# таблица сопряжённости и p-value подтверждают, что нет статистически начимой разницы между странами по степени их свободы и типам участников\n",
        "participants_by_freedom = protests.groupby(['Degree_of_freedom','Type_of_partitipants']).size().unstack(fill_value=0)\n",
        "participants_by_freedom"
      ]
    },
    {
      "cell_type": "code",
      "execution_count": 118,
      "metadata": {
        "colab": {
          "base_uri": "https://localhost:8080/"
        },
        "id": "CuM7uUrl_hY7",
        "outputId": "5034a0cd-dfa3-45c0-c165-1180cf97d3c7"
      },
      "outputs": [
        {
          "output_type": "execute_result",
          "data": {
            "text/plain": [
              "(0.4518538552498228,\n",
              " 0.9780155647949413,\n",
              " 4,\n",
              " array([[36.65408805, 15.0754717 , 42.27044025],\n",
              "        [46.40251572, 19.08490566, 53.51257862],\n",
              "        [40.94339623, 16.83962264, 47.21698113]]))"
            ]
          },
          "metadata": {},
          "execution_count": 118
        }
      ],
      "source": [
        "chi2_contingency(participants_by_freedom.values)"
      ]
    },
    {
      "cell_type": "code",
      "execution_count": 119,
      "metadata": {
        "colab": {
          "base_uri": "https://localhost:8080/",
          "height": 175
        },
        "id": "QqrmdJP_29Q9",
        "outputId": "a2263dc9-21ed-42d9-d411-08ca766473be"
      },
      "outputs": [
        {
          "output_type": "execute_result",
          "data": {
            "text/plain": [
              "                   Economic motivation?  Political motivation?  \\\n",
              "Degree_of_freedom                                                \n",
              "1                              0.393617               0.851064   \n",
              "2                              0.361345               0.899160   \n",
              "3                              0.333333               0.847619   \n",
              "\n",
              "                   Corruption motivation?  \n",
              "Degree_of_freedom                          \n",
              "1                                0.244681  \n",
              "2                                0.210084  \n",
              "3                                0.152381  "
            ],
            "text/html": [
              "\n",
              "  <div id=\"df-5df0ceab-5bdf-4bbc-85a1-851f3d662327\">\n",
              "    <div class=\"colab-df-container\">\n",
              "      <div>\n",
              "<style scoped>\n",
              "    .dataframe tbody tr th:only-of-type {\n",
              "        vertical-align: middle;\n",
              "    }\n",
              "\n",
              "    .dataframe tbody tr th {\n",
              "        vertical-align: top;\n",
              "    }\n",
              "\n",
              "    .dataframe thead th {\n",
              "        text-align: right;\n",
              "    }\n",
              "</style>\n",
              "<table border=\"1\" class=\"dataframe\">\n",
              "  <thead>\n",
              "    <tr style=\"text-align: right;\">\n",
              "      <th></th>\n",
              "      <th>Economic motivation?</th>\n",
              "      <th>Political motivation?</th>\n",
              "      <th>Corruption motivation?</th>\n",
              "    </tr>\n",
              "    <tr>\n",
              "      <th>Degree_of_freedom</th>\n",
              "      <th></th>\n",
              "      <th></th>\n",
              "      <th></th>\n",
              "    </tr>\n",
              "  </thead>\n",
              "  <tbody>\n",
              "    <tr>\n",
              "      <th>1</th>\n",
              "      <td>0.393617</td>\n",
              "      <td>0.851064</td>\n",
              "      <td>0.244681</td>\n",
              "    </tr>\n",
              "    <tr>\n",
              "      <th>2</th>\n",
              "      <td>0.361345</td>\n",
              "      <td>0.899160</td>\n",
              "      <td>0.210084</td>\n",
              "    </tr>\n",
              "    <tr>\n",
              "      <th>3</th>\n",
              "      <td>0.333333</td>\n",
              "      <td>0.847619</td>\n",
              "      <td>0.152381</td>\n",
              "    </tr>\n",
              "  </tbody>\n",
              "</table>\n",
              "</div>\n",
              "      <button class=\"colab-df-convert\" onclick=\"convertToInteractive('df-5df0ceab-5bdf-4bbc-85a1-851f3d662327')\"\n",
              "              title=\"Convert this dataframe to an interactive table.\"\n",
              "              style=\"display:none;\">\n",
              "        \n",
              "  <svg xmlns=\"http://www.w3.org/2000/svg\" height=\"24px\"viewBox=\"0 0 24 24\"\n",
              "       width=\"24px\">\n",
              "    <path d=\"M0 0h24v24H0V0z\" fill=\"none\"/>\n",
              "    <path d=\"M18.56 5.44l.94 2.06.94-2.06 2.06-.94-2.06-.94-.94-2.06-.94 2.06-2.06.94zm-11 1L8.5 8.5l.94-2.06 2.06-.94-2.06-.94L8.5 2.5l-.94 2.06-2.06.94zm10 10l.94 2.06.94-2.06 2.06-.94-2.06-.94-.94-2.06-.94 2.06-2.06.94z\"/><path d=\"M17.41 7.96l-1.37-1.37c-.4-.4-.92-.59-1.43-.59-.52 0-1.04.2-1.43.59L10.3 9.45l-7.72 7.72c-.78.78-.78 2.05 0 2.83L4 21.41c.39.39.9.59 1.41.59.51 0 1.02-.2 1.41-.59l7.78-7.78 2.81-2.81c.8-.78.8-2.07 0-2.86zM5.41 20L4 18.59l7.72-7.72 1.47 1.35L5.41 20z\"/>\n",
              "  </svg>\n",
              "      </button>\n",
              "      \n",
              "  <style>\n",
              "    .colab-df-container {\n",
              "      display:flex;\n",
              "      flex-wrap:wrap;\n",
              "      gap: 12px;\n",
              "    }\n",
              "\n",
              "    .colab-df-convert {\n",
              "      background-color: #E8F0FE;\n",
              "      border: none;\n",
              "      border-radius: 50%;\n",
              "      cursor: pointer;\n",
              "      display: none;\n",
              "      fill: #1967D2;\n",
              "      height: 32px;\n",
              "      padding: 0 0 0 0;\n",
              "      width: 32px;\n",
              "    }\n",
              "\n",
              "    .colab-df-convert:hover {\n",
              "      background-color: #E2EBFA;\n",
              "      box-shadow: 0px 1px 2px rgba(60, 64, 67, 0.3), 0px 1px 3px 1px rgba(60, 64, 67, 0.15);\n",
              "      fill: #174EA6;\n",
              "    }\n",
              "\n",
              "    [theme=dark] .colab-df-convert {\n",
              "      background-color: #3B4455;\n",
              "      fill: #D2E3FC;\n",
              "    }\n",
              "\n",
              "    [theme=dark] .colab-df-convert:hover {\n",
              "      background-color: #434B5C;\n",
              "      box-shadow: 0px 1px 3px 1px rgba(0, 0, 0, 0.15);\n",
              "      filter: drop-shadow(0px 1px 2px rgba(0, 0, 0, 0.3));\n",
              "      fill: #FFFFFF;\n",
              "    }\n",
              "  </style>\n",
              "\n",
              "      <script>\n",
              "        const buttonEl =\n",
              "          document.querySelector('#df-5df0ceab-5bdf-4bbc-85a1-851f3d662327 button.colab-df-convert');\n",
              "        buttonEl.style.display =\n",
              "          google.colab.kernel.accessAllowed ? 'block' : 'none';\n",
              "\n",
              "        async function convertToInteractive(key) {\n",
              "          const element = document.querySelector('#df-5df0ceab-5bdf-4bbc-85a1-851f3d662327');\n",
              "          const dataTable =\n",
              "            await google.colab.kernel.invokeFunction('convertToInteractive',\n",
              "                                                     [key], {});\n",
              "          if (!dataTable) return;\n",
              "\n",
              "          const docLinkHtml = 'Like what you see? Visit the ' +\n",
              "            '<a target=\"_blank\" href=https://colab.research.google.com/notebooks/data_table.ipynb>data table notebook</a>'\n",
              "            + ' to learn more about interactive tables.';\n",
              "          element.innerHTML = '';\n",
              "          dataTable['output_type'] = 'display_data';\n",
              "          await google.colab.output.renderOutput(dataTable, element);\n",
              "          const docLink = document.createElement('div');\n",
              "          docLink.innerHTML = docLinkHtml;\n",
              "          element.appendChild(docLink);\n",
              "        }\n",
              "      </script>\n",
              "    </div>\n",
              "  </div>\n",
              "  "
            ]
          },
          "metadata": {},
          "execution_count": 119
        }
      ],
      "source": [
        "# типы мотиваций в процентах по уровню свободы\n",
        "# Заметим, что в свободных странах протестов по экономическим и коррупционным причинам заметно больше, чем в несвободных.\n",
        "protests.groupby('Degree_of_freedom')[['Economic motivation?',\n",
        "       'Political motivation?', 'Corruption motivation?']].mean()"
      ]
    },
    {
      "cell_type": "markdown",
      "metadata": {
        "id": "0Ne94BQ7wahg"
      },
      "source": [
        "Итоги: Для предсказания успешности протеста уровень свободы страны незначим.\n",
        "\n",
        "Единственное сильное отличие между странами, разделёнными по уровню свободы, которое можно обнаружить в данных - размер протеста как в абсолютных величинах, так и как отношение к размеру народонаселения. В частично свободных странах он значительно выше (абсолютные: ~ 120 тысяч протестующих в среднем против < 60 тысяч в свободных и < 40 тысяч в несвободных; относительные: среднее size/population у частично свободных в 10 раз выше, чем у двух других групп). Но это различие существует только благодаря сильным выбросам в значениях у частично свободных стран. "
      ]
    },
    {
      "cell_type": "markdown",
      "metadata": {
        "id": "KmuSdjHroTHe"
      },
      "source": [
        "# Новый раздел"
      ]
    },
    {
      "cell_type": "markdown",
      "metadata": {
        "id": "G9YzHNcP2idO"
      },
      "source": [
        "# Успешность протеста"
      ]
    },
    {
      "cell_type": "code",
      "execution_count": 120,
      "metadata": {
        "colab": {
          "base_uri": "https://localhost:8080/",
          "height": 491
        },
        "id": "E8SBd5f8-4F5",
        "outputId": "df7c9fcd-0274-4ff3-b293-20da7134d65d"
      },
      "outputs": [
        {
          "output_type": "execute_result",
          "data": {
            "text/plain": [
              "<matplotlib.axes._subplots.AxesSubplot at 0x7fb8137dcb50>"
            ]
          },
          "metadata": {},
          "execution_count": 120
        },
        {
          "output_type": "display_data",
          "data": {
            "text/plain": [
              "<Figure size 720x360 with 1 Axes>"
            ],
            "image/png": "[encoded data removed]"
          },
          "metadata": {
            "needs_background": "light"
          }
        }
      ],
      "source": [
        "predictors = protests[[ 'Days_of_duration',\n",
        "       'Type_of_partitipants', 'Degree_of_freedom', 'Size_in_1000','Violent government response','Economic motivation?',\n",
        "       'Political motivation?', 'Corruption motivation?', 'Protest/population_ratio']]\n",
        "target = protests['Protests with a significant outcome']\n",
        "\n",
        "predictors.corrwith(target).plot.bar(figsize = (10, 5), title = \"Correlation with Target\", fontsize = 10,grid = True)"
      ]
    },
    {
      "cell_type": "code",
      "execution_count": 121,
      "metadata": {
        "colab": {
          "base_uri": "https://localhost:8080/"
        },
        "id": "yWGT6IFA2l7L",
        "outputId": "347c3482-7fea-442c-f883-88509e0d0bf0"
      },
      "outputs": [
        {
          "output_type": "execute_result",
          "data": {
            "text/plain": [
              "Index(['Country', 'Protest Name', 'Start Date', 'Freedom Rating (Status)',\n",
              "       'Triggers', 'Motivations', 'Peak Size', 'Key Participants', 'Duration',\n",
              "       'Outcomes', 'Active protests', 'Economic motivation?',\n",
              "       'Political motivation?', 'Corruption motivation?', 'Size category',\n",
              "       'Protests with a significant outcome',\n",
              "       'Large protests (Over 100,000 protesting)',\n",
              "       'Violent government response', 'Long protests (more than 3 months)',\n",
              "       'Coronavirus-related protests', 'Capital city', 'Days_of_duration',\n",
              "       'Type_of_partitipants', 'Degree_of_freedom', 'Size_in_1000',\n",
              "       'Population_in_1000', 'Protest/population_ratio'],\n",
              "      dtype='object')"
            ]
          },
          "metadata": {},
          "execution_count": 121
        }
      ],
      "source": [
        "protests.columns"
      ]
    },
    {
      "cell_type": "code",
      "execution_count": 122,
      "metadata": {
        "colab": {
          "base_uri": "https://localhost:8080/"
        },
        "id": "0OQ13260jLft",
        "outputId": "f1927547-c93b-4afb-e535-55903a5047cb"
      },
      "outputs": [
        {
          "output_type": "execute_result",
          "data": {
            "text/plain": [
              "Protests with a significant outcome\n",
              "0    108.744395\n",
              "1    119.568421\n",
              "Name: Days_of_duration, dtype: float64"
            ]
          },
          "metadata": {},
          "execution_count": 122
        }
      ],
      "source": [
        "protests.groupby('Protests with a significant outcome')['Days_of_duration'].mean()"
      ]
    },
    {
      "cell_type": "code",
      "execution_count": 123,
      "metadata": {
        "colab": {
          "base_uri": "https://localhost:8080/"
        },
        "id": "8ERVzJDmjaxM",
        "outputId": "6d0073bb-3d93-47af-e6bc-011584c48bf8"
      },
      "outputs": [
        {
          "output_type": "execute_result",
          "data": {
            "text/plain": [
              "Protests with a significant outcome\n",
              "0    2.0\n",
              "1    2.2\n",
              "Name: Type_of_partitipants, dtype: float64"
            ]
          },
          "metadata": {},
          "execution_count": 123
        }
      ],
      "source": [
        "protests.groupby('Protests with a significant outcome')['Type_of_partitipants'].mean()"
      ]
    },
    {
      "cell_type": "code",
      "execution_count": 124,
      "metadata": {
        "colab": {
          "base_uri": "https://localhost:8080/",
          "height": 311
        },
        "id": "8G6BXQ670SRX",
        "outputId": "3d3798a1-d412-440d-9bac-e4c5379b64ea"
      },
      "outputs": [
        {
          "output_type": "execute_result",
          "data": {
            "text/plain": [
              "Text(0.5, 1.0, 'Protest outcome by types_of_partitipants')"
            ]
          },
          "metadata": {},
          "execution_count": 124
        },
        {
          "output_type": "display_data",
          "data": {
            "text/plain": [
              "<Figure size 432x288 with 1 Axes>"
            ],
            "image/png": "[encoded data removed]"
          },
          "metadata": {
            "needs_background": "light"
          }
        }
      ],
      "source": [
        "pd.crosstab(protests['Type_of_partitipants'], protests['Protests with a significant outcome']).plot(kind = 'bar')\n",
        "plt.ylabel('Number of protests')\n",
        "plt.title('Protest outcome by types_of_partitipants')"
      ]
    },
    {
      "cell_type": "code",
      "execution_count": 125,
      "metadata": {
        "colab": {
          "base_uri": "https://localhost:8080/"
        },
        "id": "SaDJoFvzjnqt",
        "outputId": "66c5bdb8-4930-4a99-a859-c79d567620fc"
      },
      "outputs": [
        {
          "output_type": "execute_result",
          "data": {
            "text/plain": [
              "Protests with a significant outcome\n",
              "0    1.520179\n",
              "1    1.821053\n",
              "Name: Size_in_1000, dtype: float64"
            ]
          },
          "metadata": {},
          "execution_count": 125
        }
      ],
      "source": [
        "protests.groupby('Protests with a significant outcome')['Size_in_1000'].mean()"
      ]
    },
    {
      "cell_type": "code",
      "execution_count": 126,
      "metadata": {
        "colab": {
          "base_uri": "https://localhost:8080/"
        },
        "id": "o2BFMPVnjuZX",
        "outputId": "6ff9dba0-1813-4bd9-82d7-e8c0e5f9bb0c"
      },
      "outputs": [
        {
          "output_type": "execute_result",
          "data": {
            "text/plain": [
              "Protests with a significant outcome\n",
              "0    0.000274\n",
              "1    0.000159\n",
              "Name: Protest/population_ratio, dtype: float64"
            ]
          },
          "metadata": {},
          "execution_count": 126
        }
      ],
      "source": [
        "protests.groupby('Protests with a significant outcome')['Protest/population_ratio'].mean()"
      ]
    },
    {
      "cell_type": "code",
      "execution_count": 127,
      "metadata": {
        "colab": {
          "base_uri": "https://localhost:8080/"
        },
        "id": "zLz-LB9lj4rR",
        "outputId": "4de7eb66-f0b6-4bac-aa0f-3185f98dbd31"
      },
      "outputs": [
        {
          "output_type": "execute_result",
          "data": {
            "text/plain": [
              "Protests with a significant outcome\n",
              "0     85531.215247\n",
              "1    109823.010526\n",
              "Name: Population_in_1000, dtype: float64"
            ]
          },
          "metadata": {},
          "execution_count": 127
        }
      ],
      "source": [
        "protests.groupby('Protests with a significant outcome')['Population_in_1000'].mean()"
      ]
    },
    {
      "cell_type": "code",
      "execution_count": 128,
      "metadata": {
        "colab": {
          "base_uri": "https://localhost:8080/"
        },
        "id": "bo2ojEUfkCl7",
        "outputId": "1532ae67-13f7-453c-e06a-8be7dc3a0d9d"
      },
      "outputs": [
        {
          "output_type": "execute_result",
          "data": {
            "text/plain": [
              "Protests with a significant outcome\n",
              "0    0.255605\n",
              "1    0.305263\n",
              "Name: Violent government response, dtype: float64"
            ]
          },
          "metadata": {},
          "execution_count": 128
        }
      ],
      "source": [
        "protests.groupby('Protests with a significant outcome')['Violent government response'].mean()"
      ]
    },
    {
      "cell_type": "code",
      "execution_count": 129,
      "metadata": {
        "colab": {
          "base_uri": "https://localhost:8080/",
          "height": 310
        },
        "id": "_PJzMIR01BIU",
        "outputId": "e36f70ae-1937-4513-d9a1-a853bad2d998"
      },
      "outputs": [
        {
          "output_type": "execute_result",
          "data": {
            "text/plain": [
              "Text(0.5, 1.0, 'Protest outcome by Violent government response')"
            ]
          },
          "metadata": {},
          "execution_count": 129
        },
        {
          "output_type": "display_data",
          "data": {
            "text/plain": [
              "<Figure size 432x288 with 1 Axes>"
            ],
            "image/png": "[encoded data removed]"
          },
          "metadata": {
            "needs_background": "light"
          }
        }
      ],
      "source": [
        "pd.crosstab(protests['Violent government response'], protests['Protests with a significant outcome']).plot(kind = 'bar')\n",
        "plt.ylabel('Number of protests')\n",
        "plt.title('Protest outcome by Violent government response')"
      ]
    },
    {
      "cell_type": "code",
      "execution_count": 130,
      "metadata": {
        "colab": {
          "base_uri": "https://localhost:8080/"
        },
        "id": "2V9cyJrxkyRC",
        "outputId": "7f6bdb09-424e-477f-a292-1f3691a2aec5"
      },
      "outputs": [
        {
          "output_type": "execute_result",
          "data": {
            "text/plain": [
              "Protests with a significant outcome  Degree_of_freedom\n",
              "0                                    1                    0.000089\n",
              "                                     2                    0.000475\n",
              "                                     3                    0.000208\n",
              "1                                    1                    0.000128\n",
              "                                     2                    0.000211\n",
              "                                     3                    0.000129\n",
              "Name: Protest/population_ratio, dtype: float64"
            ]
          },
          "metadata": {},
          "execution_count": 130
        }
      ],
      "source": [
        "protests.groupby(['Protests with a significant outcome', 'Degree_of_freedom'])['Protest/population_ratio'].mean()"
      ]
    },
    {
      "cell_type": "code",
      "execution_count": 131,
      "metadata": {
        "colab": {
          "base_uri": "https://localhost:8080/"
        },
        "id": "HVfZHPn1mVXh",
        "outputId": "c1581ce7-e954-49a7-d2da-b2f5f2dc9391"
      },
      "outputs": [
        {
          "output_type": "execute_result",
          "data": {
            "text/plain": [
              "Protests with a significant outcome  Degree_of_freedom\n",
              "0                                    1                    1.938462\n",
              "                                     2                    1.988095\n",
              "                                     3                    2.067568\n",
              "1                                    1                    2.206897\n",
              "                                     2                    2.314286\n",
              "                                     3                    2.064516\n",
              "Name: Type_of_partitipants, dtype: float64"
            ]
          },
          "metadata": {},
          "execution_count": 131
        }
      ],
      "source": [
        "protests.groupby(['Protests with a significant outcome', 'Degree_of_freedom'])['Type_of_partitipants'].mean()"
      ]
    },
    {
      "cell_type": "code",
      "execution_count": 132,
      "metadata": {
        "colab": {
          "base_uri": "https://localhost:8080/"
        },
        "id": "Wa2PnVMyy30k",
        "outputId": "35af7a4c-0731-4971-eb6d-017b38ccf679"
      },
      "outputs": [
        {
          "output_type": "execute_result",
          "data": {
            "text/plain": [
              "Protests with a significant outcome\n",
              "0    0.892377\n",
              "1    0.810526\n",
              "Name: Political motivation?, dtype: float64"
            ]
          },
          "metadata": {},
          "execution_count": 132
        }
      ],
      "source": [
        "protests.groupby('Protests with a significant outcome')['Political motivation?'].mean()"
      ]
    },
    {
      "cell_type": "code",
      "execution_count": 133,
      "metadata": {
        "colab": {
          "base_uri": "https://localhost:8080/",
          "height": 310
        },
        "id": "1-qUMcKX1Ysj",
        "outputId": "1f686ef5-371d-48f8-a3fb-000b758fe9c9"
      },
      "outputs": [
        {
          "output_type": "execute_result",
          "data": {
            "text/plain": [
              "Text(0.5, 1.0, 'Protest outcome by political motivation')"
            ]
          },
          "metadata": {},
          "execution_count": 133
        },
        {
          "output_type": "display_data",
          "data": {
            "text/plain": [
              "<Figure size 432x288 with 1 Axes>"
            ],
            "image/png": "[encoded data removed]"
          },
          "metadata": {
            "needs_background": "light"
          }
        }
      ],
      "source": [
        "pd.crosstab(protests['Political motivation?'], protests['Protests with a significant outcome']).plot(kind = 'bar')\n",
        "plt.ylabel('Number of protests')\n",
        "plt.title('Protest outcome by political motivation')"
      ]
    },
    {
      "cell_type": "code",
      "execution_count": 134,
      "metadata": {
        "colab": {
          "base_uri": "https://localhost:8080/"
        },
        "id": "CkwptZddzCug",
        "outputId": "8becd30e-a27f-4cbc-eb0a-352d89352a03"
      },
      "outputs": [
        {
          "output_type": "execute_result",
          "data": {
            "text/plain": [
              "Protests with a significant outcome\n",
              "0    0.327354\n",
              "1    0.442105\n",
              "Name: Economic motivation?, dtype: float64"
            ]
          },
          "metadata": {},
          "execution_count": 134
        }
      ],
      "source": [
        "protests.groupby('Protests with a significant outcome')['Economic motivation?'].mean()"
      ]
    },
    {
      "cell_type": "code",
      "execution_count": 135,
      "metadata": {
        "colab": {
          "base_uri": "https://localhost:8080/",
          "height": 310
        },
        "id": "z6eaxZHI1sPQ",
        "outputId": "dde57569-b4c9-4ed9-b479-5fe6f4765d54"
      },
      "outputs": [
        {
          "output_type": "execute_result",
          "data": {
            "text/plain": [
              "Text(0.5, 1.0, 'Protest outcome by economic motivation')"
            ]
          },
          "metadata": {},
          "execution_count": 135
        },
        {
          "output_type": "display_data",
          "data": {
            "text/plain": [
              "<Figure size 432x288 with 1 Axes>"
            ],
            "image/png": "[encoded data removed]"
          },
          "metadata": {
            "needs_background": "light"
          }
        }
      ],
      "source": [
        "pd.crosstab(protests['Economic motivation?'], protests['Protests with a significant outcome']).plot(kind = 'bar')\n",
        "plt.ylabel('Number of protests')\n",
        "plt.title('Protest outcome by economic motivation')"
      ]
    },
    {
      "cell_type": "code",
      "execution_count": 136,
      "metadata": {
        "colab": {
          "base_uri": "https://localhost:8080/"
        },
        "id": "ySaxpcS7zGKn",
        "outputId": "f4500d3d-4050-4778-d6ba-c77de3e1bf5d"
      },
      "outputs": [
        {
          "output_type": "execute_result",
          "data": {
            "text/plain": [
              "Protests with a significant outcome\n",
              "0    0.161435\n",
              "1    0.294737\n",
              "Name: Corruption motivation?, dtype: float64"
            ]
          },
          "metadata": {},
          "execution_count": 136
        }
      ],
      "source": [
        "protests.groupby('Protests with a significant outcome')['Corruption motivation?'].mean()"
      ]
    },
    {
      "cell_type": "code",
      "execution_count": 137,
      "metadata": {
        "colab": {
          "base_uri": "https://localhost:8080/",
          "height": 310
        },
        "id": "C0UWIsrI2FZ_",
        "outputId": "33b219ad-b3cd-4d67-dd36-0aecc7c6e84f"
      },
      "outputs": [
        {
          "output_type": "execute_result",
          "data": {
            "text/plain": [
              "Text(0.5, 1.0, 'Protest outcome by corruption motivation')"
            ]
          },
          "metadata": {},
          "execution_count": 137
        },
        {
          "output_type": "display_data",
          "data": {
            "text/plain": [
              "<Figure size 432x288 with 1 Axes>"
            ],
            "image/png": "[encoded data removed]"
          },
          "metadata": {
            "needs_background": "light"
          }
        }
      ],
      "source": [
        "pd.crosstab(protests['Corruption motivation?'], protests['Protests with a significant outcome']).plot(kind = 'bar')\n",
        "plt.ylabel('Number of protests')\n",
        "plt.title('Protest outcome by corruption motivation')"
      ]
    },
    {
      "cell_type": "markdown",
      "metadata": {
        "id": "bKbZ8E-ex5A4"
      },
      "source": [
        "# Модель"
      ]
    },
    {
      "cell_type": "code",
      "execution_count": 138,
      "metadata": {
        "colab": {
          "base_uri": "https://localhost:8080/"
        },
        "id": "YugvAI9Hx65Y",
        "outputId": "a88d3b08-b22b-480c-99a8-c2be7495f881"
      },
      "outputs": [
        {
          "output_type": "execute_result",
          "data": {
            "text/plain": [
              "Index(['Country', 'Protest Name', 'Start Date', 'Freedom Rating (Status)',\n",
              "       'Triggers', 'Motivations', 'Peak Size', 'Key Participants', 'Duration',\n",
              "       'Outcomes', 'Active protests', 'Economic motivation?',\n",
              "       'Political motivation?', 'Corruption motivation?', 'Size category',\n",
              "       'Protests with a significant outcome',\n",
              "       'Large protests (Over 100,000 protesting)',\n",
              "       'Violent government response', 'Long protests (more than 3 months)',\n",
              "       'Coronavirus-related protests', 'Capital city', 'Days_of_duration',\n",
              "       'Type_of_partitipants', 'Degree_of_freedom', 'Size_in_1000',\n",
              "       'Population_in_1000', 'Protest/population_ratio'],\n",
              "      dtype='object')"
            ]
          },
          "metadata": {},
          "execution_count": 138
        }
      ],
      "source": [
        "protests.columns"
      ]
    },
    {
      "cell_type": "code",
      "execution_count": 139,
      "metadata": {
        "id": "l9WQJWBKyleI"
      },
      "outputs": [],
      "source": [
        "from sklearn.linear_model import LogisticRegression\n",
        "from sklearn.model_selection import train_test_split\n",
        "\n",
        "\n",
        "predictors = protests[[ 'Days_of_duration',\n",
        "       'Type_of_partitipants', 'Degree_of_freedom', 'Size_in_1000','Violent government response','Economic motivation?',\n",
        "       'Political motivation?', 'Corruption motivation?', 'Protest/population_ratio']]\n",
        "target = protests['Protests with a significant outcome']\n",
        "\n",
        "\n",
        "\n",
        "\n",
        "X_train, X_test, y_train, y_test = train_test_split(predictors, target, test_size = 0.3, random_state = 42)\n",
        "\n",
        "from sklearn.preprocessing import StandardScaler\n",
        "sc_X = StandardScaler()\n",
        "X_train2 = pd.DataFrame(sc_X.fit_transform(X_train))\n",
        "X_test2 = pd.DataFrame(sc_X.transform(X_test))\n",
        "X_train2.columns = X_train.columns.values\n",
        "X_test2.columns = X_test.columns.values\n",
        "X_train2.index = X_train.index.values\n",
        "X_test2.index = X_test.index.values\n",
        "X_train = X_train2\n",
        "X_test = X_test2"
      ]
    },
    {
      "cell_type": "code",
      "execution_count": 140,
      "metadata": {
        "colab": {
          "base_uri": "https://localhost:8080/"
        },
        "id": "nG_YqfMD0YoB",
        "outputId": "deea4330-367d-43b7-9684-adbecb814e71"
      },
      "outputs": [
        {
          "output_type": "stream",
          "name": "stdout",
          "text": [
            "Accuracy of logreg: 73.42 %\n"
          ]
        }
      ],
      "source": [
        "logreg = LogisticRegression()\n",
        "logreg.fit(X_train, y_train)\n",
        "y_pred = logreg.predict(X_test)\n",
        "acc_log = round(logreg.score(X_train, y_train)*100, 2)\n",
        "print('Accuracy of logreg:', acc_log,'%')"
      ]
    },
    {
      "cell_type": "code",
      "execution_count": 141,
      "metadata": {
        "colab": {
          "base_uri": "https://localhost:8080/",
          "height": 331
        },
        "id": "IflK-BS_1PS_",
        "outputId": "f671d3a0-3d22-4d56-a55a-aef7fdf0fea4"
      },
      "outputs": [
        {
          "output_type": "execute_result",
          "data": {
            "text/plain": [
              "                       Feature      Coef\n",
              "3                 Size_in_1000  0.343795\n",
              "7       Corruption motivation?  0.318183\n",
              "1         Type_of_partitipants  0.260365\n",
              "4  Violent government response  0.159284\n",
              "5         Economic motivation? -0.046568\n",
              "2            Degree_of_freedom -0.051636\n",
              "0             Days_of_duration -0.090685\n",
              "6        Political motivation? -0.320126\n",
              "8     Protest/population_ratio -0.624627"
            ],
            "text/html": [
              "\n",
              "  <div id=\"df-cc6375b1-fe20-4dc3-a71e-807a5fa22a5f\">\n",
              "    <div class=\"colab-df-container\">\n",
              "      <div>\n",
              "<style scoped>\n",
              "    .dataframe tbody tr th:only-of-type {\n",
              "        vertical-align: middle;\n",
              "    }\n",
              "\n",
              "    .dataframe tbody tr th {\n",
              "        vertical-align: top;\n",
              "    }\n",
              "\n",
              "    .dataframe thead th {\n",
              "        text-align: right;\n",
              "    }\n",
              "</style>\n",
              "<table border=\"1\" class=\"dataframe\">\n",
              "  <thead>\n",
              "    <tr style=\"text-align: right;\">\n",
              "      <th></th>\n",
              "      <th>Feature</th>\n",
              "      <th>Coef</th>\n",
              "    </tr>\n",
              "  </thead>\n",
              "  <tbody>\n",
              "    <tr>\n",
              "      <th>3</th>\n",
              "      <td>Size_in_1000</td>\n",
              "      <td>0.343795</td>\n",
              "    </tr>\n",
              "    <tr>\n",
              "      <th>7</th>\n",
              "      <td>Corruption motivation?</td>\n",
              "      <td>0.318183</td>\n",
              "    </tr>\n",
              "    <tr>\n",
              "      <th>1</th>\n",
              "      <td>Type_of_partitipants</td>\n",
              "      <td>0.260365</td>\n",
              "    </tr>\n",
              "    <tr>\n",
              "      <th>4</th>\n",
              "      <td>Violent government response</td>\n",
              "      <td>0.159284</td>\n",
              "    </tr>\n",
              "    <tr>\n",
              "      <th>5</th>\n",
              "      <td>Economic motivation?</td>\n",
              "      <td>-0.046568</td>\n",
              "    </tr>\n",
              "    <tr>\n",
              "      <th>2</th>\n",
              "      <td>Degree_of_freedom</td>\n",
              "      <td>-0.051636</td>\n",
              "    </tr>\n",
              "    <tr>\n",
              "      <th>0</th>\n",
              "      <td>Days_of_duration</td>\n",
              "      <td>-0.090685</td>\n",
              "    </tr>\n",
              "    <tr>\n",
              "      <th>6</th>\n",
              "      <td>Political motivation?</td>\n",
              "      <td>-0.320126</td>\n",
              "    </tr>\n",
              "    <tr>\n",
              "      <th>8</th>\n",
              "      <td>Protest/population_ratio</td>\n",
              "      <td>-0.624627</td>\n",
              "    </tr>\n",
              "  </tbody>\n",
              "</table>\n",
              "</div>\n",
              "      <button class=\"colab-df-convert\" onclick=\"convertToInteractive('df-cc6375b1-fe20-4dc3-a71e-807a5fa22a5f')\"\n",
              "              title=\"Convert this dataframe to an interactive table.\"\n",
              "              style=\"display:none;\">\n",
              "        \n",
              "  <svg xmlns=\"http://www.w3.org/2000/svg\" height=\"24px\"viewBox=\"0 0 24 24\"\n",
              "       width=\"24px\">\n",
              "    <path d=\"M0 0h24v24H0V0z\" fill=\"none\"/>\n",
              "    <path d=\"M18.56 5.44l.94 2.06.94-2.06 2.06-.94-2.06-.94-.94-2.06-.94 2.06-2.06.94zm-11 1L8.5 8.5l.94-2.06 2.06-.94-2.06-.94L8.5 2.5l-.94 2.06-2.06.94zm10 10l.94 2.06.94-2.06 2.06-.94-2.06-.94-.94-2.06-.94 2.06-2.06.94z\"/><path d=\"M17.41 7.96l-1.37-1.37c-.4-.4-.92-.59-1.43-.59-.52 0-1.04.2-1.43.59L10.3 9.45l-7.72 7.72c-.78.78-.78 2.05 0 2.83L4 21.41c.39.39.9.59 1.41.59.51 0 1.02-.2 1.41-.59l7.78-7.78 2.81-2.81c.8-.78.8-2.07 0-2.86zM5.41 20L4 18.59l7.72-7.72 1.47 1.35L5.41 20z\"/>\n",
              "  </svg>\n",
              "      </button>\n",
              "      \n",
              "  <style>\n",
              "    .colab-df-container {\n",
              "      display:flex;\n",
              "      flex-wrap:wrap;\n",
              "      gap: 12px;\n",
              "    }\n",
              "\n",
              "    .colab-df-convert {\n",
              "      background-color: #E8F0FE;\n",
              "      border: none;\n",
              "      border-radius: 50%;\n",
              "      cursor: pointer;\n",
              "      display: none;\n",
              "      fill: #1967D2;\n",
              "      height: 32px;\n",
              "      padding: 0 0 0 0;\n",
              "      width: 32px;\n",
              "    }\n",
              "\n",
              "    .colab-df-convert:hover {\n",
              "      background-color: #E2EBFA;\n",
              "      box-shadow: 0px 1px 2px rgba(60, 64, 67, 0.3), 0px 1px 3px 1px rgba(60, 64, 67, 0.15);\n",
              "      fill: #174EA6;\n",
              "    }\n",
              "\n",
              "    [theme=dark] .colab-df-convert {\n",
              "      background-color: #3B4455;\n",
              "      fill: #D2E3FC;\n",
              "    }\n",
              "\n",
              "    [theme=dark] .colab-df-convert:hover {\n",
              "      background-color: #434B5C;\n",
              "      box-shadow: 0px 1px 3px 1px rgba(0, 0, 0, 0.15);\n",
              "      filter: drop-shadow(0px 1px 2px rgba(0, 0, 0, 0.3));\n",
              "      fill: #FFFFFF;\n",
              "    }\n",
              "  </style>\n",
              "\n",
              "      <script>\n",
              "        const buttonEl =\n",
              "          document.querySelector('#df-cc6375b1-fe20-4dc3-a71e-807a5fa22a5f button.colab-df-convert');\n",
              "        buttonEl.style.display =\n",
              "          google.colab.kernel.accessAllowed ? 'block' : 'none';\n",
              "\n",
              "        async function convertToInteractive(key) {\n",
              "          const element = document.querySelector('#df-cc6375b1-fe20-4dc3-a71e-807a5fa22a5f');\n",
              "          const dataTable =\n",
              "            await google.colab.kernel.invokeFunction('convertToInteractive',\n",
              "                                                     [key], {});\n",
              "          if (!dataTable) return;\n",
              "\n",
              "          const docLinkHtml = 'Like what you see? Visit the ' +\n",
              "            '<a target=\"_blank\" href=https://colab.research.google.com/notebooks/data_table.ipynb>data table notebook</a>'\n",
              "            + ' to learn more about interactive tables.';\n",
              "          element.innerHTML = '';\n",
              "          dataTable['output_type'] = 'display_data';\n",
              "          await google.colab.output.renderOutput(dataTable, element);\n",
              "          const docLink = document.createElement('div');\n",
              "          docLink.innerHTML = docLinkHtml;\n",
              "          element.appendChild(docLink);\n",
              "        }\n",
              "      </script>\n",
              "    </div>\n",
              "  </div>\n",
              "  "
            ]
          },
          "metadata": {},
          "execution_count": 141
        }
      ],
      "source": [
        "train_df = protests[[ 'Protests with a significant outcome','Days_of_duration',\n",
        "       'Type_of_partitipants', 'Degree_of_freedom', 'Size_in_1000','Violent government response','Economic motivation?',\n",
        "       'Political motivation?', 'Corruption motivation?', 'Protest/population_ratio']]\n",
        "\n",
        "coef_df = pd.DataFrame(train_df.columns.delete(0))\n",
        "coef_df.columns = ['Feature']\n",
        "coef_df['Coef'] = pd.Series(logreg.coef_[0])\n",
        "coef_df.sort_values(by='Coef', ascending=False)"
      ]
    },
    {
      "cell_type": "code",
      "execution_count": 142,
      "metadata": {
        "colab": {
          "base_uri": "https://localhost:8080/",
          "height": 513
        },
        "id": "zczfbqAE2J4m",
        "outputId": "030d657a-942d-436a-bbf7-829b58cca86f"
      },
      "outputs": [
        {
          "output_type": "execute_result",
          "data": {
            "text/plain": [
              "                                     Protests with a significant outcome  \\\n",
              "Protests with a significant outcome                             1.000000   \n",
              "Days_of_duration                                                0.024877   \n",
              "Type_of_partitipants                                            0.100115   \n",
              "Degree_of_freedom                                              -0.011181   \n",
              "Size_in_1000                                                    0.172086   \n",
              "Violent government response                                     0.051169   \n",
              "Economic motivation?                                            0.109313   \n",
              "Political motivation?                                          -0.110651   \n",
              "Corruption motivation?                                          0.152175   \n",
              "Protest/population_ratio                                       -0.069230   \n",
              "\n",
              "                                     Days_of_duration  Type_of_partitipants  \\\n",
              "Protests with a significant outcome          0.024877              0.100115   \n",
              "Days_of_duration                             1.000000             -0.046309   \n",
              "Type_of_partitipants                        -0.046309              1.000000   \n",
              "Degree_of_freedom                            0.028636              0.018898   \n",
              "Size_in_1000                                 0.205829              0.044733   \n",
              "Violent government response                  0.124063             -0.008814   \n",
              "Economic motivation?                         0.098282              0.122607   \n",
              "Political motivation?                       -0.025041             -0.096404   \n",
              "Corruption motivation?                       0.028175              0.010088   \n",
              "Protest/population_ratio                    -0.037778             -0.047247   \n",
              "\n",
              "                                     Degree_of_freedom  Size_in_1000  \\\n",
              "Protests with a significant outcome          -0.011181      0.172086   \n",
              "Days_of_duration                              0.028636      0.205829   \n",
              "Type_of_partitipants                          0.018898      0.044733   \n",
              "Degree_of_freedom                             1.000000      0.026300   \n",
              "Size_in_1000                                  0.026300      1.000000   \n",
              "Violent government response                  -0.098312      0.066656   \n",
              "Economic motivation?                         -0.049506      0.145928   \n",
              "Political motivation?                        -0.006431      0.007227   \n",
              "Corruption motivation?                       -0.091440      0.205388   \n",
              "Protest/population_ratio                      0.038106      0.287054   \n",
              "\n",
              "                                     Violent government response  \\\n",
              "Protests with a significant outcome                     0.051169   \n",
              "Days_of_duration                                        0.124063   \n",
              "Type_of_partitipants                                   -0.008814   \n",
              "Degree_of_freedom                                      -0.098312   \n",
              "Size_in_1000                                            0.066656   \n",
              "Violent government response                             1.000000   \n",
              "Economic motivation?                                   -0.001483   \n",
              "Political motivation?                                   0.070226   \n",
              "Corruption motivation?                                 -0.058414   \n",
              "Protest/population_ratio                               -0.041554   \n",
              "\n",
              "                                     Economic motivation?  \\\n",
              "Protests with a significant outcome              0.109313   \n",
              "Days_of_duration                                 0.098282   \n",
              "Type_of_partitipants                             0.122607   \n",
              "Degree_of_freedom                               -0.049506   \n",
              "Size_in_1000                                     0.145928   \n",
              "Violent government response                     -0.001483   \n",
              "Economic motivation?                             1.000000   \n",
              "Political motivation?                           -0.402301   \n",
              "Corruption motivation?                           0.111906   \n",
              "Protest/population_ratio                         0.106435   \n",
              "\n",
              "                                     Political motivation?  \\\n",
              "Protests with a significant outcome              -0.110651   \n",
              "Days_of_duration                                 -0.025041   \n",
              "Type_of_partitipants                             -0.096404   \n",
              "Degree_of_freedom                                -0.006431   \n",
              "Size_in_1000                                      0.007227   \n",
              "Violent government response                       0.070226   \n",
              "Economic motivation?                             -0.402301   \n",
              "Political motivation?                             1.000000   \n",
              "Corruption motivation?                           -0.035841   \n",
              "Protest/population_ratio                         -0.022611   \n",
              "\n",
              "                                     Corruption motivation?  \\\n",
              "Protests with a significant outcome                0.152175   \n",
              "Days_of_duration                                   0.028175   \n",
              "Type_of_partitipants                               0.010088   \n",
              "Degree_of_freedom                                 -0.091440   \n",
              "Size_in_1000                                       0.205388   \n",
              "Violent government response                       -0.058414   \n",
              "Economic motivation?                               0.111906   \n",
              "Political motivation?                             -0.035841   \n",
              "Corruption motivation?                             1.000000   \n",
              "Protest/population_ratio                          -0.039536   \n",
              "\n",
              "                                     Protest/population_ratio  \n",
              "Protests with a significant outcome                 -0.069230  \n",
              "Days_of_duration                                    -0.037778  \n",
              "Type_of_partitipants                                -0.047247  \n",
              "Degree_of_freedom                                    0.038106  \n",
              "Size_in_1000                                         0.287054  \n",
              "Violent government response                         -0.041554  \n",
              "Economic motivation?                                 0.106435  \n",
              "Political motivation?                               -0.022611  \n",
              "Corruption motivation?                              -0.039536  \n",
              "Protest/population_ratio                             1.000000  "
            ],
            "text/html": [
              "\n",
              "  <div id=\"df-dbdd1731-8a4f-46a8-bded-34a060b2948d\">\n",
              "    <div class=\"colab-df-container\">\n",
              "      <div>\n",
              "<style scoped>\n",
              "    .dataframe tbody tr th:only-of-type {\n",
              "        vertical-align: middle;\n",
              "    }\n",
              "\n",
              "    .dataframe tbody tr th {\n",
              "        vertical-align: top;\n",
              "    }\n",
              "\n",
              "    .dataframe thead th {\n",
              "        text-align: right;\n",
              "    }\n",
              "</style>\n",
              "<table border=\"1\" class=\"dataframe\">\n",
              "  <thead>\n",
              "    <tr style=\"text-align: right;\">\n",
              "      <th></th>\n",
              "      <th>Protests with a significant outcome</th>\n",
              "      <th>Days_of_duration</th>\n",
              "      <th>Type_of_partitipants</th>\n",
              "      <th>Degree_of_freedom</th>\n",
              "      <th>Size_in_1000</th>\n",
              "      <th>Violent government response</th>\n",
              "      <th>Economic motivation?</th>\n",
              "      <th>Political motivation?</th>\n",
              "      <th>Corruption motivation?</th>\n",
              "      <th>Protest/population_ratio</th>\n",
              "    </tr>\n",
              "  </thead>\n",
              "  <tbody>\n",
              "    <tr>\n",
              "      <th>Protests with a significant outcome</th>\n",
              "      <td>1.000000</td>\n",
              "      <td>0.024877</td>\n",
              "      <td>0.100115</td>\n",
              "      <td>-0.011181</td>\n",
              "      <td>0.172086</td>\n",
              "      <td>0.051169</td>\n",
              "      <td>0.109313</td>\n",
              "      <td>-0.110651</td>\n",
              "      <td>0.152175</td>\n",
              "      <td>-0.069230</td>\n",
              "    </tr>\n",
              "    <tr>\n",
              "      <th>Days_of_duration</th>\n",
              "      <td>0.024877</td>\n",
              "      <td>1.000000</td>\n",
              "      <td>-0.046309</td>\n",
              "      <td>0.028636</td>\n",
              "      <td>0.205829</td>\n",
              "      <td>0.124063</td>\n",
              "      <td>0.098282</td>\n",
              "      <td>-0.025041</td>\n",
              "      <td>0.028175</td>\n",
              "      <td>-0.037778</td>\n",
              "    </tr>\n",
              "    <tr>\n",
              "      <th>Type_of_partitipants</th>\n",
              "      <td>0.100115</td>\n",
              "      <td>-0.046309</td>\n",
              "      <td>1.000000</td>\n",
              "      <td>0.018898</td>\n",
              "      <td>0.044733</td>\n",
              "      <td>-0.008814</td>\n",
              "      <td>0.122607</td>\n",
              "      <td>-0.096404</td>\n",
              "      <td>0.010088</td>\n",
              "      <td>-0.047247</td>\n",
              "    </tr>\n",
              "    <tr>\n",
              "      <th>Degree_of_freedom</th>\n",
              "      <td>-0.011181</td>\n",
              "      <td>0.028636</td>\n",
              "      <td>0.018898</td>\n",
              "      <td>1.000000</td>\n",
              "      <td>0.026300</td>\n",
              "      <td>-0.098312</td>\n",
              "      <td>-0.049506</td>\n",
              "      <td>-0.006431</td>\n",
              "      <td>-0.091440</td>\n",
              "      <td>0.038106</td>\n",
              "    </tr>\n",
              "    <tr>\n",
              "      <th>Size_in_1000</th>\n",
              "      <td>0.172086</td>\n",
              "      <td>0.205829</td>\n",
              "      <td>0.044733</td>\n",
              "      <td>0.026300</td>\n",
              "      <td>1.000000</td>\n",
              "      <td>0.066656</td>\n",
              "      <td>0.145928</td>\n",
              "      <td>0.007227</td>\n",
              "      <td>0.205388</td>\n",
              "      <td>0.287054</td>\n",
              "    </tr>\n",
              "    <tr>\n",
              "      <th>Violent government response</th>\n",
              "      <td>0.051169</td>\n",
              "      <td>0.124063</td>\n",
              "      <td>-0.008814</td>\n",
              "      <td>-0.098312</td>\n",
              "      <td>0.066656</td>\n",
              "      <td>1.000000</td>\n",
              "      <td>-0.001483</td>\n",
              "      <td>0.070226</td>\n",
              "      <td>-0.058414</td>\n",
              "      <td>-0.041554</td>\n",
              "    </tr>\n",
              "    <tr>\n",
              "      <th>Economic motivation?</th>\n",
              "      <td>0.109313</td>\n",
              "      <td>0.098282</td>\n",
              "      <td>0.122607</td>\n",
              "      <td>-0.049506</td>\n",
              "      <td>0.145928</td>\n",
              "      <td>-0.001483</td>\n",
              "      <td>1.000000</td>\n",
              "      <td>-0.402301</td>\n",
              "      <td>0.111906</td>\n",
              "      <td>0.106435</td>\n",
              "    </tr>\n",
              "    <tr>\n",
              "      <th>Political motivation?</th>\n",
              "      <td>-0.110651</td>\n",
              "      <td>-0.025041</td>\n",
              "      <td>-0.096404</td>\n",
              "      <td>-0.006431</td>\n",
              "      <td>0.007227</td>\n",
              "      <td>0.070226</td>\n",
              "      <td>-0.402301</td>\n",
              "      <td>1.000000</td>\n",
              "      <td>-0.035841</td>\n",
              "      <td>-0.022611</td>\n",
              "    </tr>\n",
              "    <tr>\n",
              "      <th>Corruption motivation?</th>\n",
              "      <td>0.152175</td>\n",
              "      <td>0.028175</td>\n",
              "      <td>0.010088</td>\n",
              "      <td>-0.091440</td>\n",
              "      <td>0.205388</td>\n",
              "      <td>-0.058414</td>\n",
              "      <td>0.111906</td>\n",
              "      <td>-0.035841</td>\n",
              "      <td>1.000000</td>\n",
              "      <td>-0.039536</td>\n",
              "    </tr>\n",
              "    <tr>\n",
              "      <th>Protest/population_ratio</th>\n",
              "      <td>-0.069230</td>\n",
              "      <td>-0.037778</td>\n",
              "      <td>-0.047247</td>\n",
              "      <td>0.038106</td>\n",
              "      <td>0.287054</td>\n",
              "      <td>-0.041554</td>\n",
              "      <td>0.106435</td>\n",
              "      <td>-0.022611</td>\n",
              "      <td>-0.039536</td>\n",
              "      <td>1.000000</td>\n",
              "    </tr>\n",
              "  </tbody>\n",
              "</table>\n",
              "</div>\n",
              "      <button class=\"colab-df-convert\" onclick=\"convertToInteractive('df-dbdd1731-8a4f-46a8-bded-34a060b2948d')\"\n",
              "              title=\"Convert this dataframe to an interactive table.\"\n",
              "              style=\"display:none;\">\n",
              "        \n",
              "  <svg xmlns=\"http://www.w3.org/2000/svg\" height=\"24px\"viewBox=\"0 0 24 24\"\n",
              "       width=\"24px\">\n",
              "    <path d=\"M0 0h24v24H0V0z\" fill=\"none\"/>\n",
              "    <path d=\"M18.56 5.44l.94 2.06.94-2.06 2.06-.94-2.06-.94-.94-2.06-.94 2.06-2.06.94zm-11 1L8.5 8.5l.94-2.06 2.06-.94-2.06-.94L8.5 2.5l-.94 2.06-2.06.94zm10 10l.94 2.06.94-2.06 2.06-.94-2.06-.94-.94-2.06-.94 2.06-2.06.94z\"/><path d=\"M17.41 7.96l-1.37-1.37c-.4-.4-.92-.59-1.43-.59-.52 0-1.04.2-1.43.59L10.3 9.45l-7.72 7.72c-.78.78-.78 2.05 0 2.83L4 21.41c.39.39.9.59 1.41.59.51 0 1.02-.2 1.41-.59l7.78-7.78 2.81-2.81c.8-.78.8-2.07 0-2.86zM5.41 20L4 18.59l7.72-7.72 1.47 1.35L5.41 20z\"/>\n",
              "  </svg>\n",
              "      </button>\n",
              "      \n",
              "  <style>\n",
              "    .colab-df-container {\n",
              "      display:flex;\n",
              "      flex-wrap:wrap;\n",
              "      gap: 12px;\n",
              "    }\n",
              "\n",
              "    .colab-df-convert {\n",
              "      background-color: #E8F0FE;\n",
              "      border: none;\n",
              "      border-radius: 50%;\n",
              "      cursor: pointer;\n",
              "      display: none;\n",
              "      fill: #1967D2;\n",
              "      height: 32px;\n",
              "      padding: 0 0 0 0;\n",
              "      width: 32px;\n",
              "    }\n",
              "\n",
              "    .colab-df-convert:hover {\n",
              "      background-color: #E2EBFA;\n",
              "      box-shadow: 0px 1px 2px rgba(60, 64, 67, 0.3), 0px 1px 3px 1px rgba(60, 64, 67, 0.15);\n",
              "      fill: #174EA6;\n",
              "    }\n",
              "\n",
              "    [theme=dark] .colab-df-convert {\n",
              "      background-color: #3B4455;\n",
              "      fill: #D2E3FC;\n",
              "    }\n",
              "\n",
              "    [theme=dark] .colab-df-convert:hover {\n",
              "      background-color: #434B5C;\n",
              "      box-shadow: 0px 1px 3px 1px rgba(0, 0, 0, 0.15);\n",
              "      filter: drop-shadow(0px 1px 2px rgba(0, 0, 0, 0.3));\n",
              "      fill: #FFFFFF;\n",
              "    }\n",
              "  </style>\n",
              "\n",
              "      <script>\n",
              "        const buttonEl =\n",
              "          document.querySelector('#df-dbdd1731-8a4f-46a8-bded-34a060b2948d button.colab-df-convert');\n",
              "        buttonEl.style.display =\n",
              "          google.colab.kernel.accessAllowed ? 'block' : 'none';\n",
              "\n",
              "        async function convertToInteractive(key) {\n",
              "          const element = document.querySelector('#df-dbdd1731-8a4f-46a8-bded-34a060b2948d');\n",
              "          const dataTable =\n",
              "            await google.colab.kernel.invokeFunction('convertToInteractive',\n",
              "                                                     [key], {});\n",
              "          if (!dataTable) return;\n",
              "\n",
              "          const docLinkHtml = 'Like what you see? Visit the ' +\n",
              "            '<a target=\"_blank\" href=https://colab.research.google.com/notebooks/data_table.ipynb>data table notebook</a>'\n",
              "            + ' to learn more about interactive tables.';\n",
              "          element.innerHTML = '';\n",
              "          dataTable['output_type'] = 'display_data';\n",
              "          await google.colab.output.renderOutput(dataTable, element);\n",
              "          const docLink = document.createElement('div');\n",
              "          docLink.innerHTML = docLinkHtml;\n",
              "          element.appendChild(docLink);\n",
              "        }\n",
              "      </script>\n",
              "    </div>\n",
              "  </div>\n",
              "  "
            ]
          },
          "metadata": {},
          "execution_count": 142
        }
      ],
      "source": [
        "train_df.corr()"
      ]
    },
    {
      "cell_type": "code",
      "execution_count": 143,
      "metadata": {
        "colab": {
          "base_uri": "https://localhost:8080/"
        },
        "id": "EmSS-8cZw_Rh",
        "outputId": "ef2227a2-0584-4fa1-c32b-d377b8674032"
      },
      "outputs": [
        {
          "output_type": "execute_result",
          "data": {
            "text/plain": [
              "(96,)"
            ]
          },
          "metadata": {},
          "execution_count": 143
        }
      ],
      "source": [
        "y_test.shape"
      ]
    },
    {
      "cell_type": "code",
      "execution_count": 144,
      "metadata": {
        "colab": {
          "base_uri": "https://localhost:8080/"
        },
        "id": "OmL-wpprwbAq",
        "outputId": "a46f0a74-6f9a-4c83-e851-5e85e9510a3e"
      },
      "outputs": [
        {
          "output_type": "stream",
          "name": "stdout",
          "text": [
            "[[59  6]\n",
            " [26  5]]\n"
          ]
        }
      ],
      "source": [
        "from sklearn.metrics import confusion_matrix\n",
        "confmatrix = confusion_matrix(y_test, y_pred)\n",
        "print(confmatrix)"
      ]
    },
    {
      "cell_type": "code",
      "execution_count": 145,
      "metadata": {
        "colab": {
          "base_uri": "https://localhost:8080/"
        },
        "id": "jaJO9AAIxHuA",
        "outputId": "dca490d2-8ab4-4096-d9d4-6c002fb16641"
      },
      "outputs": [
        {
          "output_type": "stream",
          "name": "stdout",
          "text": [
            "              precision    recall  f1-score   support\n",
            "\n",
            "           0       0.69      0.91      0.79        65\n",
            "           1       0.45      0.16      0.24        31\n",
            "\n",
            "    accuracy                           0.67        96\n",
            "   macro avg       0.57      0.53      0.51        96\n",
            "weighted avg       0.62      0.67      0.61        96\n",
            "\n"
          ]
        }
      ],
      "source": [
        "from sklearn.metrics import classification_report\n",
        "print(classification_report(y_test, y_pred))"
      ]
    },
    {
      "cell_type": "code",
      "execution_count": 146,
      "metadata": {
        "id": "FtuN92W04jps"
      },
      "outputs": [],
      "source": [
        "import numpy as np\n",
        "from scipy import stats\n",
        "t = protests[['Protests with a significant outcome','Days_of_duration',\n",
        "       'Type_of_partitipants', 'Degree_of_freedom', 'Size_in_1000','Violent government response','Economic motivation?',\n",
        "       'Political motivation?', 'Corruption motivation?', 'Protest/population_ratio']]\n",
        "t = t[(np.abs(stats.zscore(t)) < 3).all(axis=1)]\n",
        "predictors = t.drop('Protests with a significant outcome', axis = 1)\n",
        "targ = t['Protests with a significant outcome']\n"
      ]
    },
    {
      "cell_type": "code",
      "execution_count": 147,
      "metadata": {
        "colab": {
          "base_uri": "https://localhost:8080/"
        },
        "id": "D8b-AiiO5yFs",
        "outputId": "d6b06e97-4921-4109-ec89-1fa00bd72ebd"
      },
      "outputs": [
        {
          "output_type": "stream",
          "name": "stdout",
          "text": [
            "Accuracy of logreg: 73.36 %\n"
          ]
        },
        {
          "output_type": "stream",
          "name": "stderr",
          "text": [
            "/usr/local/lib/python3.7/dist-packages/sklearn/linear_model/_logistic.py:818: ConvergenceWarning: lbfgs failed to converge (status=1):\n",
            "STOP: TOTAL NO. of ITERATIONS REACHED LIMIT.\n",
            "\n",
            "Increase the number of iterations (max_iter) or scale the data as shown in:\n",
            "    https://scikit-learn.org/stable/modules/preprocessing.html\n",
            "Please also refer to the documentation for alternative solver options:\n",
            "    https://scikit-learn.org/stable/modules/linear_model.html#logistic-regression\n",
            "  extra_warning_msg=_LOGISTIC_SOLVER_CONVERGENCE_MSG,\n"
          ]
        }
      ],
      "source": [
        "X_train, X_test, y_train, y_test = train_test_split(predictors, targ, test_size = 0.3, random_state = 42)\n",
        "logreg = LogisticRegression()\n",
        "logreg.fit(X_train, y_train)\n",
        "y_pred = logreg.predict(X_test)\n",
        "acc_log = round(logreg.score(X_train, y_train)*100, 2)\n",
        "print('Accuracy of logreg:', acc_log,'%')"
      ]
    },
    {
      "cell_type": "code",
      "execution_count": 148,
      "metadata": {
        "colab": {
          "base_uri": "https://localhost:8080/"
        },
        "id": "a8HGWmlJ6Fcw",
        "outputId": "dd349cdc-0728-41ef-a401-4e300d768fa8"
      },
      "outputs": [
        {
          "output_type": "stream",
          "name": "stdout",
          "text": [
            "[[60  6]\n",
            " [22  4]]\n"
          ]
        }
      ],
      "source": [
        "from sklearn.metrics import confusion_matrix\n",
        "confmatrix = confusion_matrix(y_test, y_pred)\n",
        "print(confmatrix)"
      ]
    },
    {
      "cell_type": "code",
      "execution_count": 149,
      "metadata": {
        "colab": {
          "base_uri": "https://localhost:8080/"
        },
        "id": "2oAmlcDC7xOt",
        "outputId": "91c28f3e-0870-455a-cf72-9e3e23ae53ba"
      },
      "outputs": [
        {
          "output_type": "execute_result",
          "data": {
            "text/plain": [
              "189    0\n",
              "161    0\n",
              "118    0\n",
              "210    0\n",
              "64     1\n",
              "9      0\n",
              "126    0\n",
              "164    1\n",
              "174    0\n",
              "37     1\n",
              "5      0\n",
              "105    0\n",
              "49     0\n",
              "184    0\n",
              "125    0\n",
              "50     1\n",
              "132    1\n",
              "202    1\n",
              "263    0\n",
              "150    0\n",
              "243    0\n",
              "284    0\n",
              "260    0\n",
              "29     0\n",
              "154    0\n",
              "235    0\n",
              "3      1\n",
              "77     0\n",
              "297    1\n",
              "116    0\n",
              "Name: Protests with a significant outcome, dtype: int64"
            ]
          },
          "metadata": {},
          "execution_count": 149
        }
      ],
      "source": [
        "y_test.head(30)"
      ]
    },
    {
      "cell_type": "code",
      "execution_count": 150,
      "metadata": {
        "colab": {
          "base_uri": "https://localhost:8080/"
        },
        "id": "sCoHm6lk7318",
        "outputId": "19f8aa9c-8a71-4087-d1e8-9eb262a4818c"
      },
      "outputs": [
        {
          "output_type": "execute_result",
          "data": {
            "text/plain": [
              "array([0, 0, 0, 0, 1, 0, 1, 0, 0, 0, 0, 0, 0, 0, 0, 0, 0, 0, 0, 0, 0, 0,\n",
              "       0, 0, 0, 1, 0, 0, 0, 0, 0, 0, 0, 0, 0, 0, 0, 1, 0, 1, 0, 1, 0, 0,\n",
              "       0, 0, 0, 0, 0, 0, 0, 0, 0, 0, 1, 0, 1, 0, 0, 0, 0, 0, 1, 0, 0, 0,\n",
              "       0, 1, 0, 0, 0, 0, 0, 0, 0, 0, 0, 0, 0, 0, 0, 0, 0, 0, 0, 0, 0, 0,\n",
              "       0, 0, 0, 0])"
            ]
          },
          "metadata": {},
          "execution_count": 150
        }
      ],
      "source": [
        "y_pred"
      ]
    }
  ],
  "metadata": {
    "colab": {
      "collapsed_sections": [],
      "provenance": [],
      "authorship_tag": "ABX9TyPbXuKmVwvG8zHlM3XkmoXs",
      "include_colab_link": true
    },
    "kernelspec": {
      "display_name": "Python 3",
      "name": "python3"
    },
    "language_info": {
      "name": "python"
    }
  },
  "nbformat": 4,
  "nbformat_minor": 0
}